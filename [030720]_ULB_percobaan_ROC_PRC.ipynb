{
  "nbformat": 4,
  "nbformat_minor": 0,
  "metadata": {
    "colab": {
      "name": "[050819] ULB-percobaan-ROC_PRC.ipynb",
      "provenance": [],
      "collapsed_sections": [],
      "include_colab_link": true
    },
    "language_info": {
      "codemirror_mode": {
        "name": "ipython",
        "version": 3
      },
      "file_extension": ".py",
      "mimetype": "text/x-python",
      "name": "python",
      "nbconvert_exporter": "python",
      "pygments_lexer": "ipython3",
      "version": "3.6.5"
    },
    "kernelspec": {
      "name": "python3",
      "display_name": "Python 3"
    },
    "accelerator": "GPU"
  },
  "cells": [
    {
      "cell_type": "markdown",
      "metadata": {
        "id": "view-in-github",
        "colab_type": "text"
      },
      "source": [
        "<a href=\"https://colab.research.google.com/github/BagusDAriAwan/iForest-fraud-detection/blob/master/%5B030720%5D_ULB_percobaan_ROC_PRC.ipynb\" target=\"_parent\"><img src=\"https://colab.research.google.com/assets/colab-badge.svg\" alt=\"Open In Colab\"/></a>"
      ]
    },
    {
      "cell_type": "code",
      "metadata": {
        "id": "Pv-1fOVYc8yk",
        "colab_type": "code",
        "colab": {}
      },
      "source": [
        "import pandas as pd\n",
        "import numpy as np\n",
        "import math\n",
        "import random as rn\n",
        "%matplotlib inline\n",
        "import matplotlib.pyplot as plt\n",
        "import seaborn as sb\n",
        "sb.set_style(style=\"whitegrid\")\n",
        "sb.set_color_codes()\n",
        "from sklearn.model_selection import train_test_split\n",
        "from sklearn.metrics import confusion_matrix\n",
        "from sklearn.metrics import f1_score\n",
        "from sklearn.ensemble import IsolationForest\n",
        "from sklearn.decomposition import PCA\n",
        "from sklearn.preprocessing import Normalizer, MinMaxScaler\n",
        "from sklearn.cluster import KMeans\n",
        "import time\n",
        "from sklearn.metrics import roc_auc_score\n",
        "from sklearn.metrics import average_precision_score"
      ],
      "execution_count": 0,
      "outputs": []
    },
    {
      "cell_type": "code",
      "metadata": {
        "id": "KMqevhbzipKa",
        "colab_type": "code",
        "outputId": "52e7a521-e8a4-4ce6-a247-302b9fdb4306",
        "colab": {
          "base_uri": "https://localhost:8080/",
          "height": 34
        }
      },
      "source": [
        "from google.colab import drive\n",
        "drive.mount('/content/drive')"
      ],
      "execution_count": 0,
      "outputs": [
        {
          "output_type": "stream",
          "text": [
            "Drive already mounted at /content/drive; to attempt to forcibly remount, call drive.mount(\"/content/drive\", force_remount=True).\n"
          ],
          "name": "stdout"
        }
      ]
    },
    {
      "cell_type": "code",
      "metadata": {
        "id": "cttlvXAueL2f",
        "colab_type": "code",
        "colab": {}
      },
      "source": [
        "def confussion_matrik(actual,predict):\n",
        "    TP,FP,FN,TN = 0,0,0,0\n",
        "    for i,val in enumerate(actual):\n",
        "        if val == 0:\n",
        "            if val == predict[i]:\n",
        "                TN += 1\n",
        "            else:\n",
        "                FP += 1\n",
        "        if val == 1:\n",
        "            if val == predict[i]:\n",
        "                TP += 1\n",
        "            else:\n",
        "                FN += 1\n",
        "    return TP,FP,FN,TN\n",
        " \n",
        "def acc_sens_spec(actual,predict):\n",
        "    TP,FP,FN,TN = confussion_matrik(actual,predict)\n",
        "    if (TP+FP+FN+TN) == 0 :\n",
        "        accuracy = 0 \n",
        "    else :\n",
        "        accuracy = (TP+TN)/(TP+FP+FN+TN)\n",
        "        \n",
        "# sensitivity\n",
        "    if (TP+FN) == 0 :\n",
        "        sensitivity = 0\n",
        "    else :\n",
        "        sensitivity = TP/(TP+FN)\n",
        "        \n",
        "# specifity    \n",
        "    if (TN +FP) == 0 :\n",
        "        specifity = 0\n",
        "    else :\n",
        "        specifity = TN/(TN +FP)\n",
        "        \n",
        "# precision\n",
        "    if (TP+FP) == 0 :\n",
        "        precision = 0\n",
        "    else :\n",
        "        precision = TP/(TP+FP)\n",
        "\n",
        "# recall\n",
        "    recall = sensitivity\n",
        "\n",
        "# f1_score\n",
        "    if (precision+recall) == 0 :\n",
        "        f1_score = 0\n",
        "    else :\n",
        "        f1_score = 2*((precision*recall)/(precision+recall))  \n",
        "    \n",
        "    return accuracy,sensitivity,specifity,precision,recall,f1_score\n",
        "  \n",
        "def metric_evaluasi(actual,predict):\n",
        "    TP,FP,FN,TN = confussion_matrik(actual,predict)\n",
        "# sensitivity\n",
        "    if (TP+FN) == 0 :\n",
        "        sensitivity = 0\n",
        "    else :\n",
        "        sensitivity = TP/(TP+FN)\n",
        "# precision\n",
        "    if (TP+FP) == 0 :\n",
        "        precision = 0\n",
        "    else :\n",
        "        precision = TP/(TP+FP)\n",
        "\n",
        "# recall\n",
        "    recall = sensitivity\n",
        "\n",
        "# f1_score\n",
        "    if (precision+recall) == 0 :\n",
        "        f1_score = 0\n",
        "    else :\n",
        "        f1_score = 2*((precision*recall)/(precision+recall))  \n",
        "    \n",
        "    return precision,recall,f1_score\n"
      ],
      "execution_count": 0,
      "outputs": []
    },
    {
      "cell_type": "code",
      "metadata": {
        "id": "zd7Mapw3eR-l",
        "colab_type": "code",
        "colab": {}
      },
      "source": [
        "def convert(y):\n",
        "    for i in range(y.shape[0]):\n",
        "        if y[i]==-1:\n",
        "            y[i]=1;\n",
        "        else:\n",
        "            y[i]=0\n",
        "    return y"
      ],
      "execution_count": 0,
      "outputs": []
    },
    {
      "cell_type": "code",
      "metadata": {
        "id": "v8J0X3TWeWsJ",
        "colab_type": "code",
        "colab": {}
      },
      "source": [
        "def model_evaluate(ifor,X,y):\n",
        "    ts = time.time()\n",
        "    y_pred=ifor.predict(X)\n",
        "    tf = time.time()\n",
        "    print('time : ', tf-ts)\n",
        "    y_pred=convert(y_pred)\n",
        "    \n",
        "    accuracy,sensitivity,specifity,precision,recall,f1_score = acc_sens_spec(y,y_pred)\n",
        "    print('accuracy : ',accuracy)\n",
        "    print('sensitivity : ',sensitivity)\n",
        "    print('specifity : ', specifity)\n",
        "    print('precision : ',precision)\n",
        "    print('recall : ',recall)\n",
        "    print('f1 score : ',f1_score)\n",
        "    print('Confusion matrix')\n",
        "    TP,FP,FN,TN = confussion_matrik(y,y_pred)\n",
        "    print('TP = ',TP,'FP = ',FP,'FN = ',FN,'TN = ',TN)\n",
        "    df_cm = pd.DataFrame([[TN,FP],[FN,TP]],\n",
        "                  ['True Normal','True Fraud'],['Pred Normal','Pred Fraud'])\n",
        "    plt.figure(figsize = (8,4))\n",
        "    sb.set(font_scale=1.4)#for label size\n",
        "    sb.heatmap(df_cm, annot=True,annot_kws={\"size\": 16},fmt='g')# font size"
      ],
      "execution_count": 0,
      "outputs": []
    },
    {
      "cell_type": "code",
      "metadata": {
        "id": "u-qhTmOaeYnE",
        "colab_type": "code",
        "colab": {}
      },
      "source": [
        "def iForest(X, ntree, sample, th):\n",
        "    ifor = IsolationForest(n_estimators=ntree, max_samples=sample, contamination=th, behaviour=\"new\",random_state=1)\n",
        "#     ifor = IsolationForest(n_estimators=100, max_samples='auto', contamination=0.0039, max_features=1.0, random_state=42, verbose=0)\n",
        "    ifor.fit(X)\n",
        "    return ifor"
      ],
      "execution_count": 0,
      "outputs": []
    },
    {
      "cell_type": "code",
      "metadata": {
        "id": "T62gyUsOLChT",
        "colab_type": "code",
        "colab": {}
      },
      "source": [
        "from sklearn.metrics import roc_curve, precision_recall_curve, auc, roc_auc_score\n",
        "\n",
        "import matplotlib.pyplot as plt\n",
        "\n",
        "import numpy as np\n",
        "\n",
        "def get_auc(labels, scores):\n",
        "\n",
        "    fpr, tpr, thresholds = roc_curve(labels, scores)\n",
        "\n",
        "    auc_score = roc_auc_score(labels, scores)\n",
        "\n",
        "    return fpr, tpr, auc_score\n",
        "\n",
        "def get_aucpr(labels, scores):\n",
        "\n",
        "    precision, recall, th = precision_recall_curve(labels, scores)\n",
        "\n",
        "    aucpr_score = np.trapz(recall, precision)\n",
        "\n",
        "    return precision, recall, aucpr_score\n",
        "  \n",
        "  \n",
        "def roc_aucpr(labels, scores):\n",
        "    \n",
        "    fpr, tpr, auc_score = get_auc(labels, scores)\n",
        "    \n",
        "    precision, recall, aucpr_score = get_aucpr(labels, scores)\n",
        "    \n",
        "    return auc_score, aucpr_score\n",
        "    \n",
        "\n",
        "def plot_metric(ax, x, y, x_label, y_label, plot_label, style=\"-\"):\n",
        "\n",
        "    ax.plot(x, y, style, label=plot_label)\n",
        "\n",
        "    ax.legend()\n",
        "\n",
        "    ax.set_ylabel(y_label)\n",
        "\n",
        "    ax.set_xlabel(x_label)\n",
        "\n",
        "def prediction_summary(labels, predicted_score, predicted_class, info, plot_baseline=True, axes=None):\n",
        "\n",
        "    if axes is None:\n",
        "\n",
        "        axes = [plt.subplot(1, 2, 1), plt.subplot(1, 2, 2)]\n",
        "\n",
        "    fpr, tpr, auc_score = get_auc(labels, predicted_score)\n",
        "\n",
        "    plot_metric(axes[0], fpr, tpr, \"False positive rate\",\n",
        "\n",
        "                \"True positive rate\", \"{} AUC = {:.4f}\".format(info, auc_score))\n",
        "\n",
        "    if plot_baseline:\n",
        "\n",
        "        plot_metric(axes[0], [0, 1], [0, 1], \"False positive rate\",\n",
        "\n",
        "                \"True positive rate\", \"baseline AUC = 0.5\", \"r--\")\n",
        "\n",
        "    precision, recall, aucpr_score = get_aucpr(labels, predicted_score)\n",
        "\n",
        "    plot_metric(axes[1], recall, precision, \"Recall\",\n",
        "\n",
        "                \"Precision\", \"{} AUCPR = {:.4f}\".format(info, aucpr_score))\n",
        "\n",
        "    if plot_baseline:\n",
        "\n",
        "        thr = sum(labels)/len(labels)\n",
        "\n",
        "        plot_metric(axes[1], [0, 1], [thr, thr], \"Recall\",\n",
        "\n",
        "                \"Precision\", \"baseline AUCPR = {:.4f}\".format(thr), \"r--\")\n",
        "\n",
        "    plt.show()\n",
        "\n",
        "    return axes\n",
        "\n",
        "def figure():\n",
        "\n",
        "    fig_size = 4.5\n",
        "\n",
        "    f = plt.figure()\n",
        "\n",
        "    f.set_figheight(fig_size)\n",
        "\n",
        "    f.set_figwidth(fig_size*2)\n",
        "\n"
      ],
      "execution_count": 0,
      "outputs": []
    },
    {
      "cell_type": "code",
      "metadata": {
        "id": "Ei0uFss3Jwa8",
        "colab_type": "code",
        "colab": {}
      },
      "source": [
        "from sklearn.metrics import precision_recall_curve\n",
        "from inspect import signature\n",
        "from sklearn import metrics\n",
        "def prec_rec_f1_roc_auc(ifor, Xtest, ytest):\n",
        "  y_pred=ifor.predict(Xtest)\n",
        "  y_pred=convert(y_pred)\n",
        "  yscore = ifor.decision_function(Xtest)\n",
        "  roc_auc = roc_auc_score(ytest,yscore)\n",
        "  ap = average_precision_score(ytest, yscore,pos_label=1)\n",
        "  accuracy,sensitivity,specifity,precision,recall,f1_score = acc_sens_spec(ytest,y_pred)\n",
        "  fpr, tpr, thresholds = metrics.roc_curve(ytest, yscore, pos_label=1)\n",
        "  area = metrics.auc(fpr, tpr)\n",
        "  print('accuracy : ',accuracy)\n",
        "  print('sensitivity : ',sensitivity)\n",
        "  print('specifity : ', specifity)\n",
        "  print('precision : ',precision)\n",
        "  print('recall : ',recall)\n",
        "  print('f1 score : ',f1_score)\n",
        "  print('ROC_AUC_SCORE',roc_auc)\n",
        "  print('Average Precision', ap)\n",
        "  print('AUC', area)\n",
        "  "
      ],
      "execution_count": 0,
      "outputs": []
    },
    {
      "cell_type": "code",
      "metadata": {
        "id": "eCo4ySXbedxU",
        "colab_type": "code",
        "colab": {}
      },
      "source": [
        "def eval_model(ifor,X,y):\n",
        "#     ts = time.time()\n",
        "    y_pred=ifor.predict(X)\n",
        "#     tf = time.time()\n",
        "    y_pred=convert(y_pred)\n",
        "    \n",
        "    accuracy,sensitivity,specifity,precision,recall,f1_score = acc_sens_spec(y,y_pred)\n",
        "    return accuracy,sensitivity,specifity,precision,recall,f1_score"
      ],
      "execution_count": 0,
      "outputs": []
    },
    {
      "cell_type": "code",
      "metadata": {
        "id": "lRmrp6D3fV6h",
        "colab_type": "code",
        "colab": {}
      },
      "source": [
        "# from sklearn.metrics import confusion_matrix\n",
        "\n",
        "# def conf_mat_to_pd(df, i):\n",
        "#   df['tp_'+i] = "
      ],
      "execution_count": 0,
      "outputs": []
    },
    {
      "cell_type": "markdown",
      "metadata": {
        "id": "UG676oFSfXX4",
        "colab_type": "text"
      },
      "source": [
        "### Data Training"
      ]
    },
    {
      "cell_type": "code",
      "metadata": {
        "id": "qazOYPql2MDT",
        "colab_type": "code",
        "colab": {}
      },
      "source": [
        "X_raw = pd.read_csv(\"drive/My Drive/Colab Notebooks/ULB/ULB_preprocessing_train.csv\", sep=';')\n",
        "y = X_raw['Class']\n",
        "X = X_raw.drop(['Class'], axis=1)\n"
      ],
      "execution_count": 0,
      "outputs": []
    },
    {
      "cell_type": "code",
      "metadata": {
        "id": "5CmI1eYgOuQl",
        "colab_type": "code",
        "outputId": "634b007a-06de-4f0e-9993-d9cd0ed2dead",
        "colab": {
          "base_uri": "https://localhost:8080/",
          "height": 34
        }
      },
      "source": [
        "th=y.mean()\n",
        "th"
      ],
      "execution_count": 0,
      "outputs": [
        {
          "output_type": "execute_result",
          "data": {
            "text/plain": [
              "0.0017254870488152324"
            ]
          },
          "metadata": {
            "tags": []
          },
          "execution_count": 14
        }
      ]
    },
    {
      "cell_type": "markdown",
      "metadata": {
        "id": "R3CpSVoLfbbF",
        "colab_type": "text"
      },
      "source": [
        "### Data Testing"
      ]
    },
    {
      "cell_type": "code",
      "metadata": {
        "id": "b9nySiHPNg6q",
        "colab_type": "code",
        "colab": {}
      },
      "source": [
        "XTest = pd.read_csv(\"drive/My Drive/Colab Notebooks/ULB/ULB_preprocessing_test.csv\", sep=';')\n",
        "ytest = XTest['Class']\n",
        "XTest = XTest.drop(['Class'], axis=1)\n"
      ],
      "execution_count": 0,
      "outputs": []
    },
    {
      "cell_type": "code",
      "metadata": {
        "id": "smT0eBN5orA-",
        "colab_type": "code",
        "colab": {}
      },
      "source": [
        ""
      ],
      "execution_count": 0,
      "outputs": []
    },
    {
      "cell_type": "code",
      "metadata": {
        "id": "eNH9lkk8PZeH",
        "colab_type": "code",
        "colab": {}
      },
      "source": [
        "X_train, X_val, y_train, y_val = train_test_split(X, y, test_size=0.4, random_state=1, stratify=y)"
      ],
      "execution_count": 0,
      "outputs": []
    },
    {
      "cell_type": "code",
      "metadata": {
        "id": "rcOe8jE-LQXA",
        "colab_type": "code",
        "outputId": "e4601bdb-c6b9-4c0c-bc27-b1194931298e",
        "colab": {
          "base_uri": "https://localhost:8080/",
          "height": 72
        }
      },
      "source": [
        "ntrees = 100\n",
        "sample=256\n",
        "ifor = iForest(X_train, ntrees, sample, th)"
      ],
      "execution_count": 0,
      "outputs": [
        {
          "output_type": "stream",
          "text": [
            "/usr/local/lib/python3.6/dist-packages/sklearn/ensemble/_iforest.py:248: FutureWarning: 'behaviour' is deprecated in 0.22 and will be removed in 0.24. You should not pass or set this parameter.\n",
            "  FutureWarning\n"
          ],
          "name": "stderr"
        }
      ]
    },
    {
      "cell_type": "code",
      "metadata": {
        "id": "tKVMFhHMggAE",
        "colab_type": "code",
        "colab": {}
      },
      "source": [
        ""
      ],
      "execution_count": 0,
      "outputs": []
    },
    {
      "cell_type": "code",
      "metadata": {
        "id": "XZwN61b6PDYk",
        "colab_type": "code",
        "outputId": "e1d6cb44-e1b7-4163-9710-30341421acb3",
        "colab": {
          "base_uri": "https://localhost:8080/",
          "height": 197
        }
      },
      "source": [
        "## Validasi\n",
        "ifo_predict = ifor.predict(X_val)\n",
        "ifo_scores = ifor.score_samples(X_val)\n",
        "sk_predictions = pd.DataFrame({\n",
        "\n",
        "    \"predicted_class\": list(map(lambda x: 1*(x == -1), ifo_predict)),\n",
        "\n",
        "    \"class\": y_val,\n",
        "\n",
        "    \"predict\": -ifo_scores\n",
        "\n",
        "})\n",
        "\n",
        "sk_predictions.head()"
      ],
      "execution_count": 0,
      "outputs": [
        {
          "output_type": "execute_result",
          "data": {
            "text/html": [
              "<div>\n",
              "<style scoped>\n",
              "    .dataframe tbody tr th:only-of-type {\n",
              "        vertical-align: middle;\n",
              "    }\n",
              "\n",
              "    .dataframe tbody tr th {\n",
              "        vertical-align: top;\n",
              "    }\n",
              "\n",
              "    .dataframe thead th {\n",
              "        text-align: right;\n",
              "    }\n",
              "</style>\n",
              "<table border=\"1\" class=\"dataframe\">\n",
              "  <thead>\n",
              "    <tr style=\"text-align: right;\">\n",
              "      <th></th>\n",
              "      <th>predicted_class</th>\n",
              "      <th>class</th>\n",
              "      <th>predict</th>\n",
              "    </tr>\n",
              "  </thead>\n",
              "  <tbody>\n",
              "    <tr>\n",
              "      <th>85924</th>\n",
              "      <td>0</td>\n",
              "      <td>0</td>\n",
              "      <td>0.403903</td>\n",
              "    </tr>\n",
              "    <tr>\n",
              "      <th>144576</th>\n",
              "      <td>0</td>\n",
              "      <td>0</td>\n",
              "      <td>0.363685</td>\n",
              "    </tr>\n",
              "    <tr>\n",
              "      <th>174511</th>\n",
              "      <td>0</td>\n",
              "      <td>0</td>\n",
              "      <td>0.378609</td>\n",
              "    </tr>\n",
              "    <tr>\n",
              "      <th>8822</th>\n",
              "      <td>0</td>\n",
              "      <td>0</td>\n",
              "      <td>0.417522</td>\n",
              "    </tr>\n",
              "    <tr>\n",
              "      <th>4050</th>\n",
              "      <td>0</td>\n",
              "      <td>0</td>\n",
              "      <td>0.374702</td>\n",
              "    </tr>\n",
              "  </tbody>\n",
              "</table>\n",
              "</div>"
            ],
            "text/plain": [
              "        predicted_class  class   predict\n",
              "85924                 0      0  0.403903\n",
              "144576                0      0  0.363685\n",
              "174511                0      0  0.378609\n",
              "8822                  0      0  0.417522\n",
              "4050                  0      0  0.374702"
            ]
          },
          "metadata": {
            "tags": []
          },
          "execution_count": 17
        }
      ]
    },
    {
      "cell_type": "code",
      "metadata": {
        "id": "Zf8ui0TIRZmv",
        "colab_type": "code",
        "outputId": "ed94ea61-55b2-45d5-97a7-e03145900ba9",
        "colab": {
          "base_uri": "https://localhost:8080/",
          "height": 52
        }
      },
      "source": [
        "-ifo_scores"
      ],
      "execution_count": 0,
      "outputs": [
        {
          "output_type": "execute_result",
          "data": {
            "text/plain": [
              "array([0.40390306, 0.3636854 , 0.37860916, ..., 0.43119794, 0.40536016,\n",
              "       0.4806271 ])"
            ]
          },
          "metadata": {
            "tags": []
          },
          "execution_count": 18
        }
      ]
    },
    {
      "cell_type": "code",
      "metadata": {
        "id": "QVEYK4Jihwff",
        "colab_type": "code",
        "outputId": "fe704b5a-891a-4314-da1f-9ee3eee98ad6",
        "colab": {
          "base_uri": "https://localhost:8080/",
          "height": 197
        }
      },
      "source": [
        "sk_predictions[sk_predictions['predicted_class']==1].head()"
      ],
      "execution_count": 0,
      "outputs": [
        {
          "output_type": "execute_result",
          "data": {
            "text/html": [
              "<div>\n",
              "<style scoped>\n",
              "    .dataframe tbody tr th:only-of-type {\n",
              "        vertical-align: middle;\n",
              "    }\n",
              "\n",
              "    .dataframe tbody tr th {\n",
              "        vertical-align: top;\n",
              "    }\n",
              "\n",
              "    .dataframe thead th {\n",
              "        text-align: right;\n",
              "    }\n",
              "</style>\n",
              "<table border=\"1\" class=\"dataframe\">\n",
              "  <thead>\n",
              "    <tr style=\"text-align: right;\">\n",
              "      <th></th>\n",
              "      <th>predicted_class</th>\n",
              "      <th>class</th>\n",
              "      <th>predict</th>\n",
              "    </tr>\n",
              "  </thead>\n",
              "  <tbody>\n",
              "    <tr>\n",
              "      <th>105005</th>\n",
              "      <td>1</td>\n",
              "      <td>0</td>\n",
              "      <td>0.737735</td>\n",
              "    </tr>\n",
              "    <tr>\n",
              "      <th>181329</th>\n",
              "      <td>1</td>\n",
              "      <td>1</td>\n",
              "      <td>0.687405</td>\n",
              "    </tr>\n",
              "    <tr>\n",
              "      <th>10628</th>\n",
              "      <td>1</td>\n",
              "      <td>0</td>\n",
              "      <td>0.737247</td>\n",
              "    </tr>\n",
              "    <tr>\n",
              "      <th>187037</th>\n",
              "      <td>1</td>\n",
              "      <td>0</td>\n",
              "      <td>0.714781</td>\n",
              "    </tr>\n",
              "    <tr>\n",
              "      <th>8431</th>\n",
              "      <td>1</td>\n",
              "      <td>0</td>\n",
              "      <td>0.694541</td>\n",
              "    </tr>\n",
              "  </tbody>\n",
              "</table>\n",
              "</div>"
            ],
            "text/plain": [
              "        predicted_class  class   predict\n",
              "105005                1      0  0.737735\n",
              "181329                1      1  0.687405\n",
              "10628                 1      0  0.737247\n",
              "187037                1      0  0.714781\n",
              "8431                  1      0  0.694541"
            ]
          },
          "metadata": {
            "tags": []
          },
          "execution_count": 19
        }
      ]
    },
    {
      "cell_type": "code",
      "metadata": {
        "id": "07zeEilOPq_e",
        "colab_type": "code",
        "outputId": "97bf0061-1422-45b5-9fa5-3d7450f55bde",
        "colab": {
          "base_uri": "https://localhost:8080/",
          "height": 306
        }
      },
      "source": [
        "figure()\n",
        "axes = prediction_summary(\n",
        "\n",
        "    sk_predictions[\"class\"], sk_predictions[\"predict\"], sk_predictions[\"predicted_class\"], \"validasi\")"
      ],
      "execution_count": 0,
      "outputs": [
        {
          "output_type": "display_data",
          "data": {
            "image/png": "[encoded data removed]",
            "text/plain": [
              "<Figure size 648x324 with 2 Axes>"
            ]
          },
          "metadata": {
            "tags": []
          }
        }
      ]
    },
    {
      "cell_type": "code",
      "metadata": {
        "id": "mfwH2GK3ef0l",
        "colab_type": "code",
        "outputId": "9ec6ec83-2f01-4791-93d6-d70f9ae408d4",
        "colab": {
          "base_uri": "https://localhost:8080/",
          "height": 197
        }
      },
      "source": [
        "## test\n",
        "iftest_predict = ifor.predict(XTest)\n",
        "iftest_scores = ifor.score_samples(XTest)\n",
        "iftest_predictions = pd.DataFrame({\n",
        "\n",
        "    \"predicted_class\": list(map(lambda x: 1*(x == -1), iftest_predict)),\n",
        "\n",
        "    \"class\": ytest,\n",
        "\n",
        "    \"predict\": -iftest_scores\n",
        "\n",
        "})\n",
        "\n",
        "iftest_predictions.head()"
      ],
      "execution_count": 0,
      "outputs": [
        {
          "output_type": "execute_result",
          "data": {
            "text/html": [
              "<div>\n",
              "<style scoped>\n",
              "    .dataframe tbody tr th:only-of-type {\n",
              "        vertical-align: middle;\n",
              "    }\n",
              "\n",
              "    .dataframe tbody tr th {\n",
              "        vertical-align: top;\n",
              "    }\n",
              "\n",
              "    .dataframe thead th {\n",
              "        text-align: right;\n",
              "    }\n",
              "</style>\n",
              "<table border=\"1\" class=\"dataframe\">\n",
              "  <thead>\n",
              "    <tr style=\"text-align: right;\">\n",
              "      <th></th>\n",
              "      <th>predicted_class</th>\n",
              "      <th>class</th>\n",
              "      <th>predict</th>\n",
              "    </tr>\n",
              "  </thead>\n",
              "  <tbody>\n",
              "    <tr>\n",
              "      <th>0</th>\n",
              "      <td>0</td>\n",
              "      <td>0</td>\n",
              "      <td>0.410704</td>\n",
              "    </tr>\n",
              "    <tr>\n",
              "      <th>1</th>\n",
              "      <td>0</td>\n",
              "      <td>0</td>\n",
              "      <td>0.383973</td>\n",
              "    </tr>\n",
              "    <tr>\n",
              "      <th>2</th>\n",
              "      <td>0</td>\n",
              "      <td>0</td>\n",
              "      <td>0.624955</td>\n",
              "    </tr>\n",
              "    <tr>\n",
              "      <th>3</th>\n",
              "      <td>0</td>\n",
              "      <td>0</td>\n",
              "      <td>0.373262</td>\n",
              "    </tr>\n",
              "    <tr>\n",
              "      <th>4</th>\n",
              "      <td>0</td>\n",
              "      <td>0</td>\n",
              "      <td>0.415957</td>\n",
              "    </tr>\n",
              "  </tbody>\n",
              "</table>\n",
              "</div>"
            ],
            "text/plain": [
              "   predicted_class  class   predict\n",
              "0                0      0  0.410704\n",
              "1                0      0  0.383973\n",
              "2                0      0  0.624955\n",
              "3                0      0  0.373262\n",
              "4                0      0  0.415957"
            ]
          },
          "metadata": {
            "tags": []
          },
          "execution_count": 21
        }
      ]
    },
    {
      "cell_type": "code",
      "metadata": {
        "id": "MkNhlofFgzSY",
        "colab_type": "code",
        "outputId": "dabb055d-5a6e-4bb5-9163-1a55ac662715",
        "colab": {
          "base_uri": "https://localhost:8080/",
          "height": 306
        }
      },
      "source": [
        "figure()\n",
        "axes = prediction_summary(\n",
        "\n",
        "    iftest_predictions[\"class\"], iftest_predictions[\"predict\"], iftest_predictions[\"predicted_class\"],'test')"
      ],
      "execution_count": 0,
      "outputs": [
        {
          "output_type": "display_data",
          "data": {
            "image/png": "[encoded data removed]",
            "text/plain": [
              "<Figure size 648x324 with 2 Axes>"
            ]
          },
          "metadata": {
            "tags": []
          }
        }
      ]
    },
    {
      "cell_type": "markdown",
      "metadata": {
        "id": "bWoWlWNBjAP9",
        "colab_type": "text"
      },
      "source": [
        "# Percobaan 1 - Split Rasio"
      ]
    },
    {
      "cell_type": "code",
      "metadata": {
        "id": "2UCcBdsWoskB",
        "colab_type": "code",
        "outputId": "89039666-832a-4996-ab5b-e80fd69b725b",
        "colab": {
          "base_uri": "https://localhost:8080/",
          "height": 178
        }
      },
      "source": [
        "rasios = [0.1,0.2,0.3,0.4]\n",
        "ntree = 100\n",
        "sub_sample = 256\n",
        "hasil1 = []\n",
        "# th=len(y)/len(X)\n",
        "for rasio in rasios:\n",
        "  X_train, X_val, y_train, y_val = train_test_split(X, y, test_size=rasio, random_state=1, stratify=y)\n",
        "  \n",
        "  th = y_train.mean()\n",
        "  \n",
        "  training = (1-rasio)*100\n",
        "  \n",
        "  test = rasio*100\n",
        "  \n",
        "  ifor = iForest(X_train,ntree,sub_sample,th)\n",
        "  \n",
        "  y_pred = ifor.predict(X_val)\n",
        "  \n",
        "  y_pred = np.array(convert(y_pred))\n",
        "  \n",
        "  ifo_scores = ifor.score_samples(X_val)\n",
        "  \n",
        "  ifo_scores = -ifo_scores\n",
        "  \n",
        "  roc_auc, aucpr = roc_aucpr(y_val, ifo_scores)\n",
        "  \n",
        "  TP,FP,FN,TN = confussion_matrik(y_val,y_pred)\n",
        "\n",
        "  FPR = FP/(TN+FP)\n",
        "  \n",
        "  precision,recall,f1_score = metric_evaluasi(y_val,y_pred)\n",
        "  \n",
        "  result = [training,test,precision,recall,FPR,f1_score, roc_auc, aucpr]\n",
        "   \n",
        "  hasil1.append(result)"
      ],
      "execution_count": 0,
      "outputs": [
        {
          "output_type": "stream",
          "text": [
            "/usr/local/lib/python3.6/dist-packages/sklearn/ensemble/_iforest.py:248: FutureWarning: 'behaviour' is deprecated in 0.22 and will be removed in 0.24. You should not pass or set this parameter.\n",
            "  FutureWarning\n",
            "/usr/local/lib/python3.6/dist-packages/sklearn/ensemble/_iforest.py:248: FutureWarning: 'behaviour' is deprecated in 0.22 and will be removed in 0.24. You should not pass or set this parameter.\n",
            "  FutureWarning\n",
            "/usr/local/lib/python3.6/dist-packages/sklearn/ensemble/_iforest.py:248: FutureWarning: 'behaviour' is deprecated in 0.22 and will be removed in 0.24. You should not pass or set this parameter.\n",
            "  FutureWarning\n",
            "/usr/local/lib/python3.6/dist-packages/sklearn/ensemble/_iforest.py:248: FutureWarning: 'behaviour' is deprecated in 0.22 and will be removed in 0.24. You should not pass or set this parameter.\n",
            "  FutureWarning\n"
          ],
          "name": "stderr"
        }
      ]
    },
    {
      "cell_type": "code",
      "metadata": {
        "id": "TFup4rVFrUNr",
        "colab_type": "code",
        "outputId": "43f7c7cc-4d3f-4ac1-e43b-77d92dc79570",
        "colab": {
          "base_uri": "https://localhost:8080/",
          "height": 167
        }
      },
      "source": [
        "hasil_percobaan1 = pd.DataFrame(data= hasil1, columns=['Training_Rasio','Test_Rasio','Precision','TPR','FPR','F1_Score', 'ROC_AUC', 'AUCPR'])\n",
        "hasil_percobaan1"
      ],
      "execution_count": 0,
      "outputs": [
        {
          "output_type": "execute_result",
          "data": {
            "text/html": [
              "<div>\n",
              "<style scoped>\n",
              "    .dataframe tbody tr th:only-of-type {\n",
              "        vertical-align: middle;\n",
              "    }\n",
              "\n",
              "    .dataframe tbody tr th {\n",
              "        vertical-align: top;\n",
              "    }\n",
              "\n",
              "    .dataframe thead th {\n",
              "        text-align: right;\n",
              "    }\n",
              "</style>\n",
              "<table border=\"1\" class=\"dataframe\">\n",
              "  <thead>\n",
              "    <tr style=\"text-align: right;\">\n",
              "      <th></th>\n",
              "      <th>Training_Rasio</th>\n",
              "      <th>Test_Rasio</th>\n",
              "      <th>Precision</th>\n",
              "      <th>TPR</th>\n",
              "      <th>FPR</th>\n",
              "      <th>F1_Score</th>\n",
              "      <th>ROC_AUC</th>\n",
              "      <th>AUCPR</th>\n",
              "    </tr>\n",
              "  </thead>\n",
              "  <tbody>\n",
              "    <tr>\n",
              "      <th>0</th>\n",
              "      <td>90.0</td>\n",
              "      <td>10.0</td>\n",
              "      <td>0.137931</td>\n",
              "      <td>0.117647</td>\n",
              "      <td>0.001256</td>\n",
              "      <td>0.126984</td>\n",
              "      <td>0.956929</td>\n",
              "      <td>0.082776</td>\n",
              "    </tr>\n",
              "    <tr>\n",
              "      <th>1</th>\n",
              "      <td>80.0</td>\n",
              "      <td>20.0</td>\n",
              "      <td>0.228571</td>\n",
              "      <td>0.231884</td>\n",
              "      <td>0.001357</td>\n",
              "      <td>0.230216</td>\n",
              "      <td>0.963744</td>\n",
              "      <td>0.148016</td>\n",
              "    </tr>\n",
              "    <tr>\n",
              "      <th>2</th>\n",
              "      <td>70.0</td>\n",
              "      <td>30.0</td>\n",
              "      <td>0.222222</td>\n",
              "      <td>0.194175</td>\n",
              "      <td>0.001172</td>\n",
              "      <td>0.207254</td>\n",
              "      <td>0.955398</td>\n",
              "      <td>0.115973</td>\n",
              "    </tr>\n",
              "    <tr>\n",
              "      <th>3</th>\n",
              "      <td>60.0</td>\n",
              "      <td>40.0</td>\n",
              "      <td>0.272727</td>\n",
              "      <td>0.239130</td>\n",
              "      <td>0.001105</td>\n",
              "      <td>0.254826</td>\n",
              "      <td>0.950279</td>\n",
              "      <td>0.157578</td>\n",
              "    </tr>\n",
              "  </tbody>\n",
              "</table>\n",
              "</div>"
            ],
            "text/plain": [
              "   Training_Rasio  Test_Rasio  Precision  ...  F1_Score   ROC_AUC     AUCPR\n",
              "0            90.0        10.0   0.137931  ...  0.126984  0.956929  0.082776\n",
              "1            80.0        20.0   0.228571  ...  0.230216  0.963744  0.148016\n",
              "2            70.0        30.0   0.222222  ...  0.207254  0.955398  0.115973\n",
              "3            60.0        40.0   0.272727  ...  0.254826  0.950279  0.157578\n",
              "\n",
              "[4 rows x 8 columns]"
            ]
          },
          "metadata": {
            "tags": []
          },
          "execution_count": 26
        }
      ]
    },
    {
      "cell_type": "code",
      "metadata": {
        "id": "hV8Z_wWVtdJg",
        "colab_type": "code",
        "outputId": "504c8a12-2ef2-4ba3-d2ad-3a8b85894f80",
        "colab": {
          "base_uri": "https://localhost:8080/",
          "height": 77
        }
      },
      "source": [
        "maxi = hasil_percobaan1['F1_Score'].max()\n",
        "terbaik1 = hasil_percobaan1[hasil_percobaan1['F1_Score']==maxi]\n",
        "terbaik1"
      ],
      "execution_count": 0,
      "outputs": [
        {
          "output_type": "execute_result",
          "data": {
            "text/html": [
              "<div>\n",
              "<style scoped>\n",
              "    .dataframe tbody tr th:only-of-type {\n",
              "        vertical-align: middle;\n",
              "    }\n",
              "\n",
              "    .dataframe tbody tr th {\n",
              "        vertical-align: top;\n",
              "    }\n",
              "\n",
              "    .dataframe thead th {\n",
              "        text-align: right;\n",
              "    }\n",
              "</style>\n",
              "<table border=\"1\" class=\"dataframe\">\n",
              "  <thead>\n",
              "    <tr style=\"text-align: right;\">\n",
              "      <th></th>\n",
              "      <th>Training_Rasio</th>\n",
              "      <th>Test_Rasio</th>\n",
              "      <th>Precision</th>\n",
              "      <th>TPR</th>\n",
              "      <th>FPR</th>\n",
              "      <th>F1_Score</th>\n",
              "      <th>ROC_AUC</th>\n",
              "      <th>AUCPR</th>\n",
              "    </tr>\n",
              "  </thead>\n",
              "  <tbody>\n",
              "    <tr>\n",
              "      <th>3</th>\n",
              "      <td>60.0</td>\n",
              "      <td>40.0</td>\n",
              "      <td>0.272727</td>\n",
              "      <td>0.23913</td>\n",
              "      <td>0.001105</td>\n",
              "      <td>0.254826</td>\n",
              "      <td>0.950279</td>\n",
              "      <td>0.157578</td>\n",
              "    </tr>\n",
              "  </tbody>\n",
              "</table>\n",
              "</div>"
            ],
            "text/plain": [
              "   Training_Rasio  Test_Rasio  Precision  ...  F1_Score   ROC_AUC     AUCPR\n",
              "3            60.0        40.0   0.272727  ...  0.254826  0.950279  0.157578\n",
              "\n",
              "[1 rows x 8 columns]"
            ]
          },
          "metadata": {
            "tags": []
          },
          "execution_count": 27
        }
      ]
    },
    {
      "cell_type": "code",
      "metadata": {
        "id": "OYGENgI2lHRR",
        "colab_type": "code",
        "outputId": "eedd2fb2-9248-41ca-8cff-3b84057a1c7a",
        "colab": {
          "base_uri": "https://localhost:8080/",
          "height": 34
        }
      },
      "source": [
        "best_rasio = terbaik1['Test_Rasio']\n",
        "best_rasio = int(best_rasio)\n",
        "best_rasio = best_rasio/100\n",
        "print('Rasio Train : Test terbaik =>',1-best_rasio,':',best_rasio)"
      ],
      "execution_count": 0,
      "outputs": [
        {
          "output_type": "stream",
          "text": [
            "Rasio Train : Test terbaik => 0.6 : 0.4\n"
          ],
          "name": "stdout"
        }
      ]
    },
    {
      "cell_type": "markdown",
      "metadata": {
        "id": "fw76UggJoyWt",
        "colab_type": "text"
      },
      "source": [
        "### Grafik ROC_AUC dan Precision_Recall pada data Validasi"
      ]
    },
    {
      "cell_type": "code",
      "metadata": {
        "id": "3bNt9wOhocvU",
        "colab_type": "code",
        "outputId": "eaf1d1f0-24bf-44b5-dc1f-4fde59afdbc3",
        "colab": {
          "base_uri": "https://localhost:8080/",
          "height": 362
        }
      },
      "source": [
        "X_train, X_val, y_train, y_val = train_test_split(X, y, test_size=best_rasio, random_state=1, stratify=y)\n",
        "  \n",
        "th = y_train.mean()\n",
        "\n",
        "ifor1 = iForest(X_train,ntree,sub_sample,th)\n",
        "\n",
        "y_pred = ifor1.predict(X_val)\n",
        "\n",
        "y_pred = np.array(convert(y_pred))\n",
        "\n",
        "ifval_scores = ifor1.score_samples(X_val)\n",
        "\n",
        "val_predictions = pd.DataFrame({\n",
        "\n",
        "    \"predicted_class\": y_pred,\n",
        "\n",
        "    \"class\": y_val,\n",
        "\n",
        "    \"predict\": -ifval_scores\n",
        "\n",
        "})\n",
        "\n",
        "figure()\n",
        "axes = prediction_summary(\n",
        "\n",
        "    val_predictions[\"class\"], val_predictions[\"predict\"], val_predictions[\"predicted_class\"],'validasi')"
      ],
      "execution_count": 0,
      "outputs": [
        {
          "output_type": "stream",
          "text": [
            "/usr/local/lib/python3.6/dist-packages/sklearn/ensemble/_iforest.py:248: FutureWarning: 'behaviour' is deprecated in 0.22 and will be removed in 0.24. You should not pass or set this parameter.\n",
            "  FutureWarning\n"
          ],
          "name": "stderr"
        },
        {
          "output_type": "display_data",
          "data": {
            "image/png": "[encoded data removed]",
            "text/plain": [
              "<Figure size 648x324 with 2 Axes>"
            ]
          },
          "metadata": {
            "tags": []
          }
        }
      ]
    },
    {
      "cell_type": "code",
      "metadata": {
        "id": "yJWfF5mUzI7a",
        "colab_type": "code",
        "outputId": "d1de7531-2029-4944-ad1f-922bc938ac36",
        "colab": {
          "base_uri": "https://localhost:8080/",
          "height": 77
        }
      },
      "source": [
        "from sklearn.metrics import confusion_matrix\n",
        "tn, fp, fn, tp = confusion_matrix(val_predictions[\"class\"],val_predictions[\"predicted_class\"]).ravel()\n",
        "pd.DataFrame([[tn,fp,fn,tp]],columns=['TN','FP','FN','TP'])"
      ],
      "execution_count": 0,
      "outputs": [
        {
          "output_type": "execute_result",
          "data": {
            "text/html": [
              "<div>\n",
              "<style scoped>\n",
              "    .dataframe tbody tr th:only-of-type {\n",
              "        vertical-align: middle;\n",
              "    }\n",
              "\n",
              "    .dataframe tbody tr th {\n",
              "        vertical-align: top;\n",
              "    }\n",
              "\n",
              "    .dataframe thead th {\n",
              "        text-align: right;\n",
              "    }\n",
              "</style>\n",
              "<table border=\"1\" class=\"dataframe\">\n",
              "  <thead>\n",
              "    <tr style=\"text-align: right;\">\n",
              "      <th></th>\n",
              "      <th>TN</th>\n",
              "      <th>FP</th>\n",
              "      <th>FN</th>\n",
              "      <th>TP</th>\n",
              "    </tr>\n",
              "  </thead>\n",
              "  <tbody>\n",
              "    <tr>\n",
              "      <th>0</th>\n",
              "      <td>79520</td>\n",
              "      <td>88</td>\n",
              "      <td>105</td>\n",
              "      <td>33</td>\n",
              "    </tr>\n",
              "  </tbody>\n",
              "</table>\n",
              "</div>"
            ],
            "text/plain": [
              "      TN  FP   FN  TP\n",
              "0  79520  88  105  33"
            ]
          },
          "metadata": {
            "tags": []
          },
          "execution_count": 33
        }
      ]
    },
    {
      "cell_type": "markdown",
      "metadata": {
        "colab_type": "text",
        "id": "B6ZtUqxerJne"
      },
      "source": [
        "### Grafik ROC_AUC dan Precision_Recall pada data Testing"
      ]
    },
    {
      "cell_type": "code",
      "metadata": {
        "id": "t6L5ZjSMpznX",
        "colab_type": "code",
        "outputId": "7bbd2690-9b0f-4e19-8b57-1bb77d19d521",
        "colab": {
          "base_uri": "https://localhost:8080/",
          "height": 306
        }
      },
      "source": [
        "testing1 = []\n",
        "iftest_predict = ifor1.predict(XTest)\n",
        "\n",
        "iftest_scores = ifor1.score_samples(XTest)\n",
        "\n",
        "roc_auc, aucpr = roc_aucpr(ytest, -iftest_scores)\n",
        "\n",
        "precision,recall,f1_score = metric_evaluasi(ytest, np.array(convert(iftest_predict)))\n",
        "\n",
        "TP,FP,FN,TN = confussion_matrik(y_val,y_pred)\n",
        "\n",
        "FPR = FP/(TN+FP)\n",
        "\n",
        "result1 = [1-best_rasio,best_rasio,precision,recall,FPR,f1_score, roc_auc, aucpr]\n",
        "\n",
        "test_predictions = pd.DataFrame({\n",
        "\n",
        "    \"predicted_class\": list(map(lambda x: 1*(x == -1), iftest_predict)),\n",
        "\n",
        "    \"class\": ytest,\n",
        "\n",
        "    \"predict\": -iftest_scores\n",
        "\n",
        "})\n",
        "testing1.append(result1)\n",
        "\n",
        "figure()\n",
        "axes = prediction_summary(\n",
        "    test_predictions[\"class\"], test_predictions[\"predict\"], test_predictions[\"predicted_class\"],'test')"
      ],
      "execution_count": 0,
      "outputs": [
        {
          "output_type": "display_data",
          "data": {
            "image/png": "[encoded data removed]",
            "text/plain": [
              "<Figure size 648x324 with 2 Axes>"
            ]
          },
          "metadata": {
            "tags": []
          }
        }
      ]
    },
    {
      "cell_type": "code",
      "metadata": {
        "id": "QwHs5DWX0xEr",
        "colab_type": "code",
        "outputId": "d9aa9fcf-52a6-40ec-d286-7e39321e3e2d",
        "colab": {
          "base_uri": "https://localhost:8080/",
          "height": 77
        }
      },
      "source": [
        "tn, fp, fn, tp = confusion_matrix(test_predictions[\"class\"],test_predictions[\"predicted_class\"]).ravel()\n",
        "pd.DataFrame([[tn,fp,fn,tp]],columns=['TN','FP','FN','TP'])"
      ],
      "execution_count": 0,
      "outputs": [
        {
          "output_type": "execute_result",
          "data": {
            "text/html": [
              "<div>\n",
              "<style scoped>\n",
              "    .dataframe tbody tr th:only-of-type {\n",
              "        vertical-align: middle;\n",
              "    }\n",
              "\n",
              "    .dataframe tbody tr th {\n",
              "        vertical-align: top;\n",
              "    }\n",
              "\n",
              "    .dataframe thead th {\n",
              "        text-align: right;\n",
              "    }\n",
              "</style>\n",
              "<table border=\"1\" class=\"dataframe\">\n",
              "  <thead>\n",
              "    <tr style=\"text-align: right;\">\n",
              "      <th></th>\n",
              "      <th>TN</th>\n",
              "      <th>FP</th>\n",
              "      <th>FN</th>\n",
              "      <th>TP</th>\n",
              "    </tr>\n",
              "  </thead>\n",
              "  <tbody>\n",
              "    <tr>\n",
              "      <th>0</th>\n",
              "      <td>85295</td>\n",
              "      <td>0</td>\n",
              "      <td>148</td>\n",
              "      <td>0</td>\n",
              "    </tr>\n",
              "  </tbody>\n",
              "</table>\n",
              "</div>"
            ],
            "text/plain": [
              "      TN  FP   FN  TP\n",
              "0  85295   0  148   0"
            ]
          },
          "metadata": {
            "tags": []
          },
          "execution_count": 36
        }
      ]
    },
    {
      "cell_type": "code",
      "metadata": {
        "id": "8ekfs4TRCfGt",
        "colab_type": "code",
        "outputId": "7c9241d3-bece-4b52-f78e-6a05f7e13927",
        "colab": {
          "base_uri": "https://localhost:8080/",
          "height": 81
        }
      },
      "source": [
        "hasil_testing1 = pd.DataFrame(data= testing1, columns=['Training_Rasio','Test_Rasio','Precision','TPR','FPR','F1_Score', 'ROC_AUC', 'AUCPR'])\n",
        "hasil_testing1"
      ],
      "execution_count": 0,
      "outputs": [
        {
          "output_type": "execute_result",
          "data": {
            "text/html": [
              "<div>\n",
              "<style scoped>\n",
              "    .dataframe tbody tr th:only-of-type {\n",
              "        vertical-align: middle;\n",
              "    }\n",
              "\n",
              "    .dataframe tbody tr th {\n",
              "        vertical-align: top;\n",
              "    }\n",
              "\n",
              "    .dataframe thead th {\n",
              "        text-align: right;\n",
              "    }\n",
              "</style>\n",
              "<table border=\"1\" class=\"dataframe\">\n",
              "  <thead>\n",
              "    <tr style=\"text-align: right;\">\n",
              "      <th></th>\n",
              "      <th>Training_Rasio</th>\n",
              "      <th>Test_Rasio</th>\n",
              "      <th>Precision</th>\n",
              "      <th>TPR</th>\n",
              "      <th>FPR</th>\n",
              "      <th>F1_Score</th>\n",
              "      <th>ROC_AUC</th>\n",
              "      <th>AUCPR</th>\n",
              "    </tr>\n",
              "  </thead>\n",
              "  <tbody>\n",
              "    <tr>\n",
              "      <th>0</th>\n",
              "      <td>0.6</td>\n",
              "      <td>0.4</td>\n",
              "      <td>0.338235</td>\n",
              "      <td>0.310811</td>\n",
              "      <td>0.001105</td>\n",
              "      <td>0.323944</td>\n",
              "      <td>0.960143</td>\n",
              "      <td>0.213812</td>\n",
              "    </tr>\n",
              "  </tbody>\n",
              "</table>\n",
              "</div>"
            ],
            "text/plain": [
              "   Training_Rasio  Test_Rasio  Precision  ...  F1_Score   ROC_AUC     AUCPR\n",
              "0             0.6         0.4   0.338235  ...  0.323944  0.960143  0.213812\n",
              "\n",
              "[1 rows x 8 columns]"
            ]
          },
          "metadata": {
            "tags": []
          },
          "execution_count": 28
        }
      ]
    },
    {
      "cell_type": "markdown",
      "metadata": {
        "id": "dRdj9JCRvy3a",
        "colab_type": "text"
      },
      "source": [
        "# Percobaan 2 - Seleksi Fitur\n",
        "berdasarkan percobaan 1 train rasio terbaik adalah 60%, maka dilakukan percobaan 2 dengan train rasio dan variasi seleksi fitur dimana fitur terbaik telah didapat sebelumnya yaitu:\n",
        "1) V14 : 0.191396, 2) V4 : 0.156735, 3) V17 : 0.154208, 4) V12 : 0.153089, 5) V11 : 0.075608, 6) V2 : 0.051632, 7) V10 : 0.038917, 8) V7 : 0.015483, 9) V20 : 0.014762, 10) V21 : 0.013873, 11) V19 : 0.012698, 12) V8 : 0.011657, 13) V6 : 0.010132, 14) V27 : 0.009422, 15) V3 : 0.007821, 16) V26 : 0.007501, 17) V9 : 0.007076, 18) Amount : 0.007075, 19) V13 : 0.006597, 20) V15 : 0.006509, 21) V23 : 0.006476, 22) V22 : 0.006006, 23) V1 : 0.005765, 24) V24 : 0.005645, 25) V28 : 0.005104, 26) V18 : 0.004795, 27) V16 : 0.004732, 28) V25 : 0.004156, 29) V5 :0.003216, 30) Time : 0.001916"
      ]
    },
    {
      "cell_type": "code",
      "metadata": {
        "id": "AMmGkTI3wYKL",
        "colab_type": "code",
        "outputId": "bc9057b1-b604-48c4-b42e-291d2d3bbb2e",
        "colab": {
          "base_uri": "https://localhost:8080/",
          "height": 35
        }
      },
      "source": [
        "best_fitur = ['V14', 'V4', 'V17', 'V12', 'V11', 'V2', 'V10', 'V7', 'V20', 'V21', 'V19', 'V8', 'V6', 'V27', 'V3','V26','V9','Amount','V13','V15','V23','V22','V1','V24','V28','V18','V16','V25','V5','Time']\n",
        "best_fitur[:3]"
      ],
      "execution_count": 0,
      "outputs": [
        {
          "output_type": "execute_result",
          "data": {
            "text/plain": [
              "['V14', 'V4', 'V17']"
            ]
          },
          "metadata": {
            "tags": []
          },
          "execution_count": 29
        }
      ]
    },
    {
      "cell_type": "code",
      "metadata": {
        "id": "Y70iQYfnUZqZ",
        "colab_type": "code",
        "colab": {}
      },
      "source": [
        ""
      ],
      "execution_count": 0,
      "outputs": []
    },
    {
      "cell_type": "code",
      "metadata": {
        "id": "EZtfCKI8XEax",
        "colab_type": "code",
        "outputId": "8e74885d-3117-4ddf-eed8-65a270412867",
        "colab": {
          "base_uri": "https://localhost:8080/",
          "height": 226
        }
      },
      "source": [
        "X_train.head()"
      ],
      "execution_count": 0,
      "outputs": [
        {
          "output_type": "execute_result",
          "data": {
            "text/html": [
              "<div>\n",
              "<style scoped>\n",
              "    .dataframe tbody tr th:only-of-type {\n",
              "        vertical-align: middle;\n",
              "    }\n",
              "\n",
              "    .dataframe tbody tr th {\n",
              "        vertical-align: top;\n",
              "    }\n",
              "\n",
              "    .dataframe thead th {\n",
              "        text-align: right;\n",
              "    }\n",
              "</style>\n",
              "<table border=\"1\" class=\"dataframe\">\n",
              "  <thead>\n",
              "    <tr style=\"text-align: right;\">\n",
              "      <th></th>\n",
              "      <th>Time</th>\n",
              "      <th>V1</th>\n",
              "      <th>V2</th>\n",
              "      <th>V3</th>\n",
              "      <th>V4</th>\n",
              "      <th>V5</th>\n",
              "      <th>V6</th>\n",
              "      <th>V7</th>\n",
              "      <th>V8</th>\n",
              "      <th>V9</th>\n",
              "      <th>V10</th>\n",
              "      <th>V11</th>\n",
              "      <th>V12</th>\n",
              "      <th>V13</th>\n",
              "      <th>V14</th>\n",
              "      <th>V15</th>\n",
              "      <th>V16</th>\n",
              "      <th>V17</th>\n",
              "      <th>V18</th>\n",
              "      <th>V19</th>\n",
              "      <th>V20</th>\n",
              "      <th>V21</th>\n",
              "      <th>V22</th>\n",
              "      <th>V23</th>\n",
              "      <th>V24</th>\n",
              "      <th>V25</th>\n",
              "      <th>V26</th>\n",
              "      <th>V27</th>\n",
              "      <th>V28</th>\n",
              "      <th>Amount</th>\n",
              "    </tr>\n",
              "  </thead>\n",
              "  <tbody>\n",
              "    <tr>\n",
              "      <th>146666</th>\n",
              "      <td>78498.0</td>\n",
              "      <td>-0.502755</td>\n",
              "      <td>0.188666</td>\n",
              "      <td>-0.310252</td>\n",
              "      <td>0.150411</td>\n",
              "      <td>2.424864</td>\n",
              "      <td>3.878252</td>\n",
              "      <td>0.434310</td>\n",
              "      <td>0.892622</td>\n",
              "      <td>-0.499042</td>\n",
              "      <td>-0.340246</td>\n",
              "      <td>-0.686138</td>\n",
              "      <td>-0.121524</td>\n",
              "      <td>-0.213778</td>\n",
              "      <td>0.175293</td>\n",
              "      <td>-0.041179</td>\n",
              "      <td>-0.454406</td>\n",
              "      <td>-0.276424</td>\n",
              "      <td>0.243821</td>\n",
              "      <td>1.139519</td>\n",
              "      <td>0.400779</td>\n",
              "      <td>0.030133</td>\n",
              "      <td>-0.117841</td>\n",
              "      <td>0.126388</td>\n",
              "      <td>0.998568</td>\n",
              "      <td>0.005019</td>\n",
              "      <td>-0.336592</td>\n",
              "      <td>0.137597</td>\n",
              "      <td>0.167856</td>\n",
              "      <td>126.98</td>\n",
              "    </tr>\n",
              "    <tr>\n",
              "      <th>37694</th>\n",
              "      <td>118053.0</td>\n",
              "      <td>1.732166</td>\n",
              "      <td>-0.772691</td>\n",
              "      <td>-1.441021</td>\n",
              "      <td>-0.076128</td>\n",
              "      <td>0.508067</td>\n",
              "      <td>1.081426</td>\n",
              "      <td>-0.224584</td>\n",
              "      <td>0.332417</td>\n",
              "      <td>0.926579</td>\n",
              "      <td>-0.203125</td>\n",
              "      <td>0.740169</td>\n",
              "      <td>1.069866</td>\n",
              "      <td>-0.559331</td>\n",
              "      <td>0.449576</td>\n",
              "      <td>-0.113316</td>\n",
              "      <td>-0.971426</td>\n",
              "      <td>0.274855</td>\n",
              "      <td>-1.223960</td>\n",
              "      <td>-0.213032</td>\n",
              "      <td>-0.142388</td>\n",
              "      <td>-0.022636</td>\n",
              "      <td>0.032540</td>\n",
              "      <td>0.130717</td>\n",
              "      <td>-1.624339</td>\n",
              "      <td>-0.275084</td>\n",
              "      <td>0.014721</td>\n",
              "      <td>-0.000179</td>\n",
              "      <td>-0.067533</td>\n",
              "      <td>100.00</td>\n",
              "    </tr>\n",
              "    <tr>\n",
              "      <th>38393</th>\n",
              "      <td>168568.0</td>\n",
              "      <td>1.956946</td>\n",
              "      <td>-0.310638</td>\n",
              "      <td>-1.276120</td>\n",
              "      <td>0.337052</td>\n",
              "      <td>-0.047480</td>\n",
              "      <td>-0.659073</td>\n",
              "      <td>-0.031063</td>\n",
              "      <td>-0.104195</td>\n",
              "      <td>0.366549</td>\n",
              "      <td>0.367669</td>\n",
              "      <td>0.580609</td>\n",
              "      <td>0.226534</td>\n",
              "      <td>-0.996805</td>\n",
              "      <td>0.785931</td>\n",
              "      <td>0.178449</td>\n",
              "      <td>0.421036</td>\n",
              "      <td>-0.801430</td>\n",
              "      <td>0.414740</td>\n",
              "      <td>0.014852</td>\n",
              "      <td>-0.191886</td>\n",
              "      <td>0.188797</td>\n",
              "      <td>0.488669</td>\n",
              "      <td>0.043652</td>\n",
              "      <td>-0.380817</td>\n",
              "      <td>-0.070321</td>\n",
              "      <td>0.391003</td>\n",
              "      <td>-0.074177</td>\n",
              "      <td>-0.070261</td>\n",
              "      <td>42.98</td>\n",
              "    </tr>\n",
              "    <tr>\n",
              "      <th>173330</th>\n",
              "      <td>33976.0</td>\n",
              "      <td>0.990182</td>\n",
              "      <td>-0.053769</td>\n",
              "      <td>0.263690</td>\n",
              "      <td>1.280483</td>\n",
              "      <td>-0.281139</td>\n",
              "      <td>-0.377423</td>\n",
              "      <td>0.164353</td>\n",
              "      <td>-0.065482</td>\n",
              "      <td>0.029121</td>\n",
              "      <td>-0.015365</td>\n",
              "      <td>-0.262049</td>\n",
              "      <td>0.052303</td>\n",
              "      <td>-0.348442</td>\n",
              "      <td>0.456461</td>\n",
              "      <td>1.244467</td>\n",
              "      <td>-0.111094</td>\n",
              "      <td>-0.169239</td>\n",
              "      <td>-0.449806</td>\n",
              "      <td>-0.863743</td>\n",
              "      <td>0.013184</td>\n",
              "      <td>0.156275</td>\n",
              "      <td>0.280870</td>\n",
              "      <td>-0.166172</td>\n",
              "      <td>0.085264</td>\n",
              "      <td>0.549844</td>\n",
              "      <td>-0.261117</td>\n",
              "      <td>0.012580</td>\n",
              "      <td>0.035939</td>\n",
              "      <td>108.00</td>\n",
              "    </tr>\n",
              "    <tr>\n",
              "      <th>142612</th>\n",
              "      <td>62155.0</td>\n",
              "      <td>-1.080161</td>\n",
              "      <td>-1.213746</td>\n",
              "      <td>1.974065</td>\n",
              "      <td>-2.203755</td>\n",
              "      <td>-1.063698</td>\n",
              "      <td>-1.173169</td>\n",
              "      <td>0.033453</td>\n",
              "      <td>-0.184253</td>\n",
              "      <td>-2.549609</td>\n",
              "      <td>0.522503</td>\n",
              "      <td>-0.200400</td>\n",
              "      <td>-0.413675</td>\n",
              "      <td>1.548135</td>\n",
              "      <td>-0.701979</td>\n",
              "      <td>-0.075468</td>\n",
              "      <td>-0.117625</td>\n",
              "      <td>0.185186</td>\n",
              "      <td>-0.169001</td>\n",
              "      <td>-1.059709</td>\n",
              "      <td>0.232410</td>\n",
              "      <td>-0.109093</td>\n",
              "      <td>-0.465466</td>\n",
              "      <td>0.502660</td>\n",
              "      <td>0.661659</td>\n",
              "      <td>-0.064474</td>\n",
              "      <td>-0.600733</td>\n",
              "      <td>0.025647</td>\n",
              "      <td>0.135515</td>\n",
              "      <td>177.70</td>\n",
              "    </tr>\n",
              "  </tbody>\n",
              "</table>\n",
              "</div>"
            ],
            "text/plain": [
              "            Time        V1        V2  ...       V27       V28  Amount\n",
              "146666   78498.0 -0.502755  0.188666  ...  0.137597  0.167856  126.98\n",
              "37694   118053.0  1.732166 -0.772691  ... -0.000179 -0.067533  100.00\n",
              "38393   168568.0  1.956946 -0.310638  ... -0.074177 -0.070261   42.98\n",
              "173330   33976.0  0.990182 -0.053769  ...  0.012580  0.035939  108.00\n",
              "142612   62155.0 -1.080161 -1.213746  ...  0.025647  0.135515  177.70\n",
              "\n",
              "[5 rows x 30 columns]"
            ]
          },
          "metadata": {
            "tags": []
          },
          "execution_count": 30
        }
      ]
    },
    {
      "cell_type": "code",
      "metadata": {
        "id": "KlQJmp0UVbIv",
        "colab_type": "code",
        "outputId": "1c98ec01-8608-4b79-e2ec-971aad7fcee3",
        "colab": {
          "base_uri": "https://localhost:8080/",
          "height": 226
        }
      },
      "source": [
        "X_val.head()"
      ],
      "execution_count": 0,
      "outputs": [
        {
          "output_type": "execute_result",
          "data": {
            "text/html": [
              "<div>\n",
              "<style scoped>\n",
              "    .dataframe tbody tr th:only-of-type {\n",
              "        vertical-align: middle;\n",
              "    }\n",
              "\n",
              "    .dataframe tbody tr th {\n",
              "        vertical-align: top;\n",
              "    }\n",
              "\n",
              "    .dataframe thead th {\n",
              "        text-align: right;\n",
              "    }\n",
              "</style>\n",
              "<table border=\"1\" class=\"dataframe\">\n",
              "  <thead>\n",
              "    <tr style=\"text-align: right;\">\n",
              "      <th></th>\n",
              "      <th>Time</th>\n",
              "      <th>V1</th>\n",
              "      <th>V2</th>\n",
              "      <th>V3</th>\n",
              "      <th>V4</th>\n",
              "      <th>V5</th>\n",
              "      <th>V6</th>\n",
              "      <th>V7</th>\n",
              "      <th>V8</th>\n",
              "      <th>V9</th>\n",
              "      <th>V10</th>\n",
              "      <th>V11</th>\n",
              "      <th>V12</th>\n",
              "      <th>V13</th>\n",
              "      <th>V14</th>\n",
              "      <th>V15</th>\n",
              "      <th>V16</th>\n",
              "      <th>V17</th>\n",
              "      <th>V18</th>\n",
              "      <th>V19</th>\n",
              "      <th>V20</th>\n",
              "      <th>V21</th>\n",
              "      <th>V22</th>\n",
              "      <th>V23</th>\n",
              "      <th>V24</th>\n",
              "      <th>V25</th>\n",
              "      <th>V26</th>\n",
              "      <th>V27</th>\n",
              "      <th>V28</th>\n",
              "      <th>Amount</th>\n",
              "    </tr>\n",
              "  </thead>\n",
              "  <tbody>\n",
              "    <tr>\n",
              "      <th>85924</th>\n",
              "      <td>137092.0</td>\n",
              "      <td>1.924353</td>\n",
              "      <td>0.575341</td>\n",
              "      <td>-0.958837</td>\n",
              "      <td>3.509359</td>\n",
              "      <td>0.958303</td>\n",
              "      <td>0.649692</td>\n",
              "      <td>0.203940</td>\n",
              "      <td>0.078958</td>\n",
              "      <td>-1.226021</td>\n",
              "      <td>1.572164</td>\n",
              "      <td>0.084439</td>\n",
              "      <td>0.548903</td>\n",
              "      <td>0.235285</td>\n",
              "      <td>0.334186</td>\n",
              "      <td>-1.809282</td>\n",
              "      <td>0.958076</td>\n",
              "      <td>-1.075206</td>\n",
              "      <td>-0.207605</td>\n",
              "      <td>-0.801489</td>\n",
              "      <td>-0.231008</td>\n",
              "      <td>-0.214244</td>\n",
              "      <td>-0.625048</td>\n",
              "      <td>0.265238</td>\n",
              "      <td>0.219950</td>\n",
              "      <td>-0.093669</td>\n",
              "      <td>-0.291357</td>\n",
              "      <td>-0.046431</td>\n",
              "      <td>-0.053290</td>\n",
              "      <td>6.02</td>\n",
              "    </tr>\n",
              "    <tr>\n",
              "      <th>144576</th>\n",
              "      <td>34044.0</td>\n",
              "      <td>1.009349</td>\n",
              "      <td>-0.058604</td>\n",
              "      <td>0.437737</td>\n",
              "      <td>1.373641</td>\n",
              "      <td>-0.311653</td>\n",
              "      <td>0.027110</td>\n",
              "      <td>-0.019541</td>\n",
              "      <td>0.152865</td>\n",
              "      <td>0.136556</td>\n",
              "      <td>0.044620</td>\n",
              "      <td>1.203490</td>\n",
              "      <td>0.847524</td>\n",
              "      <td>-1.069360</td>\n",
              "      <td>0.450562</td>\n",
              "      <td>-0.712165</td>\n",
              "      <td>-0.540474</td>\n",
              "      <td>0.135417</td>\n",
              "      <td>-0.437250</td>\n",
              "      <td>-0.165265</td>\n",
              "      <td>-0.135832</td>\n",
              "      <td>-0.015658</td>\n",
              "      <td>-0.000932</td>\n",
              "      <td>-0.083907</td>\n",
              "      <td>0.224880</td>\n",
              "      <td>0.559480</td>\n",
              "      <td>-0.345480</td>\n",
              "      <td>0.021372</td>\n",
              "      <td>0.014944</td>\n",
              "      <td>58.92</td>\n",
              "    </tr>\n",
              "    <tr>\n",
              "      <th>174511</th>\n",
              "      <td>60893.0</td>\n",
              "      <td>1.017121</td>\n",
              "      <td>-0.806732</td>\n",
              "      <td>0.895210</td>\n",
              "      <td>-1.164497</td>\n",
              "      <td>-1.361611</td>\n",
              "      <td>-0.603246</td>\n",
              "      <td>-0.551444</td>\n",
              "      <td>0.005059</td>\n",
              "      <td>1.796572</td>\n",
              "      <td>-1.276902</td>\n",
              "      <td>0.249518</td>\n",
              "      <td>1.271983</td>\n",
              "      <td>0.575240</td>\n",
              "      <td>-0.264433</td>\n",
              "      <td>1.509792</td>\n",
              "      <td>-0.795129</td>\n",
              "      <td>0.290204</td>\n",
              "      <td>-0.549999</td>\n",
              "      <td>0.226900</td>\n",
              "      <td>0.108715</td>\n",
              "      <td>0.095506</td>\n",
              "      <td>0.361957</td>\n",
              "      <td>-0.038604</td>\n",
              "      <td>0.472755</td>\n",
              "      <td>0.232071</td>\n",
              "      <td>-0.029788</td>\n",
              "      <td>0.048493</td>\n",
              "      <td>0.043987</td>\n",
              "      <td>100.00</td>\n",
              "    </tr>\n",
              "    <tr>\n",
              "      <th>8822</th>\n",
              "      <td>79972.0</td>\n",
              "      <td>-0.455815</td>\n",
              "      <td>-0.206672</td>\n",
              "      <td>2.130434</td>\n",
              "      <td>-0.454155</td>\n",
              "      <td>-1.857334</td>\n",
              "      <td>0.650322</td>\n",
              "      <td>-0.306089</td>\n",
              "      <td>0.157228</td>\n",
              "      <td>-0.059669</td>\n",
              "      <td>0.208823</td>\n",
              "      <td>-0.755930</td>\n",
              "      <td>-0.696615</td>\n",
              "      <td>-0.693055</td>\n",
              "      <td>-1.099963</td>\n",
              "      <td>-0.801061</td>\n",
              "      <td>-0.223200</td>\n",
              "      <td>1.509857</td>\n",
              "      <td>-1.635142</td>\n",
              "      <td>1.285166</td>\n",
              "      <td>-0.008089</td>\n",
              "      <td>0.359277</td>\n",
              "      <td>1.364004</td>\n",
              "      <td>-0.103755</td>\n",
              "      <td>0.483681</td>\n",
              "      <td>-0.483004</td>\n",
              "      <td>-0.006216</td>\n",
              "      <td>0.037234</td>\n",
              "      <td>0.121178</td>\n",
              "      <td>115.00</td>\n",
              "    </tr>\n",
              "    <tr>\n",
              "      <th>4050</th>\n",
              "      <td>27690.0</td>\n",
              "      <td>1.236986</td>\n",
              "      <td>-0.166139</td>\n",
              "      <td>0.090760</td>\n",
              "      <td>0.185506</td>\n",
              "      <td>-0.026162</td>\n",
              "      <td>0.335124</td>\n",
              "      <td>-0.199717</td>\n",
              "      <td>0.052244</td>\n",
              "      <td>0.415055</td>\n",
              "      <td>-0.165855</td>\n",
              "      <td>0.044547</td>\n",
              "      <td>1.217414</td>\n",
              "      <td>0.853948</td>\n",
              "      <td>-0.229043</td>\n",
              "      <td>-1.040054</td>\n",
              "      <td>0.109025</td>\n",
              "      <td>-0.583498</td>\n",
              "      <td>0.168534</td>\n",
              "      <td>1.036618</td>\n",
              "      <td>0.035273</td>\n",
              "      <td>-0.099764</td>\n",
              "      <td>-0.077329</td>\n",
              "      <td>-0.265990</td>\n",
              "      <td>-0.738330</td>\n",
              "      <td>0.682727</td>\n",
              "      <td>0.721433</td>\n",
              "      <td>-0.037730</td>\n",
              "      <td>-0.009590</td>\n",
              "      <td>29.00</td>\n",
              "    </tr>\n",
              "  </tbody>\n",
              "</table>\n",
              "</div>"
            ],
            "text/plain": [
              "            Time        V1        V2  ...       V27       V28  Amount\n",
              "85924   137092.0  1.924353  0.575341  ... -0.046431 -0.053290    6.02\n",
              "144576   34044.0  1.009349 -0.058604  ...  0.021372  0.014944   58.92\n",
              "174511   60893.0  1.017121 -0.806732  ...  0.048493  0.043987  100.00\n",
              "8822     79972.0 -0.455815 -0.206672  ...  0.037234  0.121178  115.00\n",
              "4050     27690.0  1.236986 -0.166139  ... -0.037730 -0.009590   29.00\n",
              "\n",
              "[5 rows x 30 columns]"
            ]
          },
          "metadata": {
            "tags": []
          },
          "execution_count": 31
        }
      ]
    },
    {
      "cell_type": "code",
      "metadata": {
        "id": "wdINz-bTww3U",
        "colab_type": "code",
        "outputId": "c662fc03-d196-4e76-dafb-4f499aae1a14",
        "colab": {
          "base_uri": "https://localhost:8080/",
          "height": 588
        }
      },
      "source": [
        "fiturs = []\n",
        "hasil2 = []\n",
        "ntree = 100\n",
        "sub_sample = 256\n",
        "for fitur in range(1,11):\n",
        "  X_train2 = X_train[best_fitur[:fitur]]\n",
        "  \n",
        "  X_val2 = X_val[best_fitur[:fitur]]\n",
        "  \n",
        "  th = y_train.mean()\n",
        "  \n",
        "  ifor = iForest(X_train2,ntree,sub_sample,th)\n",
        "  \n",
        "  y_pred = ifor.predict(X_val2)\n",
        "  \n",
        "  y_pred = np.array(convert(y_pred))\n",
        "  \n",
        "  ifo_scores = ifor.score_samples(X_val2)\n",
        "  \n",
        "  ifo_scores = -ifo_scores\n",
        "  \n",
        "  roc_auc, aucpr = roc_aucpr(y_val, ifo_scores)\n",
        "  \n",
        "  precision,recall,f1_score = metric_evaluasi(y_val,y_pred)\n",
        "\n",
        "  TP,FP,FN,TN = confussion_matrik(y_val,y_pred)\n",
        "\n",
        "  FPR = FP/(TN+FP)\n",
        "  \n",
        "  result = [fitur,precision,recall,FPR,f1_score, roc_auc, aucpr]\n",
        "  \n",
        "  hasil2.append(result)\n",
        "  \n",
        "  print ('==> Fitur : ', fitur, 'terbaik done. .')"
      ],
      "execution_count": 0,
      "outputs": [
        {
          "output_type": "stream",
          "text": [
            "/usr/local/lib/python3.6/dist-packages/sklearn/ensemble/_iforest.py:248: FutureWarning: 'behaviour' is deprecated in 0.22 and will be removed in 0.24. You should not pass or set this parameter.\n",
            "  FutureWarning\n"
          ],
          "name": "stderr"
        },
        {
          "output_type": "stream",
          "text": [
            "==> Fitur :  1 terbaik done. .\n"
          ],
          "name": "stdout"
        },
        {
          "output_type": "stream",
          "text": [
            "/usr/local/lib/python3.6/dist-packages/sklearn/ensemble/_iforest.py:248: FutureWarning: 'behaviour' is deprecated in 0.22 and will be removed in 0.24. You should not pass or set this parameter.\n",
            "  FutureWarning\n"
          ],
          "name": "stderr"
        },
        {
          "output_type": "stream",
          "text": [
            "==> Fitur :  2 terbaik done. .\n"
          ],
          "name": "stdout"
        },
        {
          "output_type": "stream",
          "text": [
            "/usr/local/lib/python3.6/dist-packages/sklearn/ensemble/_iforest.py:248: FutureWarning: 'behaviour' is deprecated in 0.22 and will be removed in 0.24. You should not pass or set this parameter.\n",
            "  FutureWarning\n"
          ],
          "name": "stderr"
        },
        {
          "output_type": "stream",
          "text": [
            "==> Fitur :  3 terbaik done. .\n"
          ],
          "name": "stdout"
        },
        {
          "output_type": "stream",
          "text": [
            "/usr/local/lib/python3.6/dist-packages/sklearn/ensemble/_iforest.py:248: FutureWarning: 'behaviour' is deprecated in 0.22 and will be removed in 0.24. You should not pass or set this parameter.\n",
            "  FutureWarning\n"
          ],
          "name": "stderr"
        },
        {
          "output_type": "stream",
          "text": [
            "==> Fitur :  4 terbaik done. .\n"
          ],
          "name": "stdout"
        },
        {
          "output_type": "stream",
          "text": [
            "/usr/local/lib/python3.6/dist-packages/sklearn/ensemble/_iforest.py:248: FutureWarning: 'behaviour' is deprecated in 0.22 and will be removed in 0.24. You should not pass or set this parameter.\n",
            "  FutureWarning\n"
          ],
          "name": "stderr"
        },
        {
          "output_type": "stream",
          "text": [
            "==> Fitur :  5 terbaik done. .\n"
          ],
          "name": "stdout"
        },
        {
          "output_type": "stream",
          "text": [
            "/usr/local/lib/python3.6/dist-packages/sklearn/ensemble/_iforest.py:248: FutureWarning: 'behaviour' is deprecated in 0.22 and will be removed in 0.24. You should not pass or set this parameter.\n",
            "  FutureWarning\n"
          ],
          "name": "stderr"
        },
        {
          "output_type": "stream",
          "text": [
            "==> Fitur :  6 terbaik done. .\n"
          ],
          "name": "stdout"
        },
        {
          "output_type": "stream",
          "text": [
            "/usr/local/lib/python3.6/dist-packages/sklearn/ensemble/_iforest.py:248: FutureWarning: 'behaviour' is deprecated in 0.22 and will be removed in 0.24. You should not pass or set this parameter.\n",
            "  FutureWarning\n"
          ],
          "name": "stderr"
        },
        {
          "output_type": "stream",
          "text": [
            "==> Fitur :  7 terbaik done. .\n"
          ],
          "name": "stdout"
        },
        {
          "output_type": "stream",
          "text": [
            "/usr/local/lib/python3.6/dist-packages/sklearn/ensemble/_iforest.py:248: FutureWarning: 'behaviour' is deprecated in 0.22 and will be removed in 0.24. You should not pass or set this parameter.\n",
            "  FutureWarning\n"
          ],
          "name": "stderr"
        },
        {
          "output_type": "stream",
          "text": [
            "==> Fitur :  8 terbaik done. .\n"
          ],
          "name": "stdout"
        },
        {
          "output_type": "stream",
          "text": [
            "/usr/local/lib/python3.6/dist-packages/sklearn/ensemble/_iforest.py:248: FutureWarning: 'behaviour' is deprecated in 0.22 and will be removed in 0.24. You should not pass or set this parameter.\n",
            "  FutureWarning\n"
          ],
          "name": "stderr"
        },
        {
          "output_type": "stream",
          "text": [
            "==> Fitur :  9 terbaik done. .\n"
          ],
          "name": "stdout"
        },
        {
          "output_type": "stream",
          "text": [
            "/usr/local/lib/python3.6/dist-packages/sklearn/ensemble/_iforest.py:248: FutureWarning: 'behaviour' is deprecated in 0.22 and will be removed in 0.24. You should not pass or set this parameter.\n",
            "  FutureWarning\n"
          ],
          "name": "stderr"
        },
        {
          "output_type": "stream",
          "text": [
            "==> Fitur :  10 terbaik done. .\n"
          ],
          "name": "stdout"
        }
      ]
    },
    {
      "cell_type": "code",
      "metadata": {
        "id": "S29aDqWnyBPX",
        "colab_type": "code",
        "outputId": "5cfc99cd-43f2-45fa-98d5-d8bdc187c65e",
        "colab": {
          "base_uri": "https://localhost:8080/",
          "height": 363
        }
      },
      "source": [
        "hasil_percobaan2 = pd.DataFrame(data= hasil2, columns=['Jumlah Fitur','Precision','TPR','FPR','F1_Score', 'ROC_AUC', 'AUCPR'])\n",
        "hasil_percobaan2"
      ],
      "execution_count": 0,
      "outputs": [
        {
          "output_type": "execute_result",
          "data": {
            "text/html": [
              "<div>\n",
              "<style scoped>\n",
              "    .dataframe tbody tr th:only-of-type {\n",
              "        vertical-align: middle;\n",
              "    }\n",
              "\n",
              "    .dataframe tbody tr th {\n",
              "        vertical-align: top;\n",
              "    }\n",
              "\n",
              "    .dataframe thead th {\n",
              "        text-align: right;\n",
              "    }\n",
              "</style>\n",
              "<table border=\"1\" class=\"dataframe\">\n",
              "  <thead>\n",
              "    <tr style=\"text-align: right;\">\n",
              "      <th></th>\n",
              "      <th>Jumlah Fitur</th>\n",
              "      <th>Precision</th>\n",
              "      <th>TPR</th>\n",
              "      <th>FPR</th>\n",
              "      <th>F1_Score</th>\n",
              "      <th>ROC_AUC</th>\n",
              "      <th>AUCPR</th>\n",
              "    </tr>\n",
              "  </thead>\n",
              "  <tbody>\n",
              "    <tr>\n",
              "      <th>0</th>\n",
              "      <td>1</td>\n",
              "      <td>0.616000</td>\n",
              "      <td>0.557971</td>\n",
              "      <td>0.000603</td>\n",
              "      <td>0.585551</td>\n",
              "      <td>0.942206</td>\n",
              "      <td>0.546269</td>\n",
              "    </tr>\n",
              "    <tr>\n",
              "      <th>1</th>\n",
              "      <td>2</td>\n",
              "      <td>0.588710</td>\n",
              "      <td>0.528986</td>\n",
              "      <td>0.000641</td>\n",
              "      <td>0.557252</td>\n",
              "      <td>0.965031</td>\n",
              "      <td>0.506081</td>\n",
              "    </tr>\n",
              "    <tr>\n",
              "      <th>2</th>\n",
              "      <td>3</td>\n",
              "      <td>0.616541</td>\n",
              "      <td>0.594203</td>\n",
              "      <td>0.000641</td>\n",
              "      <td>0.605166</td>\n",
              "      <td>0.968412</td>\n",
              "      <td>0.529786</td>\n",
              "    </tr>\n",
              "    <tr>\n",
              "      <th>3</th>\n",
              "      <td>4</td>\n",
              "      <td>0.723077</td>\n",
              "      <td>0.681159</td>\n",
              "      <td>0.000452</td>\n",
              "      <td>0.701493</td>\n",
              "      <td>0.967445</td>\n",
              "      <td>0.629044</td>\n",
              "    </tr>\n",
              "    <tr>\n",
              "      <th>4</th>\n",
              "      <td>5</td>\n",
              "      <td>0.725352</td>\n",
              "      <td>0.746377</td>\n",
              "      <td>0.000490</td>\n",
              "      <td>0.735714</td>\n",
              "      <td>0.970386</td>\n",
              "      <td>0.637907</td>\n",
              "    </tr>\n",
              "    <tr>\n",
              "      <th>5</th>\n",
              "      <td>6</td>\n",
              "      <td>0.666667</td>\n",
              "      <td>0.652174</td>\n",
              "      <td>0.000565</td>\n",
              "      <td>0.659341</td>\n",
              "      <td>0.973078</td>\n",
              "      <td>0.550999</td>\n",
              "    </tr>\n",
              "    <tr>\n",
              "      <th>6</th>\n",
              "      <td>7</td>\n",
              "      <td>0.550000</td>\n",
              "      <td>0.557971</td>\n",
              "      <td>0.000791</td>\n",
              "      <td>0.553957</td>\n",
              "      <td>0.966702</td>\n",
              "      <td>0.461982</td>\n",
              "    </tr>\n",
              "    <tr>\n",
              "      <th>7</th>\n",
              "      <td>8</td>\n",
              "      <td>0.584507</td>\n",
              "      <td>0.601449</td>\n",
              "      <td>0.000741</td>\n",
              "      <td>0.592857</td>\n",
              "      <td>0.971321</td>\n",
              "      <td>0.527721</td>\n",
              "    </tr>\n",
              "    <tr>\n",
              "      <th>8</th>\n",
              "      <td>9</td>\n",
              "      <td>0.431034</td>\n",
              "      <td>0.362319</td>\n",
              "      <td>0.000829</td>\n",
              "      <td>0.393701</td>\n",
              "      <td>0.971417</td>\n",
              "      <td>0.302686</td>\n",
              "    </tr>\n",
              "    <tr>\n",
              "      <th>9</th>\n",
              "      <td>10</td>\n",
              "      <td>0.379845</td>\n",
              "      <td>0.355072</td>\n",
              "      <td>0.001005</td>\n",
              "      <td>0.367041</td>\n",
              "      <td>0.973214</td>\n",
              "      <td>0.295904</td>\n",
              "    </tr>\n",
              "  </tbody>\n",
              "</table>\n",
              "</div>"
            ],
            "text/plain": [
              "   Jumlah Fitur  Precision       TPR       FPR  F1_Score   ROC_AUC     AUCPR\n",
              "0             1   0.616000  0.557971  0.000603  0.585551  0.942206  0.546269\n",
              "1             2   0.588710  0.528986  0.000641  0.557252  0.965031  0.506081\n",
              "2             3   0.616541  0.594203  0.000641  0.605166  0.968412  0.529786\n",
              "3             4   0.723077  0.681159  0.000452  0.701493  0.967445  0.629044\n",
              "4             5   0.725352  0.746377  0.000490  0.735714  0.970386  0.637907\n",
              "5             6   0.666667  0.652174  0.000565  0.659341  0.973078  0.550999\n",
              "6             7   0.550000  0.557971  0.000791  0.553957  0.966702  0.461982\n",
              "7             8   0.584507  0.601449  0.000741  0.592857  0.971321  0.527721\n",
              "8             9   0.431034  0.362319  0.000829  0.393701  0.971417  0.302686\n",
              "9            10   0.379845  0.355072  0.001005  0.367041  0.973214  0.295904"
            ]
          },
          "metadata": {
            "tags": []
          },
          "execution_count": 33
        }
      ]
    },
    {
      "cell_type": "code",
      "metadata": {
        "id": "8KVvvm-WyKFW",
        "colab_type": "code",
        "outputId": "e3c6c499-a83f-4494-f7b5-a411fbfab75f",
        "colab": {
          "base_uri": "https://localhost:8080/",
          "height": 81
        }
      },
      "source": [
        "maxi = hasil_percobaan2['F1_Score'].max()\n",
        "terbaik2 = hasil_percobaan2[hasil_percobaan2['F1_Score']==maxi]\n",
        "terbaik2"
      ],
      "execution_count": 0,
      "outputs": [
        {
          "output_type": "execute_result",
          "data": {
            "text/html": [
              "<div>\n",
              "<style scoped>\n",
              "    .dataframe tbody tr th:only-of-type {\n",
              "        vertical-align: middle;\n",
              "    }\n",
              "\n",
              "    .dataframe tbody tr th {\n",
              "        vertical-align: top;\n",
              "    }\n",
              "\n",
              "    .dataframe thead th {\n",
              "        text-align: right;\n",
              "    }\n",
              "</style>\n",
              "<table border=\"1\" class=\"dataframe\">\n",
              "  <thead>\n",
              "    <tr style=\"text-align: right;\">\n",
              "      <th></th>\n",
              "      <th>Jumlah Fitur</th>\n",
              "      <th>Precision</th>\n",
              "      <th>TPR</th>\n",
              "      <th>FPR</th>\n",
              "      <th>F1_Score</th>\n",
              "      <th>ROC_AUC</th>\n",
              "      <th>AUCPR</th>\n",
              "    </tr>\n",
              "  </thead>\n",
              "  <tbody>\n",
              "    <tr>\n",
              "      <th>4</th>\n",
              "      <td>5</td>\n",
              "      <td>0.725352</td>\n",
              "      <td>0.746377</td>\n",
              "      <td>0.00049</td>\n",
              "      <td>0.735714</td>\n",
              "      <td>0.970386</td>\n",
              "      <td>0.637907</td>\n",
              "    </tr>\n",
              "  </tbody>\n",
              "</table>\n",
              "</div>"
            ],
            "text/plain": [
              "   Jumlah Fitur  Precision       TPR      FPR  F1_Score   ROC_AUC     AUCPR\n",
              "4             5   0.725352  0.746377  0.00049  0.735714  0.970386  0.637907"
            ]
          },
          "metadata": {
            "tags": []
          },
          "execution_count": 34
        }
      ]
    },
    {
      "cell_type": "code",
      "metadata": {
        "id": "bpHAd8_NnXcu",
        "colab_type": "code",
        "outputId": "6a240519-4499-4ef1-e120-2b593dc76970",
        "colab": {
          "base_uri": "https://localhost:8080/",
          "height": 35
        }
      },
      "source": [
        "jml_fitur = terbaik2['Jumlah Fitur']\n",
        "jml_fitur = int(jml_fitur)\n",
        "jml_fitur"
      ],
      "execution_count": 0,
      "outputs": [
        {
          "output_type": "execute_result",
          "data": {
            "text/plain": [
              "5"
            ]
          },
          "metadata": {
            "tags": []
          },
          "execution_count": 35
        }
      ]
    },
    {
      "cell_type": "markdown",
      "metadata": {
        "colab_type": "text",
        "id": "KItYczkTtAEt"
      },
      "source": [
        "### Grafik ROC_AUC dan Precision_Recall pada data Validasi"
      ]
    },
    {
      "cell_type": "code",
      "metadata": {
        "id": "K2-lQkWvs0EZ",
        "colab_type": "code",
        "outputId": "3ff97cc5-d030-419d-8ef7-d15f590a438f",
        "colab": {
          "base_uri": "https://localhost:8080/",
          "height": 364
        }
      },
      "source": [
        "# X_new = X[best_fitur[:jml_fitur]]\n",
        "  \n",
        "# X_train, X_val, y_train, y_val = train_test_split(X_new, y, test_size=best_rasio, random_state=1, stratify=y)\n",
        "X_train = X_train[best_fitur[:jml_fitur]]\n",
        "\n",
        "X_val = X_val[best_fitur[:jml_fitur]]\n",
        "\n",
        "th = y_train.mean()\n",
        "\n",
        "ifor2 = iForest(X_train,ntree,sub_sample,th)\n",
        "\n",
        "y_pred = ifor2.predict(X_val)\n",
        "\n",
        "y_pred = np.array(convert(y_pred))\n",
        "\n",
        "ifval_scores = ifor2.score_samples(X_val)\n",
        "\n",
        "ifval_scores = -ifval_scores\n",
        "\n",
        "val_predictions = pd.DataFrame({\n",
        "\n",
        "    \"predicted_class\": y_pred,\n",
        "\n",
        "    \"class\": y_val,\n",
        "\n",
        "    \"predict\": ifval_scores\n",
        "\n",
        "})\n",
        "\n",
        "figure()\n",
        "axes = prediction_summary(\n",
        "\n",
        "    val_predictions[\"class\"], val_predictions[\"predict\"], val_predictions[\"predicted_class\"],'validasi')"
      ],
      "execution_count": 0,
      "outputs": [
        {
          "output_type": "stream",
          "text": [
            "/usr/local/lib/python3.6/dist-packages/sklearn/ensemble/_iforest.py:248: FutureWarning: 'behaviour' is deprecated in 0.22 and will be removed in 0.24. You should not pass or set this parameter.\n",
            "  FutureWarning\n"
          ],
          "name": "stderr"
        },
        {
          "output_type": "display_data",
          "data": {
            "image/png": "[encoded data removed]",
            "text/plain": [
              "<Figure size 648x324 with 2 Axes>"
            ]
          },
          "metadata": {
            "tags": []
          }
        }
      ]
    },
    {
      "cell_type": "markdown",
      "metadata": {
        "colab_type": "text",
        "id": "MfiX_blStwXq"
      },
      "source": [
        "### Grafik ROC_AUC dan Precision_Recall pada data Testing"
      ]
    },
    {
      "cell_type": "code",
      "metadata": {
        "id": "hNlQ58UQw-wb",
        "colab_type": "code",
        "outputId": "183ec5c9-8d53-499c-e173-761be38d0b30",
        "colab": {
          "base_uri": "https://localhost:8080/",
          "height": 307
        }
      },
      "source": [
        "testing2 = []\n",
        "Xtest_new = XTest[best_fitur[:jml_fitur]]\n",
        "\n",
        "iftest_predict = ifor2.predict(Xtest_new)\n",
        "\n",
        "iftest_scores = ifor2.score_samples(Xtest_new)\n",
        "\n",
        "roc_auc, aucpr = roc_aucpr(ytest, -iftest_scores)\n",
        "  \n",
        "precision,recall,f1_score = metric_evaluasi(ytest,np.array(convert(iftest_predict)))\n",
        "\n",
        "TP,FP,FN,TN = confussion_matrik(y_val,y_pred)\n",
        "\n",
        "FPR = FP/(TN+FP)\n",
        "\n",
        "result2 = [jml_fitur,precision,recall,FPR,f1_score, roc_auc, aucpr]\n",
        "\n",
        "testing2.append(result2)\n",
        "\n",
        "test_predictions = pd.DataFrame({\n",
        "\n",
        "    \"predicted_class\": list(map(lambda x: 1*(x == -1), iftest_predict)),\n",
        "\n",
        "    \"class\": ytest,\n",
        "\n",
        "    \"predict\": -iftest_scores\n",
        "\n",
        "})\n",
        "\n",
        "figure()\n",
        "axes = prediction_summary(\n",
        "    test_predictions[\"class\"], test_predictions[\"predict\"], test_predictions[\"predicted_class\"],'test')"
      ],
      "execution_count": 0,
      "outputs": [
        {
          "output_type": "display_data",
          "data": {
            "image/png": "[encoded data removed]",
            "text/plain": [
              "<Figure size 648x324 with 2 Axes>"
            ]
          },
          "metadata": {
            "tags": []
          }
        }
      ]
    },
    {
      "cell_type": "code",
      "metadata": {
        "id": "3RzExqGVACsp",
        "colab_type": "code",
        "outputId": "4b3ca1e5-697c-4250-8a3c-8f04c5c5ddce",
        "colab": {
          "base_uri": "https://localhost:8080/",
          "height": 81
        }
      },
      "source": [
        "hasil_testing2 = pd.DataFrame(data= testing2, columns=['Jumlah Fitur','Precision','TPR','FPR','F1_Score', 'ROC_AUC', 'AUCPR'])\n",
        "hasil_testing2"
      ],
      "execution_count": 0,
      "outputs": [
        {
          "output_type": "execute_result",
          "data": {
            "text/html": [
              "<div>\n",
              "<style scoped>\n",
              "    .dataframe tbody tr th:only-of-type {\n",
              "        vertical-align: middle;\n",
              "    }\n",
              "\n",
              "    .dataframe tbody tr th {\n",
              "        vertical-align: top;\n",
              "    }\n",
              "\n",
              "    .dataframe thead th {\n",
              "        text-align: right;\n",
              "    }\n",
              "</style>\n",
              "<table border=\"1\" class=\"dataframe\">\n",
              "  <thead>\n",
              "    <tr style=\"text-align: right;\">\n",
              "      <th></th>\n",
              "      <th>Jumlah Fitur</th>\n",
              "      <th>Precision</th>\n",
              "      <th>TPR</th>\n",
              "      <th>FPR</th>\n",
              "      <th>F1_Score</th>\n",
              "      <th>ROC_AUC</th>\n",
              "      <th>AUCPR</th>\n",
              "    </tr>\n",
              "  </thead>\n",
              "  <tbody>\n",
              "    <tr>\n",
              "      <th>0</th>\n",
              "      <td>5</td>\n",
              "      <td>0.722222</td>\n",
              "      <td>0.790541</td>\n",
              "      <td>0.00049</td>\n",
              "      <td>0.754839</td>\n",
              "      <td>0.973239</td>\n",
              "      <td>0.750256</td>\n",
              "    </tr>\n",
              "  </tbody>\n",
              "</table>\n",
              "</div>"
            ],
            "text/plain": [
              "   Jumlah Fitur  Precision       TPR      FPR  F1_Score   ROC_AUC     AUCPR\n",
              "0             5   0.722222  0.790541  0.00049  0.754839  0.973239  0.750256"
            ]
          },
          "metadata": {
            "tags": []
          },
          "execution_count": 38
        }
      ]
    },
    {
      "cell_type": "markdown",
      "metadata": {
        "id": "1cxFISZRyple",
        "colab_type": "text"
      },
      "source": [
        "# Percobaan 3 - Jumlah Anomali pada Training"
      ]
    },
    {
      "cell_type": "code",
      "metadata": {
        "id": "0fCNtE9DZEBG",
        "colab_type": "code",
        "colab": {}
      },
      "source": [
        "X3_train = X_train.join(y_train)\n",
        "X3_train = X3_train.reset_index()\n",
        "X3_train = X3_train.drop(['index'],axis=1)\n",
        "train3_normal = X3_train[X3_train['Class']==0]\n",
        "train3_fraud = X3_train[X3_train['Class']==1]"
      ],
      "execution_count": 0,
      "outputs": []
    },
    {
      "cell_type": "code",
      "metadata": {
        "id": "8F9Ux8uRarwH",
        "colab_type": "code",
        "outputId": "952290f3-e25d-4c61-9537-133c1e755868",
        "colab": {
          "base_uri": "https://localhost:8080/",
          "height": 206
        }
      },
      "source": [
        "X3_train.head()"
      ],
      "execution_count": 0,
      "outputs": [
        {
          "output_type": "execute_result",
          "data": {
            "text/html": [
              "<div>\n",
              "<style scoped>\n",
              "    .dataframe tbody tr th:only-of-type {\n",
              "        vertical-align: middle;\n",
              "    }\n",
              "\n",
              "    .dataframe tbody tr th {\n",
              "        vertical-align: top;\n",
              "    }\n",
              "\n",
              "    .dataframe thead th {\n",
              "        text-align: right;\n",
              "    }\n",
              "</style>\n",
              "<table border=\"1\" class=\"dataframe\">\n",
              "  <thead>\n",
              "    <tr style=\"text-align: right;\">\n",
              "      <th></th>\n",
              "      <th>V14</th>\n",
              "      <th>V4</th>\n",
              "      <th>V17</th>\n",
              "      <th>V12</th>\n",
              "      <th>V11</th>\n",
              "      <th>Class</th>\n",
              "    </tr>\n",
              "  </thead>\n",
              "  <tbody>\n",
              "    <tr>\n",
              "      <th>0</th>\n",
              "      <td>0.175293</td>\n",
              "      <td>0.150411</td>\n",
              "      <td>-0.276424</td>\n",
              "      <td>-0.121524</td>\n",
              "      <td>-0.686138</td>\n",
              "      <td>0</td>\n",
              "    </tr>\n",
              "    <tr>\n",
              "      <th>1</th>\n",
              "      <td>0.449576</td>\n",
              "      <td>-0.076128</td>\n",
              "      <td>0.274855</td>\n",
              "      <td>1.069866</td>\n",
              "      <td>0.740169</td>\n",
              "      <td>0</td>\n",
              "    </tr>\n",
              "    <tr>\n",
              "      <th>2</th>\n",
              "      <td>0.785931</td>\n",
              "      <td>0.337052</td>\n",
              "      <td>-0.801430</td>\n",
              "      <td>0.226534</td>\n",
              "      <td>0.580609</td>\n",
              "      <td>0</td>\n",
              "    </tr>\n",
              "    <tr>\n",
              "      <th>3</th>\n",
              "      <td>0.456461</td>\n",
              "      <td>1.280483</td>\n",
              "      <td>-0.169239</td>\n",
              "      <td>0.052303</td>\n",
              "      <td>-0.262049</td>\n",
              "      <td>0</td>\n",
              "    </tr>\n",
              "    <tr>\n",
              "      <th>4</th>\n",
              "      <td>-0.701979</td>\n",
              "      <td>-2.203755</td>\n",
              "      <td>0.185186</td>\n",
              "      <td>-0.413675</td>\n",
              "      <td>-0.200400</td>\n",
              "      <td>0</td>\n",
              "    </tr>\n",
              "  </tbody>\n",
              "</table>\n",
              "</div>"
            ],
            "text/plain": [
              "        V14        V4       V17       V12       V11  Class\n",
              "0  0.175293  0.150411 -0.276424 -0.121524 -0.686138      0\n",
              "1  0.449576 -0.076128  0.274855  1.069866  0.740169      0\n",
              "2  0.785931  0.337052 -0.801430  0.226534  0.580609      0\n",
              "3  0.456461  1.280483 -0.169239  0.052303 -0.262049      0\n",
              "4 -0.701979 -2.203755  0.185186 -0.413675 -0.200400      0"
            ]
          },
          "metadata": {
            "tags": []
          },
          "execution_count": 40
        }
      ]
    },
    {
      "cell_type": "code",
      "metadata": {
        "id": "SGRd-MjYavky",
        "colab_type": "code",
        "outputId": "e5688c79-1ffd-48bc-f2d6-065f781837e1",
        "colab": {
          "base_uri": "https://localhost:8080/",
          "height": 206
        }
      },
      "source": [
        "X_val.head()"
      ],
      "execution_count": 0,
      "outputs": [
        {
          "output_type": "execute_result",
          "data": {
            "text/html": [
              "<div>\n",
              "<style scoped>\n",
              "    .dataframe tbody tr th:only-of-type {\n",
              "        vertical-align: middle;\n",
              "    }\n",
              "\n",
              "    .dataframe tbody tr th {\n",
              "        vertical-align: top;\n",
              "    }\n",
              "\n",
              "    .dataframe thead th {\n",
              "        text-align: right;\n",
              "    }\n",
              "</style>\n",
              "<table border=\"1\" class=\"dataframe\">\n",
              "  <thead>\n",
              "    <tr style=\"text-align: right;\">\n",
              "      <th></th>\n",
              "      <th>V14</th>\n",
              "      <th>V4</th>\n",
              "      <th>V17</th>\n",
              "      <th>V12</th>\n",
              "      <th>V11</th>\n",
              "    </tr>\n",
              "  </thead>\n",
              "  <tbody>\n",
              "    <tr>\n",
              "      <th>85924</th>\n",
              "      <td>0.334186</td>\n",
              "      <td>3.509359</td>\n",
              "      <td>-1.075206</td>\n",
              "      <td>0.548903</td>\n",
              "      <td>0.084439</td>\n",
              "    </tr>\n",
              "    <tr>\n",
              "      <th>144576</th>\n",
              "      <td>0.450562</td>\n",
              "      <td>1.373641</td>\n",
              "      <td>0.135417</td>\n",
              "      <td>0.847524</td>\n",
              "      <td>1.203490</td>\n",
              "    </tr>\n",
              "    <tr>\n",
              "      <th>174511</th>\n",
              "      <td>-0.264433</td>\n",
              "      <td>-1.164497</td>\n",
              "      <td>0.290204</td>\n",
              "      <td>1.271983</td>\n",
              "      <td>0.249518</td>\n",
              "    </tr>\n",
              "    <tr>\n",
              "      <th>8822</th>\n",
              "      <td>-1.099963</td>\n",
              "      <td>-0.454155</td>\n",
              "      <td>1.509857</td>\n",
              "      <td>-0.696615</td>\n",
              "      <td>-0.755930</td>\n",
              "    </tr>\n",
              "    <tr>\n",
              "      <th>4050</th>\n",
              "      <td>-0.229043</td>\n",
              "      <td>0.185506</td>\n",
              "      <td>-0.583498</td>\n",
              "      <td>1.217414</td>\n",
              "      <td>0.044547</td>\n",
              "    </tr>\n",
              "  </tbody>\n",
              "</table>\n",
              "</div>"
            ],
            "text/plain": [
              "             V14        V4       V17       V12       V11\n",
              "85924   0.334186  3.509359 -1.075206  0.548903  0.084439\n",
              "144576  0.450562  1.373641  0.135417  0.847524  1.203490\n",
              "174511 -0.264433 -1.164497  0.290204  1.271983  0.249518\n",
              "8822   -1.099963 -0.454155  1.509857 -0.696615 -0.755930\n",
              "4050   -0.229043  0.185506 -0.583498  1.217414  0.044547"
            ]
          },
          "metadata": {
            "tags": []
          },
          "execution_count": 41
        }
      ]
    },
    {
      "cell_type": "code",
      "metadata": {
        "id": "5ulWOjwciCmZ",
        "colab_type": "code",
        "colab": {}
      },
      "source": [
        "# X_train"
      ],
      "execution_count": 0,
      "outputs": []
    },
    {
      "cell_type": "code",
      "metadata": {
        "id": "0-W3jZqElf7s",
        "colab_type": "code",
        "colab": {}
      },
      "source": [
        "# data_normal = X_raw[X_raw['Class']==0]\n",
        "# data_fraud = X_raw[X_raw['Class']==1]"
      ],
      "execution_count": 0,
      "outputs": []
    },
    {
      "cell_type": "code",
      "metadata": {
        "id": "L6BhFJv1YBx5",
        "colab_type": "code",
        "colab": {}
      },
      "source": [
        "# print('jumlah data normal :',len(data_normal), 'jumlah data fraud :', len(data_fraud))"
      ],
      "execution_count": 0,
      "outputs": []
    },
    {
      "cell_type": "code",
      "metadata": {
        "id": "AzLpjZdTZXEe",
        "colab_type": "code",
        "colab": {}
      },
      "source": [
        "# X_normal = data_normal.drop(['Class'], axis=1)\n",
        "# y_normal = data_normal['Class']\n",
        "\n",
        "# X_fraud = data_fraud.drop(['Class'], axis=1)\n",
        "# y_fraud = data_fraud['Class']"
      ],
      "execution_count": 0,
      "outputs": []
    },
    {
      "cell_type": "code",
      "metadata": {
        "id": "Wex4LNW0af4u",
        "colab_type": "code",
        "colab": {}
      },
      "source": [
        "# Xtrain_normal, Xtest_normal, ytrain_normal, ytest_normal = train_test_split(X_normal, y_normal, test_size=best_rasio, random_state=1, stratify=y_normal)\n",
        "# Xtrain_fraud, Xtest_fraud, ytrain_fraud, ytest_fraud = train_test_split(X_fraud, y_fraud, test_size=best_rasio, random_state=1, stratify=y_fraud)"
      ],
      "execution_count": 0,
      "outputs": []
    },
    {
      "cell_type": "code",
      "metadata": {
        "id": "6k8uSphMb9tk",
        "colab_type": "code",
        "colab": {}
      },
      "source": [
        "# print('jumlah data normal :',len(Xtest_normal), 'jumlah data fraud :', len(Xtest_fraud))"
      ],
      "execution_count": 0,
      "outputs": []
    },
    {
      "cell_type": "code",
      "metadata": {
        "id": "zJ7KWhJecMKS",
        "colab_type": "code",
        "colab": {}
      },
      "source": [
        "# print('jumlah data normal :',len(Xtrain_normal), 'jumlah data fraud :', len(Xtrain_fraud))"
      ],
      "execution_count": 0,
      "outputs": []
    },
    {
      "cell_type": "code",
      "metadata": {
        "id": "fFqkdxvDcSOm",
        "colab_type": "code",
        "colab": {}
      },
      "source": [
        "# X_test = Xtest_normal.append(Xtest_fraud)\n",
        "# X_test3 = X_test.sort_index()\n",
        "# X_test3 = X_test3[best_fitur[:jml_fitur]]\n",
        "# y_test = ytest_normal.append(ytest_fraud)\n",
        "# y_test3 = y_test.sort_index()"
      ],
      "execution_count": 0,
      "outputs": []
    },
    {
      "cell_type": "code",
      "metadata": {
        "id": "edTLnzQucmYB",
        "colab_type": "code",
        "colab": {}
      },
      "source": [
        "# # 100% fraud\n",
        "# X_train1 = Xtrain_normal.append(Xtrain_fraud)\n",
        "# X_train1 = X_train1.sort_index()\n",
        "# X_train1 = X_train1[best_fitur[:4]]\n",
        "# th_default1 = len(Xtrain_fraud)/len(X_train1)\n",
        "\n",
        "# # 75% fraud\n",
        "# fraud75 = Xtrain_fraud.sample(frac=0.75, random_state=1)\n",
        "# X_train2 = Xtrain_normal.append(fraud75)\n",
        "# X_train2 = X_train2.sort_index()\n",
        "# X_train2 = X_train2[best_fitur[:4]]\n",
        "# th_default2 = len(fraud75)/len(X_train2)\n",
        "\n",
        "# 50% fraud\n",
        "# fraud5 = Xtrain_fraud.sample(frac=0.5, random_state=1)\n",
        "# X_train3 = Xtrain_normal.append(fraud5)\n",
        "# X_train3 = X_train3.sort_index()\n",
        "# X_train3 = X_train3[best_fitur[:4]]\n",
        "# th_default3 = len(fraud5)/len(X_train3)\n",
        "\n",
        "# 25% fraud\n",
        "# fraud25 = Xtrain_fraud.sample(frac=0.25, random_state=1)\n",
        "# X_train4 = Xtrain_normal.append(fraud25)\n",
        "# X_train4 = X_train4.sort_index()\n",
        "# X_train4 = X_train4[best_fitur[:4]]\n",
        "# th_default4 = len(fraud25)/len(X_train4)\n",
        "\n",
        "# 0% fraud\n",
        "# X_train5 = Xtrain_normal\n",
        "# X_train5 = X_train5[best_fitur[:4]]\n",
        "# th_default5 = 0\n"
      ],
      "execution_count": 0,
      "outputs": []
    },
    {
      "cell_type": "code",
      "metadata": {
        "id": "4Cp4uNlnnp1w",
        "colab_type": "code",
        "colab": {}
      },
      "source": [
        "# temp = int(df_['Class'].value_counts()[1]*0.1)\n",
        "# temp"
      ],
      "execution_count": 0,
      "outputs": []
    },
    {
      "cell_type": "code",
      "metadata": {
        "id": "pVanp6yYoZj5",
        "colab_type": "code",
        "colab": {}
      },
      "source": [
        "# X123 = X3_train[rowMeans(X3_train['Class'] == 0) < 0.75,]\n"
      ],
      "execution_count": 0,
      "outputs": []
    },
    {
      "cell_type": "code",
      "metadata": {
        "id": "fjgRQNZ20Th2",
        "colab_type": "code",
        "colab": {}
      },
      "source": [
        "# X_train3.head()"
      ],
      "execution_count": 0,
      "outputs": []
    },
    {
      "cell_type": "code",
      "metadata": {
        "id": "HVmU5Ygolr6M",
        "colab_type": "code",
        "outputId": "5b7524c4-5ff1-4753-c41a-2ae07dac3abb",
        "colab": {
          "base_uri": "https://localhost:8080/",
          "height": 753
        }
      },
      "source": [
        "ntree = 100\n",
        "sub_sample = 256\n",
        "hasil3=[]\n",
        "fraud = [1,0.9,0.8,0.7,0.6,0.5,0.4,0.3,0.2,0.1,0.05,0.01,0]\n",
        "for rasio in fraud:\n",
        "  Xfraud = train3_fraud.sample(frac=rasio, random_state=1)\n",
        "  \n",
        "  X_train3 = train3_normal.append(Xfraud)\n",
        "  \n",
        "  X_train3 = X_train3.sort_index()\n",
        "  \n",
        "  y_train3 = X_train3['Class']\n",
        "  \n",
        "  X_train3 = X_train3.drop(['Class'], axis=1)\n",
        "  \n",
        "  th_default = y_train3.mean()\n",
        "  \n",
        "  ifor = iForest(X_train3,ntree,sub_sample,th_default)\n",
        "  \n",
        "  y_pred = ifor.predict(X_val)\n",
        "  \n",
        "  y_pred = np.array(convert(y_pred))\n",
        "  \n",
        "  ifo_scores = ifor.score_samples(X_val)\n",
        "  \n",
        "  ifo_scores = -ifo_scores\n",
        "  \n",
        "  roc_auc, aucpr = roc_aucpr(y_val, ifo_scores)\n",
        "\n",
        "  TP,FP,FN,TN = confussion_matrik(y_val,y_pred)\n",
        "\n",
        "  FPR = FP/(TN+FP)\n",
        "  \n",
        "  precision,recall,f1_score = metric_evaluasi(y_val,y_pred)\n",
        "  anomali = rasio*100\n",
        "  result = [anomali,precision,recall,FPR,f1_score, roc_auc, aucpr]\n",
        "  hasil3.append(result)\n",
        "  print ('==> Rasio Anomali :', anomali,'% pada Training done. .')\n",
        "  "
      ],
      "execution_count": 0,
      "outputs": [
        {
          "output_type": "stream",
          "text": [
            "/usr/local/lib/python3.6/dist-packages/sklearn/ensemble/_iforest.py:248: FutureWarning: 'behaviour' is deprecated in 0.22 and will be removed in 0.24. You should not pass or set this parameter.\n",
            "  FutureWarning\n"
          ],
          "name": "stderr"
        },
        {
          "output_type": "stream",
          "text": [
            "==> Rasio Anomali : 100 % pada Training done. .\n"
          ],
          "name": "stdout"
        },
        {
          "output_type": "stream",
          "text": [
            "/usr/local/lib/python3.6/dist-packages/sklearn/ensemble/_iforest.py:248: FutureWarning: 'behaviour' is deprecated in 0.22 and will be removed in 0.24. You should not pass or set this parameter.\n",
            "  FutureWarning\n"
          ],
          "name": "stderr"
        },
        {
          "output_type": "stream",
          "text": [
            "==> Rasio Anomali : 90.0 % pada Training done. .\n"
          ],
          "name": "stdout"
        },
        {
          "output_type": "stream",
          "text": [
            "/usr/local/lib/python3.6/dist-packages/sklearn/ensemble/_iforest.py:248: FutureWarning: 'behaviour' is deprecated in 0.22 and will be removed in 0.24. You should not pass or set this parameter.\n",
            "  FutureWarning\n"
          ],
          "name": "stderr"
        },
        {
          "output_type": "stream",
          "text": [
            "==> Rasio Anomali : 80.0 % pada Training done. .\n"
          ],
          "name": "stdout"
        },
        {
          "output_type": "stream",
          "text": [
            "/usr/local/lib/python3.6/dist-packages/sklearn/ensemble/_iforest.py:248: FutureWarning: 'behaviour' is deprecated in 0.22 and will be removed in 0.24. You should not pass or set this parameter.\n",
            "  FutureWarning\n"
          ],
          "name": "stderr"
        },
        {
          "output_type": "stream",
          "text": [
            "==> Rasio Anomali : 70.0 % pada Training done. .\n"
          ],
          "name": "stdout"
        },
        {
          "output_type": "stream",
          "text": [
            "/usr/local/lib/python3.6/dist-packages/sklearn/ensemble/_iforest.py:248: FutureWarning: 'behaviour' is deprecated in 0.22 and will be removed in 0.24. You should not pass or set this parameter.\n",
            "  FutureWarning\n"
          ],
          "name": "stderr"
        },
        {
          "output_type": "stream",
          "text": [
            "==> Rasio Anomali : 60.0 % pada Training done. .\n"
          ],
          "name": "stdout"
        },
        {
          "output_type": "stream",
          "text": [
            "/usr/local/lib/python3.6/dist-packages/sklearn/ensemble/_iforest.py:248: FutureWarning: 'behaviour' is deprecated in 0.22 and will be removed in 0.24. You should not pass or set this parameter.\n",
            "  FutureWarning\n"
          ],
          "name": "stderr"
        },
        {
          "output_type": "stream",
          "text": [
            "==> Rasio Anomali : 50.0 % pada Training done. .\n"
          ],
          "name": "stdout"
        },
        {
          "output_type": "stream",
          "text": [
            "/usr/local/lib/python3.6/dist-packages/sklearn/ensemble/_iforest.py:248: FutureWarning: 'behaviour' is deprecated in 0.22 and will be removed in 0.24. You should not pass or set this parameter.\n",
            "  FutureWarning\n"
          ],
          "name": "stderr"
        },
        {
          "output_type": "stream",
          "text": [
            "==> Rasio Anomali : 40.0 % pada Training done. .\n"
          ],
          "name": "stdout"
        },
        {
          "output_type": "stream",
          "text": [
            "/usr/local/lib/python3.6/dist-packages/sklearn/ensemble/_iforest.py:248: FutureWarning: 'behaviour' is deprecated in 0.22 and will be removed in 0.24. You should not pass or set this parameter.\n",
            "  FutureWarning\n"
          ],
          "name": "stderr"
        },
        {
          "output_type": "stream",
          "text": [
            "==> Rasio Anomali : 30.0 % pada Training done. .\n"
          ],
          "name": "stdout"
        },
        {
          "output_type": "stream",
          "text": [
            "/usr/local/lib/python3.6/dist-packages/sklearn/ensemble/_iforest.py:248: FutureWarning: 'behaviour' is deprecated in 0.22 and will be removed in 0.24. You should not pass or set this parameter.\n",
            "  FutureWarning\n"
          ],
          "name": "stderr"
        },
        {
          "output_type": "stream",
          "text": [
            "==> Rasio Anomali : 20.0 % pada Training done. .\n"
          ],
          "name": "stdout"
        },
        {
          "output_type": "stream",
          "text": [
            "/usr/local/lib/python3.6/dist-packages/sklearn/ensemble/_iforest.py:248: FutureWarning: 'behaviour' is deprecated in 0.22 and will be removed in 0.24. You should not pass or set this parameter.\n",
            "  FutureWarning\n"
          ],
          "name": "stderr"
        },
        {
          "output_type": "stream",
          "text": [
            "==> Rasio Anomali : 10.0 % pada Training done. .\n"
          ],
          "name": "stdout"
        },
        {
          "output_type": "stream",
          "text": [
            "/usr/local/lib/python3.6/dist-packages/sklearn/ensemble/_iforest.py:248: FutureWarning: 'behaviour' is deprecated in 0.22 and will be removed in 0.24. You should not pass or set this parameter.\n",
            "  FutureWarning\n"
          ],
          "name": "stderr"
        },
        {
          "output_type": "stream",
          "text": [
            "==> Rasio Anomali : 5.0 % pada Training done. .\n"
          ],
          "name": "stdout"
        },
        {
          "output_type": "stream",
          "text": [
            "/usr/local/lib/python3.6/dist-packages/sklearn/ensemble/_iforest.py:248: FutureWarning: 'behaviour' is deprecated in 0.22 and will be removed in 0.24. You should not pass or set this parameter.\n",
            "  FutureWarning\n"
          ],
          "name": "stderr"
        },
        {
          "output_type": "stream",
          "text": [
            "==> Rasio Anomali : 1.0 % pada Training done. .\n"
          ],
          "name": "stdout"
        },
        {
          "output_type": "stream",
          "text": [
            "/usr/local/lib/python3.6/dist-packages/sklearn/ensemble/_iforest.py:248: FutureWarning: 'behaviour' is deprecated in 0.22 and will be removed in 0.24. You should not pass or set this parameter.\n",
            "  FutureWarning\n"
          ],
          "name": "stderr"
        },
        {
          "output_type": "stream",
          "text": [
            "==> Rasio Anomali : 0 % pada Training done. .\n"
          ],
          "name": "stdout"
        }
      ]
    },
    {
      "cell_type": "code",
      "metadata": {
        "id": "COBPI8UCnopD",
        "colab_type": "code",
        "colab": {}
      },
      "source": [
        ""
      ],
      "execution_count": 0,
      "outputs": []
    },
    {
      "cell_type": "code",
      "metadata": {
        "id": "1-58uDbmiB2l",
        "colab_type": "code",
        "outputId": "ebe8421a-9c8e-4841-831b-b29fb0a7f277",
        "colab": {
          "base_uri": "https://localhost:8080/",
          "height": 457
        }
      },
      "source": [
        "hasil_percobaan3 = pd.DataFrame(data= hasil3, columns=['Rasio Anomaly','Precision','TPR','FPR','F1_Score', 'ROC_AUC', 'AUCPR'])\n",
        "hasil_percobaan3"
      ],
      "execution_count": 0,
      "outputs": [
        {
          "output_type": "execute_result",
          "data": {
            "text/html": [
              "<div>\n",
              "<style scoped>\n",
              "    .dataframe tbody tr th:only-of-type {\n",
              "        vertical-align: middle;\n",
              "    }\n",
              "\n",
              "    .dataframe tbody tr th {\n",
              "        vertical-align: top;\n",
              "    }\n",
              "\n",
              "    .dataframe thead th {\n",
              "        text-align: right;\n",
              "    }\n",
              "</style>\n",
              "<table border=\"1\" class=\"dataframe\">\n",
              "  <thead>\n",
              "    <tr style=\"text-align: right;\">\n",
              "      <th></th>\n",
              "      <th>Rasio Anomaly</th>\n",
              "      <th>Precision</th>\n",
              "      <th>TPR</th>\n",
              "      <th>FPR</th>\n",
              "      <th>F1_Score</th>\n",
              "      <th>ROC_AUC</th>\n",
              "      <th>AUCPR</th>\n",
              "    </tr>\n",
              "  </thead>\n",
              "  <tbody>\n",
              "    <tr>\n",
              "      <th>0</th>\n",
              "      <td>100.0</td>\n",
              "      <td>0.725352</td>\n",
              "      <td>0.746377</td>\n",
              "      <td>0.000490</td>\n",
              "      <td>0.735714</td>\n",
              "      <td>0.970386</td>\n",
              "      <td>0.637907</td>\n",
              "    </tr>\n",
              "    <tr>\n",
              "      <th>1</th>\n",
              "      <td>90.0</td>\n",
              "      <td>0.736842</td>\n",
              "      <td>0.710145</td>\n",
              "      <td>0.000440</td>\n",
              "      <td>0.723247</td>\n",
              "      <td>0.970436</td>\n",
              "      <td>0.609360</td>\n",
              "    </tr>\n",
              "    <tr>\n",
              "      <th>2</th>\n",
              "      <td>80.0</td>\n",
              "      <td>0.748092</td>\n",
              "      <td>0.710145</td>\n",
              "      <td>0.000415</td>\n",
              "      <td>0.728625</td>\n",
              "      <td>0.970553</td>\n",
              "      <td>0.629409</td>\n",
              "    </tr>\n",
              "    <tr>\n",
              "      <th>3</th>\n",
              "      <td>70.0</td>\n",
              "      <td>0.779528</td>\n",
              "      <td>0.717391</td>\n",
              "      <td>0.000352</td>\n",
              "      <td>0.747170</td>\n",
              "      <td>0.970440</td>\n",
              "      <td>0.636297</td>\n",
              "    </tr>\n",
              "    <tr>\n",
              "      <th>4</th>\n",
              "      <td>60.0</td>\n",
              "      <td>0.800000</td>\n",
              "      <td>0.695652</td>\n",
              "      <td>0.000301</td>\n",
              "      <td>0.744186</td>\n",
              "      <td>0.969220</td>\n",
              "      <td>0.642921</td>\n",
              "    </tr>\n",
              "    <tr>\n",
              "      <th>5</th>\n",
              "      <td>50.0</td>\n",
              "      <td>0.780702</td>\n",
              "      <td>0.644928</td>\n",
              "      <td>0.000314</td>\n",
              "      <td>0.706349</td>\n",
              "      <td>0.970437</td>\n",
              "      <td>0.604922</td>\n",
              "    </tr>\n",
              "    <tr>\n",
              "      <th>6</th>\n",
              "      <td>40.0</td>\n",
              "      <td>0.776699</td>\n",
              "      <td>0.579710</td>\n",
              "      <td>0.000289</td>\n",
              "      <td>0.663900</td>\n",
              "      <td>0.970642</td>\n",
              "      <td>0.603263</td>\n",
              "    </tr>\n",
              "    <tr>\n",
              "      <th>7</th>\n",
              "      <td>30.0</td>\n",
              "      <td>0.802632</td>\n",
              "      <td>0.442029</td>\n",
              "      <td>0.000188</td>\n",
              "      <td>0.570093</td>\n",
              "      <td>0.969504</td>\n",
              "      <td>0.607074</td>\n",
              "    </tr>\n",
              "    <tr>\n",
              "      <th>8</th>\n",
              "      <td>20.0</td>\n",
              "      <td>0.841463</td>\n",
              "      <td>0.500000</td>\n",
              "      <td>0.000163</td>\n",
              "      <td>0.627273</td>\n",
              "      <td>0.971482</td>\n",
              "      <td>0.646339</td>\n",
              "    </tr>\n",
              "    <tr>\n",
              "      <th>9</th>\n",
              "      <td>10.0</td>\n",
              "      <td>0.773585</td>\n",
              "      <td>0.297101</td>\n",
              "      <td>0.000151</td>\n",
              "      <td>0.429319</td>\n",
              "      <td>0.971940</td>\n",
              "      <td>0.631566</td>\n",
              "    </tr>\n",
              "    <tr>\n",
              "      <th>10</th>\n",
              "      <td>5.0</td>\n",
              "      <td>0.720930</td>\n",
              "      <td>0.224638</td>\n",
              "      <td>0.000151</td>\n",
              "      <td>0.342541</td>\n",
              "      <td>0.971283</td>\n",
              "      <td>0.622704</td>\n",
              "    </tr>\n",
              "    <tr>\n",
              "      <th>11</th>\n",
              "      <td>1.0</td>\n",
              "      <td>0.000000</td>\n",
              "      <td>0.000000</td>\n",
              "      <td>0.000000</td>\n",
              "      <td>0.000000</td>\n",
              "      <td>0.968767</td>\n",
              "      <td>0.613522</td>\n",
              "    </tr>\n",
              "    <tr>\n",
              "      <th>12</th>\n",
              "      <td>0.0</td>\n",
              "      <td>0.000000</td>\n",
              "      <td>0.000000</td>\n",
              "      <td>0.000000</td>\n",
              "      <td>0.000000</td>\n",
              "      <td>0.971537</td>\n",
              "      <td>0.586403</td>\n",
              "    </tr>\n",
              "  </tbody>\n",
              "</table>\n",
              "</div>"
            ],
            "text/plain": [
              "    Rasio Anomaly  Precision       TPR       FPR  F1_Score   ROC_AUC     AUCPR\n",
              "0           100.0   0.725352  0.746377  0.000490  0.735714  0.970386  0.637907\n",
              "1            90.0   0.736842  0.710145  0.000440  0.723247  0.970436  0.609360\n",
              "2            80.0   0.748092  0.710145  0.000415  0.728625  0.970553  0.629409\n",
              "3            70.0   0.779528  0.717391  0.000352  0.747170  0.970440  0.636297\n",
              "4            60.0   0.800000  0.695652  0.000301  0.744186  0.969220  0.642921\n",
              "5            50.0   0.780702  0.644928  0.000314  0.706349  0.970437  0.604922\n",
              "6            40.0   0.776699  0.579710  0.000289  0.663900  0.970642  0.603263\n",
              "7            30.0   0.802632  0.442029  0.000188  0.570093  0.969504  0.607074\n",
              "8            20.0   0.841463  0.500000  0.000163  0.627273  0.971482  0.646339\n",
              "9            10.0   0.773585  0.297101  0.000151  0.429319  0.971940  0.631566\n",
              "10            5.0   0.720930  0.224638  0.000151  0.342541  0.971283  0.622704\n",
              "11            1.0   0.000000  0.000000  0.000000  0.000000  0.968767  0.613522\n",
              "12            0.0   0.000000  0.000000  0.000000  0.000000  0.971537  0.586403"
            ]
          },
          "metadata": {
            "tags": []
          },
          "execution_count": 53
        }
      ]
    },
    {
      "cell_type": "code",
      "metadata": {
        "id": "Zh1FVXVb9zKc",
        "colab_type": "code",
        "outputId": "7cd19760-ea54-497f-8e32-f2d0ae802441",
        "colab": {
          "base_uri": "https://localhost:8080/",
          "height": 81
        }
      },
      "source": [
        "terbaik2"
      ],
      "execution_count": 0,
      "outputs": [
        {
          "output_type": "execute_result",
          "data": {
            "text/html": [
              "<div>\n",
              "<style scoped>\n",
              "    .dataframe tbody tr th:only-of-type {\n",
              "        vertical-align: middle;\n",
              "    }\n",
              "\n",
              "    .dataframe tbody tr th {\n",
              "        vertical-align: top;\n",
              "    }\n",
              "\n",
              "    .dataframe thead th {\n",
              "        text-align: right;\n",
              "    }\n",
              "</style>\n",
              "<table border=\"1\" class=\"dataframe\">\n",
              "  <thead>\n",
              "    <tr style=\"text-align: right;\">\n",
              "      <th></th>\n",
              "      <th>Jumlah Fitur</th>\n",
              "      <th>Precision</th>\n",
              "      <th>TPR</th>\n",
              "      <th>FPR</th>\n",
              "      <th>F1_Score</th>\n",
              "      <th>ROC_AUC</th>\n",
              "      <th>AUCPR</th>\n",
              "    </tr>\n",
              "  </thead>\n",
              "  <tbody>\n",
              "    <tr>\n",
              "      <th>4</th>\n",
              "      <td>5</td>\n",
              "      <td>0.725352</td>\n",
              "      <td>0.746377</td>\n",
              "      <td>0.00049</td>\n",
              "      <td>0.735714</td>\n",
              "      <td>0.970386</td>\n",
              "      <td>0.637907</td>\n",
              "    </tr>\n",
              "  </tbody>\n",
              "</table>\n",
              "</div>"
            ],
            "text/plain": [
              "   Jumlah Fitur  Precision       TPR      FPR  F1_Score   ROC_AUC     AUCPR\n",
              "4             5   0.725352  0.746377  0.00049  0.735714  0.970386  0.637907"
            ]
          },
          "metadata": {
            "tags": []
          },
          "execution_count": 54
        }
      ]
    },
    {
      "cell_type": "code",
      "metadata": {
        "id": "kI284zG77yj_",
        "colab_type": "code",
        "outputId": "658204f4-fd30-49ca-f2db-8d220ec1741c",
        "colab": {
          "base_uri": "https://localhost:8080/",
          "height": 81
        }
      },
      "source": [
        "maxi = hasil_percobaan3['F1_Score'].max()\n",
        "terbaik3 = hasil_percobaan3[hasil_percobaan3['F1_Score']==maxi]\n",
        "terbaik3"
      ],
      "execution_count": 0,
      "outputs": [
        {
          "output_type": "execute_result",
          "data": {
            "text/html": [
              "<div>\n",
              "<style scoped>\n",
              "    .dataframe tbody tr th:only-of-type {\n",
              "        vertical-align: middle;\n",
              "    }\n",
              "\n",
              "    .dataframe tbody tr th {\n",
              "        vertical-align: top;\n",
              "    }\n",
              "\n",
              "    .dataframe thead th {\n",
              "        text-align: right;\n",
              "    }\n",
              "</style>\n",
              "<table border=\"1\" class=\"dataframe\">\n",
              "  <thead>\n",
              "    <tr style=\"text-align: right;\">\n",
              "      <th></th>\n",
              "      <th>Rasio Anomaly</th>\n",
              "      <th>Precision</th>\n",
              "      <th>TPR</th>\n",
              "      <th>FPR</th>\n",
              "      <th>F1_Score</th>\n",
              "      <th>ROC_AUC</th>\n",
              "      <th>AUCPR</th>\n",
              "    </tr>\n",
              "  </thead>\n",
              "  <tbody>\n",
              "    <tr>\n",
              "      <th>3</th>\n",
              "      <td>70.0</td>\n",
              "      <td>0.779528</td>\n",
              "      <td>0.717391</td>\n",
              "      <td>0.000352</td>\n",
              "      <td>0.74717</td>\n",
              "      <td>0.97044</td>\n",
              "      <td>0.636297</td>\n",
              "    </tr>\n",
              "  </tbody>\n",
              "</table>\n",
              "</div>"
            ],
            "text/plain": [
              "   Rasio Anomaly  Precision       TPR       FPR  F1_Score  ROC_AUC     AUCPR\n",
              "3           70.0   0.779528  0.717391  0.000352   0.74717  0.97044  0.636297"
            ]
          },
          "metadata": {
            "tags": []
          },
          "execution_count": 55
        }
      ]
    },
    {
      "cell_type": "code",
      "metadata": {
        "id": "x5J3APe6DOcY",
        "colab_type": "code",
        "outputId": "3d68401b-50a1-41e3-c7d3-6a74de5261e0",
        "colab": {
          "base_uri": "https://localhost:8080/",
          "height": 35
        }
      },
      "source": [
        "rasio_anomaly = terbaik3['Rasio Anomaly']\n",
        "rasio_anomaly = int(rasio_anomaly)\n",
        "print('Rasio Fraud pada training:',rasio_anomaly)"
      ],
      "execution_count": 0,
      "outputs": [
        {
          "output_type": "stream",
          "text": [
            "Rasio Fraud pada training: 70\n"
          ],
          "name": "stdout"
        }
      ]
    },
    {
      "cell_type": "markdown",
      "metadata": {
        "colab_type": "text",
        "id": "YhGRpOaI3bFe"
      },
      "source": [
        "### Grafik ROC_AUC dan Precision_Recall pada data Validasi"
      ]
    },
    {
      "cell_type": "code",
      "metadata": {
        "colab_type": "code",
        "outputId": "5d1a7dd1-27cd-4d62-db5e-9f6cd051201a",
        "id": "MpovcVMb3bFu",
        "colab": {
          "base_uri": "https://localhost:8080/",
          "height": 364
        }
      },
      "source": [
        "rasio = rasio_anomaly/100\n",
        "\n",
        "Xfraud = train3_fraud.sample(frac=0.6, random_state=1)\n",
        "  \n",
        "X_train3 = train3_normal.append(Xfraud)\n",
        "\n",
        "X_train3 = X_train3.sort_index()\n",
        "\n",
        "y_train3 = X_train3['Class']\n",
        "\n",
        "X_train3 = X_train3.drop(['Class'], axis=1)\n",
        "\n",
        "th_default = y_train3.mean()\n",
        "\n",
        "ifor3 = iForest(X_train3,ntree,sub_sample,th_default)\n",
        "\n",
        "y_pred = ifor3.predict(X_val)\n",
        "\n",
        "y_pred = np.array(convert(y_pred))\n",
        "\n",
        "ifval_scores = ifor3.score_samples(X_val)\n",
        "\n",
        "ifval_scores = -ifval_scores\n",
        "\n",
        "val_predictions = pd.DataFrame({\n",
        "\n",
        "    \"predicted_class\": y_pred,\n",
        "\n",
        "    \"class\": y_val,\n",
        "\n",
        "    \"predict\": ifval_scores\n",
        "\n",
        "})\n",
        "\n",
        "figure()\n",
        "axes = prediction_summary(\n",
        "\n",
        "    val_predictions[\"class\"], val_predictions[\"predict\"], val_predictions[\"predicted_class\"],'validasi')"
      ],
      "execution_count": 0,
      "outputs": [
        {
          "output_type": "stream",
          "text": [
            "/usr/local/lib/python3.6/dist-packages/sklearn/ensemble/_iforest.py:248: FutureWarning: 'behaviour' is deprecated in 0.22 and will be removed in 0.24. You should not pass or set this parameter.\n",
            "  FutureWarning\n"
          ],
          "name": "stderr"
        },
        {
          "output_type": "display_data",
          "data": {
            "image/png": "[encoded data removed]",
            "text/plain": [
              "<Figure size 648x324 with 2 Axes>"
            ]
          },
          "metadata": {
            "tags": []
          }
        }
      ]
    },
    {
      "cell_type": "code",
      "metadata": {
        "id": "vXGw5WwS28Qv",
        "colab_type": "code",
        "colab": {}
      },
      "source": [
        ""
      ],
      "execution_count": 0,
      "outputs": []
    },
    {
      "cell_type": "markdown",
      "metadata": {
        "colab_type": "text",
        "id": "MaMAyCMs3izJ"
      },
      "source": [
        "### Grafik ROC_AUC dan Precision_Recall pada data Testing"
      ]
    },
    {
      "cell_type": "code",
      "metadata": {
        "colab_type": "code",
        "outputId": "a2845370-dfb4-484a-bf0f-989e0c63a349",
        "id": "PD01v0z43i0F",
        "colab": {
          "base_uri": "https://localhost:8080/",
          "height": 307
        }
      },
      "source": [
        "testing3 = []\n",
        "iftest_predict = ifor3.predict(Xtest_new)\n",
        "\n",
        "iftest_scores = ifor3.score_samples(Xtest_new)\n",
        "\n",
        "roc_auc, aucpr = roc_aucpr(ytest, -iftest_scores)\n",
        "  \n",
        "precision,recall,f1_score = metric_evaluasi(ytest,np.array(convert(iftest_predict)))\n",
        "\n",
        "TP,FP,FN,TN = confussion_matrik(y_val,y_pred)\n",
        "\n",
        "FPR = FP/(TN+FP)\n",
        "\n",
        "result3 = [rasio_anomaly,precision,recall,FPR,f1_score, roc_auc, aucpr]\n",
        "testing3.append(result3)\n",
        "\n",
        "test_predictions = pd.DataFrame({\n",
        "\n",
        "    \"predicted_class\": list(map(lambda x: 1*(x == -1), iftest_predict)),\n",
        "\n",
        "    \"class\": ytest,\n",
        "\n",
        "    \"predict\": -iftest_scores\n",
        "\n",
        "})\n",
        "\n",
        "figure()\n",
        "axes = prediction_summary(\n",
        "    test_predictions[\"class\"], test_predictions[\"predict\"], test_predictions[\"predicted_class\"],'test')"
      ],
      "execution_count": 0,
      "outputs": [
        {
          "output_type": "display_data",
          "data": {
            "image/png": "[encoded data removed]",
            "text/plain": [
              "<Figure size 648x324 with 2 Axes>"
            ]
          },
          "metadata": {
            "tags": []
          }
        }
      ]
    },
    {
      "cell_type": "code",
      "metadata": {
        "id": "Vdj_2siK3eJd",
        "colab_type": "code",
        "outputId": "f7471dce-440f-4153-b79a-f25b39fd37cc",
        "colab": {
          "base_uri": "https://localhost:8080/",
          "height": 81
        }
      },
      "source": [
        "hasil_testing3 = pd.DataFrame(data= testing3, columns=['Rasio Anomaly','Precision','TPR','FPR','F1_Score', 'ROC_AUC', 'AUCPR'])\n",
        "hasil_testing3"
      ],
      "execution_count": 0,
      "outputs": [
        {
          "output_type": "execute_result",
          "data": {
            "text/html": [
              "<div>\n",
              "<style scoped>\n",
              "    .dataframe tbody tr th:only-of-type {\n",
              "        vertical-align: middle;\n",
              "    }\n",
              "\n",
              "    .dataframe tbody tr th {\n",
              "        vertical-align: top;\n",
              "    }\n",
              "\n",
              "    .dataframe thead th {\n",
              "        text-align: right;\n",
              "    }\n",
              "</style>\n",
              "<table border=\"1\" class=\"dataframe\">\n",
              "  <thead>\n",
              "    <tr style=\"text-align: right;\">\n",
              "      <th></th>\n",
              "      <th>Rasio Anomaly</th>\n",
              "      <th>Precision</th>\n",
              "      <th>TPR</th>\n",
              "      <th>FPR</th>\n",
              "      <th>F1_Score</th>\n",
              "      <th>ROC_AUC</th>\n",
              "      <th>AUCPR</th>\n",
              "    </tr>\n",
              "  </thead>\n",
              "  <tbody>\n",
              "    <tr>\n",
              "      <th>0</th>\n",
              "      <td>70</td>\n",
              "      <td>0.796992</td>\n",
              "      <td>0.716216</td>\n",
              "      <td>0.000301</td>\n",
              "      <td>0.754448</td>\n",
              "      <td>0.975069</td>\n",
              "      <td>0.752423</td>\n",
              "    </tr>\n",
              "  </tbody>\n",
              "</table>\n",
              "</div>"
            ],
            "text/plain": [
              "   Rasio Anomaly  Precision       TPR       FPR  F1_Score   ROC_AUC     AUCPR\n",
              "0             70   0.796992  0.716216  0.000301  0.754448  0.975069  0.752423"
            ]
          },
          "metadata": {
            "tags": []
          },
          "execution_count": 59
        }
      ]
    },
    {
      "cell_type": "code",
      "metadata": {
        "id": "9Uw0CIpXfKou",
        "colab_type": "code",
        "outputId": "7174406f-03d3-4b91-98e3-7ed41eb6c2d3",
        "colab": {
          "base_uri": "https://localhost:8080/",
          "height": 206
        }
      },
      "source": [
        "X_train3.head()"
      ],
      "execution_count": 0,
      "outputs": [
        {
          "output_type": "execute_result",
          "data": {
            "text/html": [
              "<div>\n",
              "<style scoped>\n",
              "    .dataframe tbody tr th:only-of-type {\n",
              "        vertical-align: middle;\n",
              "    }\n",
              "\n",
              "    .dataframe tbody tr th {\n",
              "        vertical-align: top;\n",
              "    }\n",
              "\n",
              "    .dataframe thead th {\n",
              "        text-align: right;\n",
              "    }\n",
              "</style>\n",
              "<table border=\"1\" class=\"dataframe\">\n",
              "  <thead>\n",
              "    <tr style=\"text-align: right;\">\n",
              "      <th></th>\n",
              "      <th>V14</th>\n",
              "      <th>V4</th>\n",
              "      <th>V17</th>\n",
              "      <th>V12</th>\n",
              "      <th>V11</th>\n",
              "    </tr>\n",
              "  </thead>\n",
              "  <tbody>\n",
              "    <tr>\n",
              "      <th>0</th>\n",
              "      <td>0.175293</td>\n",
              "      <td>0.150411</td>\n",
              "      <td>-0.276424</td>\n",
              "      <td>-0.121524</td>\n",
              "      <td>-0.686138</td>\n",
              "    </tr>\n",
              "    <tr>\n",
              "      <th>1</th>\n",
              "      <td>0.449576</td>\n",
              "      <td>-0.076128</td>\n",
              "      <td>0.274855</td>\n",
              "      <td>1.069866</td>\n",
              "      <td>0.740169</td>\n",
              "    </tr>\n",
              "    <tr>\n",
              "      <th>2</th>\n",
              "      <td>0.785931</td>\n",
              "      <td>0.337052</td>\n",
              "      <td>-0.801430</td>\n",
              "      <td>0.226534</td>\n",
              "      <td>0.580609</td>\n",
              "    </tr>\n",
              "    <tr>\n",
              "      <th>3</th>\n",
              "      <td>0.456461</td>\n",
              "      <td>1.280483</td>\n",
              "      <td>-0.169239</td>\n",
              "      <td>0.052303</td>\n",
              "      <td>-0.262049</td>\n",
              "    </tr>\n",
              "    <tr>\n",
              "      <th>4</th>\n",
              "      <td>-0.701979</td>\n",
              "      <td>-2.203755</td>\n",
              "      <td>0.185186</td>\n",
              "      <td>-0.413675</td>\n",
              "      <td>-0.200400</td>\n",
              "    </tr>\n",
              "  </tbody>\n",
              "</table>\n",
              "</div>"
            ],
            "text/plain": [
              "        V14        V4       V17       V12       V11\n",
              "0  0.175293  0.150411 -0.276424 -0.121524 -0.686138\n",
              "1  0.449576 -0.076128  0.274855  1.069866  0.740169\n",
              "2  0.785931  0.337052 -0.801430  0.226534  0.580609\n",
              "3  0.456461  1.280483 -0.169239  0.052303 -0.262049\n",
              "4 -0.701979 -2.203755  0.185186 -0.413675 -0.200400"
            ]
          },
          "metadata": {
            "tags": []
          },
          "execution_count": 60
        }
      ]
    },
    {
      "cell_type": "markdown",
      "metadata": {
        "colab_type": "text",
        "id": "yBuuLYmUH9HU"
      },
      "source": [
        "# Percobaan 4 - Tuning Hyperparameter\n"
      ]
    },
    {
      "cell_type": "code",
      "metadata": {
        "id": "aNzrEcHQRicj",
        "colab_type": "code",
        "colab": {}
      },
      "source": [
        "import math"
      ],
      "execution_count": 0,
      "outputs": []
    },
    {
      "cell_type": "code",
      "metadata": {
        "id": "1fyfOIR5RV0X",
        "colab_type": "code",
        "outputId": "b58b3ecd-d9b4-48a4-ab79-34d3155ca4d4",
        "colab": {
          "base_uri": "https://localhost:8080/",
          "height": 1000
        }
      },
      "source": [
        "trees = [10, 25, 50, 100, 150, 200]\n",
        "samples = [64, 128, 256, 512, 1024]\n",
        "ths = [0.0004, 0.0008, 0.001, 0.0015, 0.002]\n",
        "hasil4=[]\n",
        "num = 1\n",
        "for tree in trees:\n",
        "  for sample in samples:\n",
        "    for th in ths:\n",
        "      Xfraud = train3_fraud.sample(frac=0.6, random_state=1)\n",
        "  \n",
        "      X_train3 = train3_normal.append(Xfraud)\n",
        "\n",
        "      X_train3 = X_train3.sort_index()\n",
        "\n",
        "      y_train3 = X_train3['Class']\n",
        "\n",
        "      X_train3 = X_train3.drop(['Class'], axis=1)\n",
        "      \n",
        "      ifor4 = iForest(X_train3,tree,sample,th)\n",
        "\n",
        "      y_pred = ifor4.predict(X_val)\n",
        "\n",
        "      y_pred = np.array(convert(y_pred))\n",
        "\n",
        "      ifval_scores = ifor4.score_samples(X_val)\n",
        "\n",
        "      ifval_scores = -ifval_scores\n",
        "      \n",
        "      roc_auc, aucpr = roc_aucpr(y_val, ifval_scores)\n",
        "      \n",
        "      precision,recall,f1_score = metric_evaluasi(y_val,y_pred)\n",
        "\n",
        "      FPR = FP/(TN+FP)\n",
        "      \n",
        "      result = [tree,sample,th,precision,recall,FPR,f1_score, roc_auc, aucpr]\n",
        "      \n",
        "      hasil4.append(result)\n",
        "      \n",
        "      progress = (num/150)*100\n",
        "      \n",
        "      num=num+1\n",
        "      \n",
        "      print('Progress training : ', math.floor(progress),'%')"
      ],
      "execution_count": 0,
      "outputs": [
        {
          "output_type": "stream",
          "text": [
            "/usr/local/lib/python3.6/dist-packages/sklearn/ensemble/_iforest.py:248: FutureWarning: 'behaviour' is deprecated in 0.22 and will be removed in 0.24. You should not pass or set this parameter.\n",
            "  FutureWarning\n"
          ],
          "name": "stderr"
        },
        {
          "output_type": "stream",
          "text": [
            "Progress training :  0 %\n"
          ],
          "name": "stdout"
        },
        {
          "output_type": "stream",
          "text": [
            "/usr/local/lib/python3.6/dist-packages/sklearn/ensemble/_iforest.py:248: FutureWarning: 'behaviour' is deprecated in 0.22 and will be removed in 0.24. You should not pass or set this parameter.\n",
            "  FutureWarning\n"
          ],
          "name": "stderr"
        },
        {
          "output_type": "stream",
          "text": [
            "Progress training :  1 %\n"
          ],
          "name": "stdout"
        },
        {
          "output_type": "stream",
          "text": [
            "/usr/local/lib/python3.6/dist-packages/sklearn/ensemble/_iforest.py:248: FutureWarning: 'behaviour' is deprecated in 0.22 and will be removed in 0.24. You should not pass or set this parameter.\n",
            "  FutureWarning\n"
          ],
          "name": "stderr"
        },
        {
          "output_type": "stream",
          "text": [
            "Progress training :  2 %\n"
          ],
          "name": "stdout"
        },
        {
          "output_type": "stream",
          "text": [
            "/usr/local/lib/python3.6/dist-packages/sklearn/ensemble/_iforest.py:248: FutureWarning: 'behaviour' is deprecated in 0.22 and will be removed in 0.24. You should not pass or set this parameter.\n",
            "  FutureWarning\n"
          ],
          "name": "stderr"
        },
        {
          "output_type": "stream",
          "text": [
            "Progress training :  2 %\n"
          ],
          "name": "stdout"
        },
        {
          "output_type": "stream",
          "text": [
            "/usr/local/lib/python3.6/dist-packages/sklearn/ensemble/_iforest.py:248: FutureWarning: 'behaviour' is deprecated in 0.22 and will be removed in 0.24. You should not pass or set this parameter.\n",
            "  FutureWarning\n"
          ],
          "name": "stderr"
        },
        {
          "output_type": "stream",
          "text": [
            "Progress training :  3 %\n"
          ],
          "name": "stdout"
        },
        {
          "output_type": "stream",
          "text": [
            "/usr/local/lib/python3.6/dist-packages/sklearn/ensemble/_iforest.py:248: FutureWarning: 'behaviour' is deprecated in 0.22 and will be removed in 0.24. You should not pass or set this parameter.\n",
            "  FutureWarning\n"
          ],
          "name": "stderr"
        },
        {
          "output_type": "stream",
          "text": [
            "Progress training :  4 %\n"
          ],
          "name": "stdout"
        },
        {
          "output_type": "stream",
          "text": [
            "/usr/local/lib/python3.6/dist-packages/sklearn/ensemble/_iforest.py:248: FutureWarning: 'behaviour' is deprecated in 0.22 and will be removed in 0.24. You should not pass or set this parameter.\n",
            "  FutureWarning\n"
          ],
          "name": "stderr"
        },
        {
          "output_type": "stream",
          "text": [
            "Progress training :  4 %\n"
          ],
          "name": "stdout"
        },
        {
          "output_type": "stream",
          "text": [
            "/usr/local/lib/python3.6/dist-packages/sklearn/ensemble/_iforest.py:248: FutureWarning: 'behaviour' is deprecated in 0.22 and will be removed in 0.24. You should not pass or set this parameter.\n",
            "  FutureWarning\n"
          ],
          "name": "stderr"
        },
        {
          "output_type": "stream",
          "text": [
            "Progress training :  5 %\n"
          ],
          "name": "stdout"
        },
        {
          "output_type": "stream",
          "text": [
            "/usr/local/lib/python3.6/dist-packages/sklearn/ensemble/_iforest.py:248: FutureWarning: 'behaviour' is deprecated in 0.22 and will be removed in 0.24. You should not pass or set this parameter.\n",
            "  FutureWarning\n"
          ],
          "name": "stderr"
        },
        {
          "output_type": "stream",
          "text": [
            "Progress training :  6 %\n"
          ],
          "name": "stdout"
        },
        {
          "output_type": "stream",
          "text": [
            "/usr/local/lib/python3.6/dist-packages/sklearn/ensemble/_iforest.py:248: FutureWarning: 'behaviour' is deprecated in 0.22 and will be removed in 0.24. You should not pass or set this parameter.\n",
            "  FutureWarning\n"
          ],
          "name": "stderr"
        },
        {
          "output_type": "stream",
          "text": [
            "Progress training :  6 %\n"
          ],
          "name": "stdout"
        },
        {
          "output_type": "stream",
          "text": [
            "/usr/local/lib/python3.6/dist-packages/sklearn/ensemble/_iforest.py:248: FutureWarning: 'behaviour' is deprecated in 0.22 and will be removed in 0.24. You should not pass or set this parameter.\n",
            "  FutureWarning\n"
          ],
          "name": "stderr"
        },
        {
          "output_type": "stream",
          "text": [
            "Progress training :  7 %\n"
          ],
          "name": "stdout"
        },
        {
          "output_type": "stream",
          "text": [
            "/usr/local/lib/python3.6/dist-packages/sklearn/ensemble/_iforest.py:248: FutureWarning: 'behaviour' is deprecated in 0.22 and will be removed in 0.24. You should not pass or set this parameter.\n",
            "  FutureWarning\n"
          ],
          "name": "stderr"
        },
        {
          "output_type": "stream",
          "text": [
            "Progress training :  8 %\n"
          ],
          "name": "stdout"
        },
        {
          "output_type": "stream",
          "text": [
            "/usr/local/lib/python3.6/dist-packages/sklearn/ensemble/_iforest.py:248: FutureWarning: 'behaviour' is deprecated in 0.22 and will be removed in 0.24. You should not pass or set this parameter.\n",
            "  FutureWarning\n"
          ],
          "name": "stderr"
        },
        {
          "output_type": "stream",
          "text": [
            "Progress training :  8 %\n"
          ],
          "name": "stdout"
        },
        {
          "output_type": "stream",
          "text": [
            "/usr/local/lib/python3.6/dist-packages/sklearn/ensemble/_iforest.py:248: FutureWarning: 'behaviour' is deprecated in 0.22 and will be removed in 0.24. You should not pass or set this parameter.\n",
            "  FutureWarning\n"
          ],
          "name": "stderr"
        },
        {
          "output_type": "stream",
          "text": [
            "Progress training :  9 %\n"
          ],
          "name": "stdout"
        },
        {
          "output_type": "stream",
          "text": [
            "/usr/local/lib/python3.6/dist-packages/sklearn/ensemble/_iforest.py:248: FutureWarning: 'behaviour' is deprecated in 0.22 and will be removed in 0.24. You should not pass or set this parameter.\n",
            "  FutureWarning\n"
          ],
          "name": "stderr"
        },
        {
          "output_type": "stream",
          "text": [
            "Progress training :  10 %\n"
          ],
          "name": "stdout"
        },
        {
          "output_type": "stream",
          "text": [
            "/usr/local/lib/python3.6/dist-packages/sklearn/ensemble/_iforest.py:248: FutureWarning: 'behaviour' is deprecated in 0.22 and will be removed in 0.24. You should not pass or set this parameter.\n",
            "  FutureWarning\n"
          ],
          "name": "stderr"
        },
        {
          "output_type": "stream",
          "text": [
            "Progress training :  10 %\n"
          ],
          "name": "stdout"
        },
        {
          "output_type": "stream",
          "text": [
            "/usr/local/lib/python3.6/dist-packages/sklearn/ensemble/_iforest.py:248: FutureWarning: 'behaviour' is deprecated in 0.22 and will be removed in 0.24. You should not pass or set this parameter.\n",
            "  FutureWarning\n"
          ],
          "name": "stderr"
        },
        {
          "output_type": "stream",
          "text": [
            "Progress training :  11 %\n"
          ],
          "name": "stdout"
        },
        {
          "output_type": "stream",
          "text": [
            "/usr/local/lib/python3.6/dist-packages/sklearn/ensemble/_iforest.py:248: FutureWarning: 'behaviour' is deprecated in 0.22 and will be removed in 0.24. You should not pass or set this parameter.\n",
            "  FutureWarning\n"
          ],
          "name": "stderr"
        },
        {
          "output_type": "stream",
          "text": [
            "Progress training :  12 %\n"
          ],
          "name": "stdout"
        },
        {
          "output_type": "stream",
          "text": [
            "/usr/local/lib/python3.6/dist-packages/sklearn/ensemble/_iforest.py:248: FutureWarning: 'behaviour' is deprecated in 0.22 and will be removed in 0.24. You should not pass or set this parameter.\n",
            "  FutureWarning\n"
          ],
          "name": "stderr"
        },
        {
          "output_type": "stream",
          "text": [
            "Progress training :  12 %\n"
          ],
          "name": "stdout"
        },
        {
          "output_type": "stream",
          "text": [
            "/usr/local/lib/python3.6/dist-packages/sklearn/ensemble/_iforest.py:248: FutureWarning: 'behaviour' is deprecated in 0.22 and will be removed in 0.24. You should not pass or set this parameter.\n",
            "  FutureWarning\n"
          ],
          "name": "stderr"
        },
        {
          "output_type": "stream",
          "text": [
            "Progress training :  13 %\n"
          ],
          "name": "stdout"
        },
        {
          "output_type": "stream",
          "text": [
            "/usr/local/lib/python3.6/dist-packages/sklearn/ensemble/_iforest.py:248: FutureWarning: 'behaviour' is deprecated in 0.22 and will be removed in 0.24. You should not pass or set this parameter.\n",
            "  FutureWarning\n"
          ],
          "name": "stderr"
        },
        {
          "output_type": "stream",
          "text": [
            "Progress training :  14 %\n"
          ],
          "name": "stdout"
        },
        {
          "output_type": "stream",
          "text": [
            "/usr/local/lib/python3.6/dist-packages/sklearn/ensemble/_iforest.py:248: FutureWarning: 'behaviour' is deprecated in 0.22 and will be removed in 0.24. You should not pass or set this parameter.\n",
            "  FutureWarning\n"
          ],
          "name": "stderr"
        },
        {
          "output_type": "stream",
          "text": [
            "Progress training :  14 %\n"
          ],
          "name": "stdout"
        },
        {
          "output_type": "stream",
          "text": [
            "/usr/local/lib/python3.6/dist-packages/sklearn/ensemble/_iforest.py:248: FutureWarning: 'behaviour' is deprecated in 0.22 and will be removed in 0.24. You should not pass or set this parameter.\n",
            "  FutureWarning\n"
          ],
          "name": "stderr"
        },
        {
          "output_type": "stream",
          "text": [
            "Progress training :  15 %\n"
          ],
          "name": "stdout"
        },
        {
          "output_type": "stream",
          "text": [
            "/usr/local/lib/python3.6/dist-packages/sklearn/ensemble/_iforest.py:248: FutureWarning: 'behaviour' is deprecated in 0.22 and will be removed in 0.24. You should not pass or set this parameter.\n",
            "  FutureWarning\n"
          ],
          "name": "stderr"
        },
        {
          "output_type": "stream",
          "text": [
            "Progress training :  16 %\n"
          ],
          "name": "stdout"
        },
        {
          "output_type": "stream",
          "text": [
            "/usr/local/lib/python3.6/dist-packages/sklearn/ensemble/_iforest.py:248: FutureWarning: 'behaviour' is deprecated in 0.22 and will be removed in 0.24. You should not pass or set this parameter.\n",
            "  FutureWarning\n"
          ],
          "name": "stderr"
        },
        {
          "output_type": "stream",
          "text": [
            "Progress training :  16 %\n"
          ],
          "name": "stdout"
        },
        {
          "output_type": "stream",
          "text": [
            "/usr/local/lib/python3.6/dist-packages/sklearn/ensemble/_iforest.py:248: FutureWarning: 'behaviour' is deprecated in 0.22 and will be removed in 0.24. You should not pass or set this parameter.\n",
            "  FutureWarning\n"
          ],
          "name": "stderr"
        },
        {
          "output_type": "stream",
          "text": [
            "Progress training :  17 %\n"
          ],
          "name": "stdout"
        },
        {
          "output_type": "stream",
          "text": [
            "/usr/local/lib/python3.6/dist-packages/sklearn/ensemble/_iforest.py:248: FutureWarning: 'behaviour' is deprecated in 0.22 and will be removed in 0.24. You should not pass or set this parameter.\n",
            "  FutureWarning\n"
          ],
          "name": "stderr"
        },
        {
          "output_type": "stream",
          "text": [
            "Progress training :  18 %\n"
          ],
          "name": "stdout"
        },
        {
          "output_type": "stream",
          "text": [
            "/usr/local/lib/python3.6/dist-packages/sklearn/ensemble/_iforest.py:248: FutureWarning: 'behaviour' is deprecated in 0.22 and will be removed in 0.24. You should not pass or set this parameter.\n",
            "  FutureWarning\n"
          ],
          "name": "stderr"
        },
        {
          "output_type": "stream",
          "text": [
            "Progress training :  18 %\n"
          ],
          "name": "stdout"
        },
        {
          "output_type": "stream",
          "text": [
            "/usr/local/lib/python3.6/dist-packages/sklearn/ensemble/_iforest.py:248: FutureWarning: 'behaviour' is deprecated in 0.22 and will be removed in 0.24. You should not pass or set this parameter.\n",
            "  FutureWarning\n"
          ],
          "name": "stderr"
        },
        {
          "output_type": "stream",
          "text": [
            "Progress training :  19 %\n"
          ],
          "name": "stdout"
        },
        {
          "output_type": "stream",
          "text": [
            "/usr/local/lib/python3.6/dist-packages/sklearn/ensemble/_iforest.py:248: FutureWarning: 'behaviour' is deprecated in 0.22 and will be removed in 0.24. You should not pass or set this parameter.\n",
            "  FutureWarning\n"
          ],
          "name": "stderr"
        },
        {
          "output_type": "stream",
          "text": [
            "Progress training :  20 %\n"
          ],
          "name": "stdout"
        },
        {
          "output_type": "stream",
          "text": [
            "/usr/local/lib/python3.6/dist-packages/sklearn/ensemble/_iforest.py:248: FutureWarning: 'behaviour' is deprecated in 0.22 and will be removed in 0.24. You should not pass or set this parameter.\n",
            "  FutureWarning\n"
          ],
          "name": "stderr"
        },
        {
          "output_type": "stream",
          "text": [
            "Progress training :  20 %\n"
          ],
          "name": "stdout"
        },
        {
          "output_type": "stream",
          "text": [
            "/usr/local/lib/python3.6/dist-packages/sklearn/ensemble/_iforest.py:248: FutureWarning: 'behaviour' is deprecated in 0.22 and will be removed in 0.24. You should not pass or set this parameter.\n",
            "  FutureWarning\n"
          ],
          "name": "stderr"
        },
        {
          "output_type": "stream",
          "text": [
            "Progress training :  21 %\n"
          ],
          "name": "stdout"
        },
        {
          "output_type": "stream",
          "text": [
            "/usr/local/lib/python3.6/dist-packages/sklearn/ensemble/_iforest.py:248: FutureWarning: 'behaviour' is deprecated in 0.22 and will be removed in 0.24. You should not pass or set this parameter.\n",
            "  FutureWarning\n"
          ],
          "name": "stderr"
        },
        {
          "output_type": "stream",
          "text": [
            "Progress training :  22 %\n"
          ],
          "name": "stdout"
        },
        {
          "output_type": "stream",
          "text": [
            "/usr/local/lib/python3.6/dist-packages/sklearn/ensemble/_iforest.py:248: FutureWarning: 'behaviour' is deprecated in 0.22 and will be removed in 0.24. You should not pass or set this parameter.\n",
            "  FutureWarning\n"
          ],
          "name": "stderr"
        },
        {
          "output_type": "stream",
          "text": [
            "Progress training :  22 %\n"
          ],
          "name": "stdout"
        },
        {
          "output_type": "stream",
          "text": [
            "/usr/local/lib/python3.6/dist-packages/sklearn/ensemble/_iforest.py:248: FutureWarning: 'behaviour' is deprecated in 0.22 and will be removed in 0.24. You should not pass or set this parameter.\n",
            "  FutureWarning\n"
          ],
          "name": "stderr"
        },
        {
          "output_type": "stream",
          "text": [
            "Progress training :  23 %\n"
          ],
          "name": "stdout"
        },
        {
          "output_type": "stream",
          "text": [
            "/usr/local/lib/python3.6/dist-packages/sklearn/ensemble/_iforest.py:248: FutureWarning: 'behaviour' is deprecated in 0.22 and will be removed in 0.24. You should not pass or set this parameter.\n",
            "  FutureWarning\n"
          ],
          "name": "stderr"
        },
        {
          "output_type": "stream",
          "text": [
            "Progress training :  24 %\n"
          ],
          "name": "stdout"
        },
        {
          "output_type": "stream",
          "text": [
            "/usr/local/lib/python3.6/dist-packages/sklearn/ensemble/_iforest.py:248: FutureWarning: 'behaviour' is deprecated in 0.22 and will be removed in 0.24. You should not pass or set this parameter.\n",
            "  FutureWarning\n"
          ],
          "name": "stderr"
        },
        {
          "output_type": "stream",
          "text": [
            "Progress training :  24 %\n"
          ],
          "name": "stdout"
        },
        {
          "output_type": "stream",
          "text": [
            "/usr/local/lib/python3.6/dist-packages/sklearn/ensemble/_iforest.py:248: FutureWarning: 'behaviour' is deprecated in 0.22 and will be removed in 0.24. You should not pass or set this parameter.\n",
            "  FutureWarning\n"
          ],
          "name": "stderr"
        },
        {
          "output_type": "stream",
          "text": [
            "Progress training :  25 %\n"
          ],
          "name": "stdout"
        },
        {
          "output_type": "stream",
          "text": [
            "/usr/local/lib/python3.6/dist-packages/sklearn/ensemble/_iforest.py:248: FutureWarning: 'behaviour' is deprecated in 0.22 and will be removed in 0.24. You should not pass or set this parameter.\n",
            "  FutureWarning\n"
          ],
          "name": "stderr"
        },
        {
          "output_type": "stream",
          "text": [
            "Progress training :  26 %\n"
          ],
          "name": "stdout"
        },
        {
          "output_type": "stream",
          "text": [
            "/usr/local/lib/python3.6/dist-packages/sklearn/ensemble/_iforest.py:248: FutureWarning: 'behaviour' is deprecated in 0.22 and will be removed in 0.24. You should not pass or set this parameter.\n",
            "  FutureWarning\n"
          ],
          "name": "stderr"
        },
        {
          "output_type": "stream",
          "text": [
            "Progress training :  26 %\n"
          ],
          "name": "stdout"
        },
        {
          "output_type": "stream",
          "text": [
            "/usr/local/lib/python3.6/dist-packages/sklearn/ensemble/_iforest.py:248: FutureWarning: 'behaviour' is deprecated in 0.22 and will be removed in 0.24. You should not pass or set this parameter.\n",
            "  FutureWarning\n"
          ],
          "name": "stderr"
        },
        {
          "output_type": "stream",
          "text": [
            "Progress training :  27 %\n"
          ],
          "name": "stdout"
        },
        {
          "output_type": "stream",
          "text": [
            "/usr/local/lib/python3.6/dist-packages/sklearn/ensemble/_iforest.py:248: FutureWarning: 'behaviour' is deprecated in 0.22 and will be removed in 0.24. You should not pass or set this parameter.\n",
            "  FutureWarning\n"
          ],
          "name": "stderr"
        },
        {
          "output_type": "stream",
          "text": [
            "Progress training :  28 %\n"
          ],
          "name": "stdout"
        },
        {
          "output_type": "stream",
          "text": [
            "/usr/local/lib/python3.6/dist-packages/sklearn/ensemble/_iforest.py:248: FutureWarning: 'behaviour' is deprecated in 0.22 and will be removed in 0.24. You should not pass or set this parameter.\n",
            "  FutureWarning\n"
          ],
          "name": "stderr"
        },
        {
          "output_type": "stream",
          "text": [
            "Progress training :  28 %\n"
          ],
          "name": "stdout"
        },
        {
          "output_type": "stream",
          "text": [
            "/usr/local/lib/python3.6/dist-packages/sklearn/ensemble/_iforest.py:248: FutureWarning: 'behaviour' is deprecated in 0.22 and will be removed in 0.24. You should not pass or set this parameter.\n",
            "  FutureWarning\n"
          ],
          "name": "stderr"
        },
        {
          "output_type": "stream",
          "text": [
            "Progress training :  29 %\n"
          ],
          "name": "stdout"
        },
        {
          "output_type": "stream",
          "text": [
            "/usr/local/lib/python3.6/dist-packages/sklearn/ensemble/_iforest.py:248: FutureWarning: 'behaviour' is deprecated in 0.22 and will be removed in 0.24. You should not pass or set this parameter.\n",
            "  FutureWarning\n"
          ],
          "name": "stderr"
        },
        {
          "output_type": "stream",
          "text": [
            "Progress training :  30 %\n"
          ],
          "name": "stdout"
        },
        {
          "output_type": "stream",
          "text": [
            "/usr/local/lib/python3.6/dist-packages/sklearn/ensemble/_iforest.py:248: FutureWarning: 'behaviour' is deprecated in 0.22 and will be removed in 0.24. You should not pass or set this parameter.\n",
            "  FutureWarning\n"
          ],
          "name": "stderr"
        },
        {
          "output_type": "stream",
          "text": [
            "Progress training :  30 %\n"
          ],
          "name": "stdout"
        },
        {
          "output_type": "stream",
          "text": [
            "/usr/local/lib/python3.6/dist-packages/sklearn/ensemble/_iforest.py:248: FutureWarning: 'behaviour' is deprecated in 0.22 and will be removed in 0.24. You should not pass or set this parameter.\n",
            "  FutureWarning\n"
          ],
          "name": "stderr"
        },
        {
          "output_type": "stream",
          "text": [
            "Progress training :  31 %\n"
          ],
          "name": "stdout"
        },
        {
          "output_type": "stream",
          "text": [
            "/usr/local/lib/python3.6/dist-packages/sklearn/ensemble/_iforest.py:248: FutureWarning: 'behaviour' is deprecated in 0.22 and will be removed in 0.24. You should not pass or set this parameter.\n",
            "  FutureWarning\n"
          ],
          "name": "stderr"
        },
        {
          "output_type": "stream",
          "text": [
            "Progress training :  32 %\n"
          ],
          "name": "stdout"
        },
        {
          "output_type": "stream",
          "text": [
            "/usr/local/lib/python3.6/dist-packages/sklearn/ensemble/_iforest.py:248: FutureWarning: 'behaviour' is deprecated in 0.22 and will be removed in 0.24. You should not pass or set this parameter.\n",
            "  FutureWarning\n"
          ],
          "name": "stderr"
        },
        {
          "output_type": "stream",
          "text": [
            "Progress training :  32 %\n"
          ],
          "name": "stdout"
        },
        {
          "output_type": "stream",
          "text": [
            "/usr/local/lib/python3.6/dist-packages/sklearn/ensemble/_iforest.py:248: FutureWarning: 'behaviour' is deprecated in 0.22 and will be removed in 0.24. You should not pass or set this parameter.\n",
            "  FutureWarning\n"
          ],
          "name": "stderr"
        },
        {
          "output_type": "stream",
          "text": [
            "Progress training :  33 %\n"
          ],
          "name": "stdout"
        },
        {
          "output_type": "stream",
          "text": [
            "/usr/local/lib/python3.6/dist-packages/sklearn/ensemble/_iforest.py:248: FutureWarning: 'behaviour' is deprecated in 0.22 and will be removed in 0.24. You should not pass or set this parameter.\n",
            "  FutureWarning\n"
          ],
          "name": "stderr"
        },
        {
          "output_type": "stream",
          "text": [
            "Progress training :  34 %\n"
          ],
          "name": "stdout"
        },
        {
          "output_type": "stream",
          "text": [
            "/usr/local/lib/python3.6/dist-packages/sklearn/ensemble/_iforest.py:248: FutureWarning: 'behaviour' is deprecated in 0.22 and will be removed in 0.24. You should not pass or set this parameter.\n",
            "  FutureWarning\n"
          ],
          "name": "stderr"
        },
        {
          "output_type": "stream",
          "text": [
            "Progress training :  34 %\n"
          ],
          "name": "stdout"
        },
        {
          "output_type": "stream",
          "text": [
            "/usr/local/lib/python3.6/dist-packages/sklearn/ensemble/_iforest.py:248: FutureWarning: 'behaviour' is deprecated in 0.22 and will be removed in 0.24. You should not pass or set this parameter.\n",
            "  FutureWarning\n"
          ],
          "name": "stderr"
        },
        {
          "output_type": "stream",
          "text": [
            "Progress training :  35 %\n"
          ],
          "name": "stdout"
        },
        {
          "output_type": "stream",
          "text": [
            "/usr/local/lib/python3.6/dist-packages/sklearn/ensemble/_iforest.py:248: FutureWarning: 'behaviour' is deprecated in 0.22 and will be removed in 0.24. You should not pass or set this parameter.\n",
            "  FutureWarning\n"
          ],
          "name": "stderr"
        },
        {
          "output_type": "stream",
          "text": [
            "Progress training :  36 %\n"
          ],
          "name": "stdout"
        },
        {
          "output_type": "stream",
          "text": [
            "/usr/local/lib/python3.6/dist-packages/sklearn/ensemble/_iforest.py:248: FutureWarning: 'behaviour' is deprecated in 0.22 and will be removed in 0.24. You should not pass or set this parameter.\n",
            "  FutureWarning\n"
          ],
          "name": "stderr"
        },
        {
          "output_type": "stream",
          "text": [
            "Progress training :  36 %\n"
          ],
          "name": "stdout"
        },
        {
          "output_type": "stream",
          "text": [
            "/usr/local/lib/python3.6/dist-packages/sklearn/ensemble/_iforest.py:248: FutureWarning: 'behaviour' is deprecated in 0.22 and will be removed in 0.24. You should not pass or set this parameter.\n",
            "  FutureWarning\n"
          ],
          "name": "stderr"
        },
        {
          "output_type": "stream",
          "text": [
            "Progress training :  37 %\n"
          ],
          "name": "stdout"
        },
        {
          "output_type": "stream",
          "text": [
            "/usr/local/lib/python3.6/dist-packages/sklearn/ensemble/_iforest.py:248: FutureWarning: 'behaviour' is deprecated in 0.22 and will be removed in 0.24. You should not pass or set this parameter.\n",
            "  FutureWarning\n"
          ],
          "name": "stderr"
        },
        {
          "output_type": "stream",
          "text": [
            "Progress training :  38 %\n"
          ],
          "name": "stdout"
        },
        {
          "output_type": "stream",
          "text": [
            "/usr/local/lib/python3.6/dist-packages/sklearn/ensemble/_iforest.py:248: FutureWarning: 'behaviour' is deprecated in 0.22 and will be removed in 0.24. You should not pass or set this parameter.\n",
            "  FutureWarning\n"
          ],
          "name": "stderr"
        },
        {
          "output_type": "stream",
          "text": [
            "Progress training :  38 %\n"
          ],
          "name": "stdout"
        },
        {
          "output_type": "stream",
          "text": [
            "/usr/local/lib/python3.6/dist-packages/sklearn/ensemble/_iforest.py:248: FutureWarning: 'behaviour' is deprecated in 0.22 and will be removed in 0.24. You should not pass or set this parameter.\n",
            "  FutureWarning\n"
          ],
          "name": "stderr"
        },
        {
          "output_type": "stream",
          "text": [
            "Progress training :  39 %\n"
          ],
          "name": "stdout"
        },
        {
          "output_type": "stream",
          "text": [
            "/usr/local/lib/python3.6/dist-packages/sklearn/ensemble/_iforest.py:248: FutureWarning: 'behaviour' is deprecated in 0.22 and will be removed in 0.24. You should not pass or set this parameter.\n",
            "  FutureWarning\n"
          ],
          "name": "stderr"
        },
        {
          "output_type": "stream",
          "text": [
            "Progress training :  40 %\n"
          ],
          "name": "stdout"
        },
        {
          "output_type": "stream",
          "text": [
            "/usr/local/lib/python3.6/dist-packages/sklearn/ensemble/_iforest.py:248: FutureWarning: 'behaviour' is deprecated in 0.22 and will be removed in 0.24. You should not pass or set this parameter.\n",
            "  FutureWarning\n"
          ],
          "name": "stderr"
        },
        {
          "output_type": "stream",
          "text": [
            "Progress training :  40 %\n"
          ],
          "name": "stdout"
        },
        {
          "output_type": "stream",
          "text": [
            "/usr/local/lib/python3.6/dist-packages/sklearn/ensemble/_iforest.py:248: FutureWarning: 'behaviour' is deprecated in 0.22 and will be removed in 0.24. You should not pass or set this parameter.\n",
            "  FutureWarning\n"
          ],
          "name": "stderr"
        },
        {
          "output_type": "stream",
          "text": [
            "Progress training :  41 %\n"
          ],
          "name": "stdout"
        },
        {
          "output_type": "stream",
          "text": [
            "/usr/local/lib/python3.6/dist-packages/sklearn/ensemble/_iforest.py:248: FutureWarning: 'behaviour' is deprecated in 0.22 and will be removed in 0.24. You should not pass or set this parameter.\n",
            "  FutureWarning\n"
          ],
          "name": "stderr"
        },
        {
          "output_type": "stream",
          "text": [
            "Progress training :  42 %\n"
          ],
          "name": "stdout"
        },
        {
          "output_type": "stream",
          "text": [
            "/usr/local/lib/python3.6/dist-packages/sklearn/ensemble/_iforest.py:248: FutureWarning: 'behaviour' is deprecated in 0.22 and will be removed in 0.24. You should not pass or set this parameter.\n",
            "  FutureWarning\n"
          ],
          "name": "stderr"
        },
        {
          "output_type": "stream",
          "text": [
            "Progress training :  42 %\n"
          ],
          "name": "stdout"
        },
        {
          "output_type": "stream",
          "text": [
            "/usr/local/lib/python3.6/dist-packages/sklearn/ensemble/_iforest.py:248: FutureWarning: 'behaviour' is deprecated in 0.22 and will be removed in 0.24. You should not pass or set this parameter.\n",
            "  FutureWarning\n"
          ],
          "name": "stderr"
        },
        {
          "output_type": "stream",
          "text": [
            "Progress training :  43 %\n"
          ],
          "name": "stdout"
        },
        {
          "output_type": "stream",
          "text": [
            "/usr/local/lib/python3.6/dist-packages/sklearn/ensemble/_iforest.py:248: FutureWarning: 'behaviour' is deprecated in 0.22 and will be removed in 0.24. You should not pass or set this parameter.\n",
            "  FutureWarning\n"
          ],
          "name": "stderr"
        },
        {
          "output_type": "stream",
          "text": [
            "Progress training :  44 %\n"
          ],
          "name": "stdout"
        },
        {
          "output_type": "stream",
          "text": [
            "/usr/local/lib/python3.6/dist-packages/sklearn/ensemble/_iforest.py:248: FutureWarning: 'behaviour' is deprecated in 0.22 and will be removed in 0.24. You should not pass or set this parameter.\n",
            "  FutureWarning\n"
          ],
          "name": "stderr"
        },
        {
          "output_type": "stream",
          "text": [
            "Progress training :  44 %\n"
          ],
          "name": "stdout"
        },
        {
          "output_type": "stream",
          "text": [
            "/usr/local/lib/python3.6/dist-packages/sklearn/ensemble/_iforest.py:248: FutureWarning: 'behaviour' is deprecated in 0.22 and will be removed in 0.24. You should not pass or set this parameter.\n",
            "  FutureWarning\n"
          ],
          "name": "stderr"
        },
        {
          "output_type": "stream",
          "text": [
            "Progress training :  45 %\n"
          ],
          "name": "stdout"
        },
        {
          "output_type": "stream",
          "text": [
            "/usr/local/lib/python3.6/dist-packages/sklearn/ensemble/_iforest.py:248: FutureWarning: 'behaviour' is deprecated in 0.22 and will be removed in 0.24. You should not pass or set this parameter.\n",
            "  FutureWarning\n"
          ],
          "name": "stderr"
        },
        {
          "output_type": "stream",
          "text": [
            "Progress training :  46 %\n"
          ],
          "name": "stdout"
        },
        {
          "output_type": "stream",
          "text": [
            "/usr/local/lib/python3.6/dist-packages/sklearn/ensemble/_iforest.py:248: FutureWarning: 'behaviour' is deprecated in 0.22 and will be removed in 0.24. You should not pass or set this parameter.\n",
            "  FutureWarning\n"
          ],
          "name": "stderr"
        },
        {
          "output_type": "stream",
          "text": [
            "Progress training :  46 %\n"
          ],
          "name": "stdout"
        },
        {
          "output_type": "stream",
          "text": [
            "/usr/local/lib/python3.6/dist-packages/sklearn/ensemble/_iforest.py:248: FutureWarning: 'behaviour' is deprecated in 0.22 and will be removed in 0.24. You should not pass or set this parameter.\n",
            "  FutureWarning\n"
          ],
          "name": "stderr"
        },
        {
          "output_type": "stream",
          "text": [
            "Progress training :  47 %\n"
          ],
          "name": "stdout"
        },
        {
          "output_type": "stream",
          "text": [
            "/usr/local/lib/python3.6/dist-packages/sklearn/ensemble/_iforest.py:248: FutureWarning: 'behaviour' is deprecated in 0.22 and will be removed in 0.24. You should not pass or set this parameter.\n",
            "  FutureWarning\n"
          ],
          "name": "stderr"
        },
        {
          "output_type": "stream",
          "text": [
            "Progress training :  48 %\n"
          ],
          "name": "stdout"
        },
        {
          "output_type": "stream",
          "text": [
            "/usr/local/lib/python3.6/dist-packages/sklearn/ensemble/_iforest.py:248: FutureWarning: 'behaviour' is deprecated in 0.22 and will be removed in 0.24. You should not pass or set this parameter.\n",
            "  FutureWarning\n"
          ],
          "name": "stderr"
        },
        {
          "output_type": "stream",
          "text": [
            "Progress training :  48 %\n"
          ],
          "name": "stdout"
        },
        {
          "output_type": "stream",
          "text": [
            "/usr/local/lib/python3.6/dist-packages/sklearn/ensemble/_iforest.py:248: FutureWarning: 'behaviour' is deprecated in 0.22 and will be removed in 0.24. You should not pass or set this parameter.\n",
            "  FutureWarning\n"
          ],
          "name": "stderr"
        },
        {
          "output_type": "stream",
          "text": [
            "Progress training :  49 %\n"
          ],
          "name": "stdout"
        },
        {
          "output_type": "stream",
          "text": [
            "/usr/local/lib/python3.6/dist-packages/sklearn/ensemble/_iforest.py:248: FutureWarning: 'behaviour' is deprecated in 0.22 and will be removed in 0.24. You should not pass or set this parameter.\n",
            "  FutureWarning\n"
          ],
          "name": "stderr"
        },
        {
          "output_type": "stream",
          "text": [
            "Progress training :  50 %\n"
          ],
          "name": "stdout"
        },
        {
          "output_type": "stream",
          "text": [
            "/usr/local/lib/python3.6/dist-packages/sklearn/ensemble/_iforest.py:248: FutureWarning: 'behaviour' is deprecated in 0.22 and will be removed in 0.24. You should not pass or set this parameter.\n",
            "  FutureWarning\n"
          ],
          "name": "stderr"
        },
        {
          "output_type": "stream",
          "text": [
            "Progress training :  50 %\n"
          ],
          "name": "stdout"
        },
        {
          "output_type": "stream",
          "text": [
            "/usr/local/lib/python3.6/dist-packages/sklearn/ensemble/_iforest.py:248: FutureWarning: 'behaviour' is deprecated in 0.22 and will be removed in 0.24. You should not pass or set this parameter.\n",
            "  FutureWarning\n"
          ],
          "name": "stderr"
        },
        {
          "output_type": "stream",
          "text": [
            "Progress training :  51 %\n"
          ],
          "name": "stdout"
        },
        {
          "output_type": "stream",
          "text": [
            "/usr/local/lib/python3.6/dist-packages/sklearn/ensemble/_iforest.py:248: FutureWarning: 'behaviour' is deprecated in 0.22 and will be removed in 0.24. You should not pass or set this parameter.\n",
            "  FutureWarning\n"
          ],
          "name": "stderr"
        },
        {
          "output_type": "stream",
          "text": [
            "Progress training :  52 %\n"
          ],
          "name": "stdout"
        },
        {
          "output_type": "stream",
          "text": [
            "/usr/local/lib/python3.6/dist-packages/sklearn/ensemble/_iforest.py:248: FutureWarning: 'behaviour' is deprecated in 0.22 and will be removed in 0.24. You should not pass or set this parameter.\n",
            "  FutureWarning\n"
          ],
          "name": "stderr"
        },
        {
          "output_type": "stream",
          "text": [
            "Progress training :  52 %\n"
          ],
          "name": "stdout"
        },
        {
          "output_type": "stream",
          "text": [
            "/usr/local/lib/python3.6/dist-packages/sklearn/ensemble/_iforest.py:248: FutureWarning: 'behaviour' is deprecated in 0.22 and will be removed in 0.24. You should not pass or set this parameter.\n",
            "  FutureWarning\n"
          ],
          "name": "stderr"
        },
        {
          "output_type": "stream",
          "text": [
            "Progress training :  53 %\n"
          ],
          "name": "stdout"
        },
        {
          "output_type": "stream",
          "text": [
            "/usr/local/lib/python3.6/dist-packages/sklearn/ensemble/_iforest.py:248: FutureWarning: 'behaviour' is deprecated in 0.22 and will be removed in 0.24. You should not pass or set this parameter.\n",
            "  FutureWarning\n"
          ],
          "name": "stderr"
        },
        {
          "output_type": "stream",
          "text": [
            "Progress training :  54 %\n"
          ],
          "name": "stdout"
        },
        {
          "output_type": "stream",
          "text": [
            "/usr/local/lib/python3.6/dist-packages/sklearn/ensemble/_iforest.py:248: FutureWarning: 'behaviour' is deprecated in 0.22 and will be removed in 0.24. You should not pass or set this parameter.\n",
            "  FutureWarning\n"
          ],
          "name": "stderr"
        },
        {
          "output_type": "stream",
          "text": [
            "Progress training :  54 %\n"
          ],
          "name": "stdout"
        },
        {
          "output_type": "stream",
          "text": [
            "/usr/local/lib/python3.6/dist-packages/sklearn/ensemble/_iforest.py:248: FutureWarning: 'behaviour' is deprecated in 0.22 and will be removed in 0.24. You should not pass or set this parameter.\n",
            "  FutureWarning\n"
          ],
          "name": "stderr"
        },
        {
          "output_type": "stream",
          "text": [
            "Progress training :  55 %\n"
          ],
          "name": "stdout"
        },
        {
          "output_type": "stream",
          "text": [
            "/usr/local/lib/python3.6/dist-packages/sklearn/ensemble/_iforest.py:248: FutureWarning: 'behaviour' is deprecated in 0.22 and will be removed in 0.24. You should not pass or set this parameter.\n",
            "  FutureWarning\n"
          ],
          "name": "stderr"
        },
        {
          "output_type": "stream",
          "text": [
            "Progress training :  56 %\n"
          ],
          "name": "stdout"
        },
        {
          "output_type": "stream",
          "text": [
            "/usr/local/lib/python3.6/dist-packages/sklearn/ensemble/_iforest.py:248: FutureWarning: 'behaviour' is deprecated in 0.22 and will be removed in 0.24. You should not pass or set this parameter.\n",
            "  FutureWarning\n"
          ],
          "name": "stderr"
        },
        {
          "output_type": "stream",
          "text": [
            "Progress training :  56 %\n"
          ],
          "name": "stdout"
        },
        {
          "output_type": "stream",
          "text": [
            "/usr/local/lib/python3.6/dist-packages/sklearn/ensemble/_iforest.py:248: FutureWarning: 'behaviour' is deprecated in 0.22 and will be removed in 0.24. You should not pass or set this parameter.\n",
            "  FutureWarning\n"
          ],
          "name": "stderr"
        },
        {
          "output_type": "stream",
          "text": [
            "Progress training :  57 %\n"
          ],
          "name": "stdout"
        },
        {
          "output_type": "stream",
          "text": [
            "/usr/local/lib/python3.6/dist-packages/sklearn/ensemble/_iforest.py:248: FutureWarning: 'behaviour' is deprecated in 0.22 and will be removed in 0.24. You should not pass or set this parameter.\n",
            "  FutureWarning\n"
          ],
          "name": "stderr"
        },
        {
          "output_type": "stream",
          "text": [
            "Progress training :  57 %\n"
          ],
          "name": "stdout"
        },
        {
          "output_type": "stream",
          "text": [
            "/usr/local/lib/python3.6/dist-packages/sklearn/ensemble/_iforest.py:248: FutureWarning: 'behaviour' is deprecated in 0.22 and will be removed in 0.24. You should not pass or set this parameter.\n",
            "  FutureWarning\n"
          ],
          "name": "stderr"
        },
        {
          "output_type": "stream",
          "text": [
            "Progress training :  58 %\n"
          ],
          "name": "stdout"
        },
        {
          "output_type": "stream",
          "text": [
            "/usr/local/lib/python3.6/dist-packages/sklearn/ensemble/_iforest.py:248: FutureWarning: 'behaviour' is deprecated in 0.22 and will be removed in 0.24. You should not pass or set this parameter.\n",
            "  FutureWarning\n"
          ],
          "name": "stderr"
        },
        {
          "output_type": "stream",
          "text": [
            "Progress training :  59 %\n"
          ],
          "name": "stdout"
        },
        {
          "output_type": "stream",
          "text": [
            "/usr/local/lib/python3.6/dist-packages/sklearn/ensemble/_iforest.py:248: FutureWarning: 'behaviour' is deprecated in 0.22 and will be removed in 0.24. You should not pass or set this parameter.\n",
            "  FutureWarning\n"
          ],
          "name": "stderr"
        },
        {
          "output_type": "stream",
          "text": [
            "Progress training :  60 %\n"
          ],
          "name": "stdout"
        },
        {
          "output_type": "stream",
          "text": [
            "/usr/local/lib/python3.6/dist-packages/sklearn/ensemble/_iforest.py:248: FutureWarning: 'behaviour' is deprecated in 0.22 and will be removed in 0.24. You should not pass or set this parameter.\n",
            "  FutureWarning\n"
          ],
          "name": "stderr"
        },
        {
          "output_type": "stream",
          "text": [
            "Progress training :  60 %\n"
          ],
          "name": "stdout"
        },
        {
          "output_type": "stream",
          "text": [
            "/usr/local/lib/python3.6/dist-packages/sklearn/ensemble/_iforest.py:248: FutureWarning: 'behaviour' is deprecated in 0.22 and will be removed in 0.24. You should not pass or set this parameter.\n",
            "  FutureWarning\n"
          ],
          "name": "stderr"
        },
        {
          "output_type": "stream",
          "text": [
            "Progress training :  61 %\n"
          ],
          "name": "stdout"
        },
        {
          "output_type": "stream",
          "text": [
            "/usr/local/lib/python3.6/dist-packages/sklearn/ensemble/_iforest.py:248: FutureWarning: 'behaviour' is deprecated in 0.22 and will be removed in 0.24. You should not pass or set this parameter.\n",
            "  FutureWarning\n"
          ],
          "name": "stderr"
        },
        {
          "output_type": "stream",
          "text": [
            "Progress training :  62 %\n"
          ],
          "name": "stdout"
        },
        {
          "output_type": "stream",
          "text": [
            "/usr/local/lib/python3.6/dist-packages/sklearn/ensemble/_iforest.py:248: FutureWarning: 'behaviour' is deprecated in 0.22 and will be removed in 0.24. You should not pass or set this parameter.\n",
            "  FutureWarning\n"
          ],
          "name": "stderr"
        },
        {
          "output_type": "stream",
          "text": [
            "Progress training :  62 %\n"
          ],
          "name": "stdout"
        },
        {
          "output_type": "stream",
          "text": [
            "/usr/local/lib/python3.6/dist-packages/sklearn/ensemble/_iforest.py:248: FutureWarning: 'behaviour' is deprecated in 0.22 and will be removed in 0.24. You should not pass or set this parameter.\n",
            "  FutureWarning\n"
          ],
          "name": "stderr"
        },
        {
          "output_type": "stream",
          "text": [
            "Progress training :  63 %\n"
          ],
          "name": "stdout"
        },
        {
          "output_type": "stream",
          "text": [
            "/usr/local/lib/python3.6/dist-packages/sklearn/ensemble/_iforest.py:248: FutureWarning: 'behaviour' is deprecated in 0.22 and will be removed in 0.24. You should not pass or set this parameter.\n",
            "  FutureWarning\n"
          ],
          "name": "stderr"
        },
        {
          "output_type": "stream",
          "text": [
            "Progress training :  64 %\n"
          ],
          "name": "stdout"
        },
        {
          "output_type": "stream",
          "text": [
            "/usr/local/lib/python3.6/dist-packages/sklearn/ensemble/_iforest.py:248: FutureWarning: 'behaviour' is deprecated in 0.22 and will be removed in 0.24. You should not pass or set this parameter.\n",
            "  FutureWarning\n"
          ],
          "name": "stderr"
        },
        {
          "output_type": "stream",
          "text": [
            "Progress training :  64 %\n"
          ],
          "name": "stdout"
        },
        {
          "output_type": "stream",
          "text": [
            "/usr/local/lib/python3.6/dist-packages/sklearn/ensemble/_iforest.py:248: FutureWarning: 'behaviour' is deprecated in 0.22 and will be removed in 0.24. You should not pass or set this parameter.\n",
            "  FutureWarning\n"
          ],
          "name": "stderr"
        },
        {
          "output_type": "stream",
          "text": [
            "Progress training :  65 %\n"
          ],
          "name": "stdout"
        },
        {
          "output_type": "stream",
          "text": [
            "/usr/local/lib/python3.6/dist-packages/sklearn/ensemble/_iforest.py:248: FutureWarning: 'behaviour' is deprecated in 0.22 and will be removed in 0.24. You should not pass or set this parameter.\n",
            "  FutureWarning\n"
          ],
          "name": "stderr"
        },
        {
          "output_type": "stream",
          "text": [
            "Progress training :  66 %\n"
          ],
          "name": "stdout"
        },
        {
          "output_type": "stream",
          "text": [
            "/usr/local/lib/python3.6/dist-packages/sklearn/ensemble/_iforest.py:248: FutureWarning: 'behaviour' is deprecated in 0.22 and will be removed in 0.24. You should not pass or set this parameter.\n",
            "  FutureWarning\n"
          ],
          "name": "stderr"
        },
        {
          "output_type": "stream",
          "text": [
            "Progress training :  66 %\n"
          ],
          "name": "stdout"
        },
        {
          "output_type": "stream",
          "text": [
            "/usr/local/lib/python3.6/dist-packages/sklearn/ensemble/_iforest.py:248: FutureWarning: 'behaviour' is deprecated in 0.22 and will be removed in 0.24. You should not pass or set this parameter.\n",
            "  FutureWarning\n"
          ],
          "name": "stderr"
        },
        {
          "output_type": "stream",
          "text": [
            "Progress training :  67 %\n"
          ],
          "name": "stdout"
        },
        {
          "output_type": "stream",
          "text": [
            "/usr/local/lib/python3.6/dist-packages/sklearn/ensemble/_iforest.py:248: FutureWarning: 'behaviour' is deprecated in 0.22 and will be removed in 0.24. You should not pass or set this parameter.\n",
            "  FutureWarning\n"
          ],
          "name": "stderr"
        },
        {
          "output_type": "stream",
          "text": [
            "Progress training :  68 %\n"
          ],
          "name": "stdout"
        },
        {
          "output_type": "stream",
          "text": [
            "/usr/local/lib/python3.6/dist-packages/sklearn/ensemble/_iforest.py:248: FutureWarning: 'behaviour' is deprecated in 0.22 and will be removed in 0.24. You should not pass or set this parameter.\n",
            "  FutureWarning\n"
          ],
          "name": "stderr"
        },
        {
          "output_type": "stream",
          "text": [
            "Progress training :  68 %\n"
          ],
          "name": "stdout"
        },
        {
          "output_type": "stream",
          "text": [
            "/usr/local/lib/python3.6/dist-packages/sklearn/ensemble/_iforest.py:248: FutureWarning: 'behaviour' is deprecated in 0.22 and will be removed in 0.24. You should not pass or set this parameter.\n",
            "  FutureWarning\n"
          ],
          "name": "stderr"
        },
        {
          "output_type": "stream",
          "text": [
            "Progress training :  69 %\n"
          ],
          "name": "stdout"
        },
        {
          "output_type": "stream",
          "text": [
            "/usr/local/lib/python3.6/dist-packages/sklearn/ensemble/_iforest.py:248: FutureWarning: 'behaviour' is deprecated in 0.22 and will be removed in 0.24. You should not pass or set this parameter.\n",
            "  FutureWarning\n"
          ],
          "name": "stderr"
        },
        {
          "output_type": "stream",
          "text": [
            "Progress training :  70 %\n"
          ],
          "name": "stdout"
        },
        {
          "output_type": "stream",
          "text": [
            "/usr/local/lib/python3.6/dist-packages/sklearn/ensemble/_iforest.py:248: FutureWarning: 'behaviour' is deprecated in 0.22 and will be removed in 0.24. You should not pass or set this parameter.\n",
            "  FutureWarning\n"
          ],
          "name": "stderr"
        },
        {
          "output_type": "stream",
          "text": [
            "Progress training :  70 %\n"
          ],
          "name": "stdout"
        },
        {
          "output_type": "stream",
          "text": [
            "/usr/local/lib/python3.6/dist-packages/sklearn/ensemble/_iforest.py:248: FutureWarning: 'behaviour' is deprecated in 0.22 and will be removed in 0.24. You should not pass or set this parameter.\n",
            "  FutureWarning\n"
          ],
          "name": "stderr"
        },
        {
          "output_type": "stream",
          "text": [
            "Progress training :  71 %\n"
          ],
          "name": "stdout"
        },
        {
          "output_type": "stream",
          "text": [
            "/usr/local/lib/python3.6/dist-packages/sklearn/ensemble/_iforest.py:248: FutureWarning: 'behaviour' is deprecated in 0.22 and will be removed in 0.24. You should not pass or set this parameter.\n",
            "  FutureWarning\n"
          ],
          "name": "stderr"
        },
        {
          "output_type": "stream",
          "text": [
            "Progress training :  72 %\n"
          ],
          "name": "stdout"
        },
        {
          "output_type": "stream",
          "text": [
            "/usr/local/lib/python3.6/dist-packages/sklearn/ensemble/_iforest.py:248: FutureWarning: 'behaviour' is deprecated in 0.22 and will be removed in 0.24. You should not pass or set this parameter.\n",
            "  FutureWarning\n"
          ],
          "name": "stderr"
        },
        {
          "output_type": "stream",
          "text": [
            "Progress training :  72 %\n"
          ],
          "name": "stdout"
        },
        {
          "output_type": "stream",
          "text": [
            "/usr/local/lib/python3.6/dist-packages/sklearn/ensemble/_iforest.py:248: FutureWarning: 'behaviour' is deprecated in 0.22 and will be removed in 0.24. You should not pass or set this parameter.\n",
            "  FutureWarning\n"
          ],
          "name": "stderr"
        },
        {
          "output_type": "stream",
          "text": [
            "Progress training :  73 %\n"
          ],
          "name": "stdout"
        },
        {
          "output_type": "stream",
          "text": [
            "/usr/local/lib/python3.6/dist-packages/sklearn/ensemble/_iforest.py:248: FutureWarning: 'behaviour' is deprecated in 0.22 and will be removed in 0.24. You should not pass or set this parameter.\n",
            "  FutureWarning\n"
          ],
          "name": "stderr"
        },
        {
          "output_type": "stream",
          "text": [
            "Progress training :  74 %\n"
          ],
          "name": "stdout"
        },
        {
          "output_type": "stream",
          "text": [
            "/usr/local/lib/python3.6/dist-packages/sklearn/ensemble/_iforest.py:248: FutureWarning: 'behaviour' is deprecated in 0.22 and will be removed in 0.24. You should not pass or set this parameter.\n",
            "  FutureWarning\n"
          ],
          "name": "stderr"
        },
        {
          "output_type": "stream",
          "text": [
            "Progress training :  74 %\n"
          ],
          "name": "stdout"
        },
        {
          "output_type": "stream",
          "text": [
            "/usr/local/lib/python3.6/dist-packages/sklearn/ensemble/_iforest.py:248: FutureWarning: 'behaviour' is deprecated in 0.22 and will be removed in 0.24. You should not pass or set this parameter.\n",
            "  FutureWarning\n"
          ],
          "name": "stderr"
        },
        {
          "output_type": "stream",
          "text": [
            "Progress training :  75 %\n"
          ],
          "name": "stdout"
        },
        {
          "output_type": "stream",
          "text": [
            "/usr/local/lib/python3.6/dist-packages/sklearn/ensemble/_iforest.py:248: FutureWarning: 'behaviour' is deprecated in 0.22 and will be removed in 0.24. You should not pass or set this parameter.\n",
            "  FutureWarning\n"
          ],
          "name": "stderr"
        },
        {
          "output_type": "stream",
          "text": [
            "Progress training :  76 %\n"
          ],
          "name": "stdout"
        },
        {
          "output_type": "stream",
          "text": [
            "/usr/local/lib/python3.6/dist-packages/sklearn/ensemble/_iforest.py:248: FutureWarning: 'behaviour' is deprecated in 0.22 and will be removed in 0.24. You should not pass or set this parameter.\n",
            "  FutureWarning\n"
          ],
          "name": "stderr"
        },
        {
          "output_type": "stream",
          "text": [
            "Progress training :  76 %\n"
          ],
          "name": "stdout"
        },
        {
          "output_type": "stream",
          "text": [
            "/usr/local/lib/python3.6/dist-packages/sklearn/ensemble/_iforest.py:248: FutureWarning: 'behaviour' is deprecated in 0.22 and will be removed in 0.24. You should not pass or set this parameter.\n",
            "  FutureWarning\n"
          ],
          "name": "stderr"
        },
        {
          "output_type": "stream",
          "text": [
            "Progress training :  77 %\n"
          ],
          "name": "stdout"
        },
        {
          "output_type": "stream",
          "text": [
            "/usr/local/lib/python3.6/dist-packages/sklearn/ensemble/_iforest.py:248: FutureWarning: 'behaviour' is deprecated in 0.22 and will be removed in 0.24. You should not pass or set this parameter.\n",
            "  FutureWarning\n"
          ],
          "name": "stderr"
        },
        {
          "output_type": "stream",
          "text": [
            "Progress training :  78 %\n"
          ],
          "name": "stdout"
        },
        {
          "output_type": "stream",
          "text": [
            "/usr/local/lib/python3.6/dist-packages/sklearn/ensemble/_iforest.py:248: FutureWarning: 'behaviour' is deprecated in 0.22 and will be removed in 0.24. You should not pass or set this parameter.\n",
            "  FutureWarning\n"
          ],
          "name": "stderr"
        },
        {
          "output_type": "stream",
          "text": [
            "Progress training :  78 %\n"
          ],
          "name": "stdout"
        },
        {
          "output_type": "stream",
          "text": [
            "/usr/local/lib/python3.6/dist-packages/sklearn/ensemble/_iforest.py:248: FutureWarning: 'behaviour' is deprecated in 0.22 and will be removed in 0.24. You should not pass or set this parameter.\n",
            "  FutureWarning\n"
          ],
          "name": "stderr"
        },
        {
          "output_type": "stream",
          "text": [
            "Progress training :  79 %\n"
          ],
          "name": "stdout"
        },
        {
          "output_type": "stream",
          "text": [
            "/usr/local/lib/python3.6/dist-packages/sklearn/ensemble/_iforest.py:248: FutureWarning: 'behaviour' is deprecated in 0.22 and will be removed in 0.24. You should not pass or set this parameter.\n",
            "  FutureWarning\n"
          ],
          "name": "stderr"
        },
        {
          "output_type": "stream",
          "text": [
            "Progress training :  80 %\n"
          ],
          "name": "stdout"
        },
        {
          "output_type": "stream",
          "text": [
            "/usr/local/lib/python3.6/dist-packages/sklearn/ensemble/_iforest.py:248: FutureWarning: 'behaviour' is deprecated in 0.22 and will be removed in 0.24. You should not pass or set this parameter.\n",
            "  FutureWarning\n"
          ],
          "name": "stderr"
        },
        {
          "output_type": "stream",
          "text": [
            "Progress training :  80 %\n"
          ],
          "name": "stdout"
        },
        {
          "output_type": "stream",
          "text": [
            "/usr/local/lib/python3.6/dist-packages/sklearn/ensemble/_iforest.py:248: FutureWarning: 'behaviour' is deprecated in 0.22 and will be removed in 0.24. You should not pass or set this parameter.\n",
            "  FutureWarning\n"
          ],
          "name": "stderr"
        },
        {
          "output_type": "stream",
          "text": [
            "Progress training :  81 %\n"
          ],
          "name": "stdout"
        },
        {
          "output_type": "stream",
          "text": [
            "/usr/local/lib/python3.6/dist-packages/sklearn/ensemble/_iforest.py:248: FutureWarning: 'behaviour' is deprecated in 0.22 and will be removed in 0.24. You should not pass or set this parameter.\n",
            "  FutureWarning\n"
          ],
          "name": "stderr"
        },
        {
          "output_type": "stream",
          "text": [
            "Progress training :  82 %\n"
          ],
          "name": "stdout"
        },
        {
          "output_type": "stream",
          "text": [
            "/usr/local/lib/python3.6/dist-packages/sklearn/ensemble/_iforest.py:248: FutureWarning: 'behaviour' is deprecated in 0.22 and will be removed in 0.24. You should not pass or set this parameter.\n",
            "  FutureWarning\n"
          ],
          "name": "stderr"
        },
        {
          "output_type": "stream",
          "text": [
            "Progress training :  82 %\n"
          ],
          "name": "stdout"
        },
        {
          "output_type": "stream",
          "text": [
            "/usr/local/lib/python3.6/dist-packages/sklearn/ensemble/_iforest.py:248: FutureWarning: 'behaviour' is deprecated in 0.22 and will be removed in 0.24. You should not pass or set this parameter.\n",
            "  FutureWarning\n"
          ],
          "name": "stderr"
        },
        {
          "output_type": "stream",
          "text": [
            "Progress training :  83 %\n"
          ],
          "name": "stdout"
        },
        {
          "output_type": "stream",
          "text": [
            "/usr/local/lib/python3.6/dist-packages/sklearn/ensemble/_iforest.py:248: FutureWarning: 'behaviour' is deprecated in 0.22 and will be removed in 0.24. You should not pass or set this parameter.\n",
            "  FutureWarning\n"
          ],
          "name": "stderr"
        },
        {
          "output_type": "stream",
          "text": [
            "Progress training :  84 %\n"
          ],
          "name": "stdout"
        },
        {
          "output_type": "stream",
          "text": [
            "/usr/local/lib/python3.6/dist-packages/sklearn/ensemble/_iforest.py:248: FutureWarning: 'behaviour' is deprecated in 0.22 and will be removed in 0.24. You should not pass or set this parameter.\n",
            "  FutureWarning\n"
          ],
          "name": "stderr"
        },
        {
          "output_type": "stream",
          "text": [
            "Progress training :  84 %\n"
          ],
          "name": "stdout"
        },
        {
          "output_type": "stream",
          "text": [
            "/usr/local/lib/python3.6/dist-packages/sklearn/ensemble/_iforest.py:248: FutureWarning: 'behaviour' is deprecated in 0.22 and will be removed in 0.24. You should not pass or set this parameter.\n",
            "  FutureWarning\n"
          ],
          "name": "stderr"
        },
        {
          "output_type": "stream",
          "text": [
            "Progress training :  85 %\n"
          ],
          "name": "stdout"
        },
        {
          "output_type": "stream",
          "text": [
            "/usr/local/lib/python3.6/dist-packages/sklearn/ensemble/_iforest.py:248: FutureWarning: 'behaviour' is deprecated in 0.22 and will be removed in 0.24. You should not pass or set this parameter.\n",
            "  FutureWarning\n"
          ],
          "name": "stderr"
        },
        {
          "output_type": "stream",
          "text": [
            "Progress training :  86 %\n"
          ],
          "name": "stdout"
        },
        {
          "output_type": "stream",
          "text": [
            "/usr/local/lib/python3.6/dist-packages/sklearn/ensemble/_iforest.py:248: FutureWarning: 'behaviour' is deprecated in 0.22 and will be removed in 0.24. You should not pass or set this parameter.\n",
            "  FutureWarning\n"
          ],
          "name": "stderr"
        },
        {
          "output_type": "stream",
          "text": [
            "Progress training :  86 %\n"
          ],
          "name": "stdout"
        },
        {
          "output_type": "stream",
          "text": [
            "/usr/local/lib/python3.6/dist-packages/sklearn/ensemble/_iforest.py:248: FutureWarning: 'behaviour' is deprecated in 0.22 and will be removed in 0.24. You should not pass or set this parameter.\n",
            "  FutureWarning\n"
          ],
          "name": "stderr"
        },
        {
          "output_type": "stream",
          "text": [
            "Progress training :  87 %\n"
          ],
          "name": "stdout"
        },
        {
          "output_type": "stream",
          "text": [
            "/usr/local/lib/python3.6/dist-packages/sklearn/ensemble/_iforest.py:248: FutureWarning: 'behaviour' is deprecated in 0.22 and will be removed in 0.24. You should not pass or set this parameter.\n",
            "  FutureWarning\n"
          ],
          "name": "stderr"
        },
        {
          "output_type": "stream",
          "text": [
            "Progress training :  88 %\n"
          ],
          "name": "stdout"
        },
        {
          "output_type": "stream",
          "text": [
            "/usr/local/lib/python3.6/dist-packages/sklearn/ensemble/_iforest.py:248: FutureWarning: 'behaviour' is deprecated in 0.22 and will be removed in 0.24. You should not pass or set this parameter.\n",
            "  FutureWarning\n"
          ],
          "name": "stderr"
        },
        {
          "output_type": "stream",
          "text": [
            "Progress training :  88 %\n"
          ],
          "name": "stdout"
        },
        {
          "output_type": "stream",
          "text": [
            "/usr/local/lib/python3.6/dist-packages/sklearn/ensemble/_iforest.py:248: FutureWarning: 'behaviour' is deprecated in 0.22 and will be removed in 0.24. You should not pass or set this parameter.\n",
            "  FutureWarning\n"
          ],
          "name": "stderr"
        },
        {
          "output_type": "stream",
          "text": [
            "Progress training :  89 %\n"
          ],
          "name": "stdout"
        },
        {
          "output_type": "stream",
          "text": [
            "/usr/local/lib/python3.6/dist-packages/sklearn/ensemble/_iforest.py:248: FutureWarning: 'behaviour' is deprecated in 0.22 and will be removed in 0.24. You should not pass or set this parameter.\n",
            "  FutureWarning\n"
          ],
          "name": "stderr"
        },
        {
          "output_type": "stream",
          "text": [
            "Progress training :  90 %\n"
          ],
          "name": "stdout"
        },
        {
          "output_type": "stream",
          "text": [
            "/usr/local/lib/python3.6/dist-packages/sklearn/ensemble/_iforest.py:248: FutureWarning: 'behaviour' is deprecated in 0.22 and will be removed in 0.24. You should not pass or set this parameter.\n",
            "  FutureWarning\n"
          ],
          "name": "stderr"
        },
        {
          "output_type": "stream",
          "text": [
            "Progress training :  90 %\n"
          ],
          "name": "stdout"
        },
        {
          "output_type": "stream",
          "text": [
            "/usr/local/lib/python3.6/dist-packages/sklearn/ensemble/_iforest.py:248: FutureWarning: 'behaviour' is deprecated in 0.22 and will be removed in 0.24. You should not pass or set this parameter.\n",
            "  FutureWarning\n"
          ],
          "name": "stderr"
        },
        {
          "output_type": "stream",
          "text": [
            "Progress training :  91 %\n"
          ],
          "name": "stdout"
        },
        {
          "output_type": "stream",
          "text": [
            "/usr/local/lib/python3.6/dist-packages/sklearn/ensemble/_iforest.py:248: FutureWarning: 'behaviour' is deprecated in 0.22 and will be removed in 0.24. You should not pass or set this parameter.\n",
            "  FutureWarning\n"
          ],
          "name": "stderr"
        },
        {
          "output_type": "stream",
          "text": [
            "Progress training :  92 %\n"
          ],
          "name": "stdout"
        },
        {
          "output_type": "stream",
          "text": [
            "/usr/local/lib/python3.6/dist-packages/sklearn/ensemble/_iforest.py:248: FutureWarning: 'behaviour' is deprecated in 0.22 and will be removed in 0.24. You should not pass or set this parameter.\n",
            "  FutureWarning\n"
          ],
          "name": "stderr"
        },
        {
          "output_type": "stream",
          "text": [
            "Progress training :  92 %\n"
          ],
          "name": "stdout"
        },
        {
          "output_type": "stream",
          "text": [
            "/usr/local/lib/python3.6/dist-packages/sklearn/ensemble/_iforest.py:248: FutureWarning: 'behaviour' is deprecated in 0.22 and will be removed in 0.24. You should not pass or set this parameter.\n",
            "  FutureWarning\n"
          ],
          "name": "stderr"
        },
        {
          "output_type": "stream",
          "text": [
            "Progress training :  93 %\n"
          ],
          "name": "stdout"
        },
        {
          "output_type": "stream",
          "text": [
            "/usr/local/lib/python3.6/dist-packages/sklearn/ensemble/_iforest.py:248: FutureWarning: 'behaviour' is deprecated in 0.22 and will be removed in 0.24. You should not pass or set this parameter.\n",
            "  FutureWarning\n"
          ],
          "name": "stderr"
        },
        {
          "output_type": "stream",
          "text": [
            "Progress training :  94 %\n"
          ],
          "name": "stdout"
        },
        {
          "output_type": "stream",
          "text": [
            "/usr/local/lib/python3.6/dist-packages/sklearn/ensemble/_iforest.py:248: FutureWarning: 'behaviour' is deprecated in 0.22 and will be removed in 0.24. You should not pass or set this parameter.\n",
            "  FutureWarning\n"
          ],
          "name": "stderr"
        },
        {
          "output_type": "stream",
          "text": [
            "Progress training :  94 %\n"
          ],
          "name": "stdout"
        },
        {
          "output_type": "stream",
          "text": [
            "/usr/local/lib/python3.6/dist-packages/sklearn/ensemble/_iforest.py:248: FutureWarning: 'behaviour' is deprecated in 0.22 and will be removed in 0.24. You should not pass or set this parameter.\n",
            "  FutureWarning\n"
          ],
          "name": "stderr"
        },
        {
          "output_type": "stream",
          "text": [
            "Progress training :  95 %\n"
          ],
          "name": "stdout"
        },
        {
          "output_type": "stream",
          "text": [
            "/usr/local/lib/python3.6/dist-packages/sklearn/ensemble/_iforest.py:248: FutureWarning: 'behaviour' is deprecated in 0.22 and will be removed in 0.24. You should not pass or set this parameter.\n",
            "  FutureWarning\n"
          ],
          "name": "stderr"
        },
        {
          "output_type": "stream",
          "text": [
            "Progress training :  96 %\n"
          ],
          "name": "stdout"
        },
        {
          "output_type": "stream",
          "text": [
            "/usr/local/lib/python3.6/dist-packages/sklearn/ensemble/_iforest.py:248: FutureWarning: 'behaviour' is deprecated in 0.22 and will be removed in 0.24. You should not pass or set this parameter.\n",
            "  FutureWarning\n"
          ],
          "name": "stderr"
        },
        {
          "output_type": "stream",
          "text": [
            "Progress training :  96 %\n"
          ],
          "name": "stdout"
        },
        {
          "output_type": "stream",
          "text": [
            "/usr/local/lib/python3.6/dist-packages/sklearn/ensemble/_iforest.py:248: FutureWarning: 'behaviour' is deprecated in 0.22 and will be removed in 0.24. You should not pass or set this parameter.\n",
            "  FutureWarning\n"
          ],
          "name": "stderr"
        },
        {
          "output_type": "stream",
          "text": [
            "Progress training :  97 %\n"
          ],
          "name": "stdout"
        },
        {
          "output_type": "stream",
          "text": [
            "/usr/local/lib/python3.6/dist-packages/sklearn/ensemble/_iforest.py:248: FutureWarning: 'behaviour' is deprecated in 0.22 and will be removed in 0.24. You should not pass or set this parameter.\n",
            "  FutureWarning\n"
          ],
          "name": "stderr"
        },
        {
          "output_type": "stream",
          "text": [
            "Progress training :  98 %\n"
          ],
          "name": "stdout"
        },
        {
          "output_type": "stream",
          "text": [
            "/usr/local/lib/python3.6/dist-packages/sklearn/ensemble/_iforest.py:248: FutureWarning: 'behaviour' is deprecated in 0.22 and will be removed in 0.24. You should not pass or set this parameter.\n",
            "  FutureWarning\n"
          ],
          "name": "stderr"
        },
        {
          "output_type": "stream",
          "text": [
            "Progress training :  98 %\n"
          ],
          "name": "stdout"
        },
        {
          "output_type": "stream",
          "text": [
            "/usr/local/lib/python3.6/dist-packages/sklearn/ensemble/_iforest.py:248: FutureWarning: 'behaviour' is deprecated in 0.22 and will be removed in 0.24. You should not pass or set this parameter.\n",
            "  FutureWarning\n"
          ],
          "name": "stderr"
        },
        {
          "output_type": "stream",
          "text": [
            "Progress training :  99 %\n"
          ],
          "name": "stdout"
        },
        {
          "output_type": "stream",
          "text": [
            "/usr/local/lib/python3.6/dist-packages/sklearn/ensemble/_iforest.py:248: FutureWarning: 'behaviour' is deprecated in 0.22 and will be removed in 0.24. You should not pass or set this parameter.\n",
            "  FutureWarning\n"
          ],
          "name": "stderr"
        },
        {
          "output_type": "stream",
          "text": [
            "Progress training :  100 %\n"
          ],
          "name": "stdout"
        }
      ]
    },
    {
      "cell_type": "code",
      "metadata": {
        "id": "M95-l6JWTJ7k",
        "colab_type": "code",
        "colab": {}
      },
      "source": [
        ""
      ],
      "execution_count": 0,
      "outputs": []
    },
    {
      "cell_type": "code",
      "metadata": {
        "id": "yT954YZETUDt",
        "colab_type": "code",
        "colab": {}
      },
      "source": [
        ""
      ],
      "execution_count": 0,
      "outputs": []
    },
    {
      "cell_type": "code",
      "metadata": {
        "id": "f7kevHr1RWYY",
        "colab_type": "code",
        "outputId": "1cbc6c2f-bf04-4626-dce9-4403df2e8fc8",
        "colab": {
          "base_uri": "https://localhost:8080/",
          "height": 424
        }
      },
      "source": [
        "hasil_percobaan4 = pd.DataFrame(data= hasil4, columns=['jumlah tree','sample','threshold','Precision','TPR','FPR','F1_Score', 'ROC_AUC', 'AUCPR'])\n",
        "hasil_percobaan4"
      ],
      "execution_count": 0,
      "outputs": [
        {
          "output_type": "execute_result",
          "data": {
            "text/html": [
              "<div>\n",
              "<style scoped>\n",
              "    .dataframe tbody tr th:only-of-type {\n",
              "        vertical-align: middle;\n",
              "    }\n",
              "\n",
              "    .dataframe tbody tr th {\n",
              "        vertical-align: top;\n",
              "    }\n",
              "\n",
              "    .dataframe thead th {\n",
              "        text-align: right;\n",
              "    }\n",
              "</style>\n",
              "<table border=\"1\" class=\"dataframe\">\n",
              "  <thead>\n",
              "    <tr style=\"text-align: right;\">\n",
              "      <th></th>\n",
              "      <th>jumlah tree</th>\n",
              "      <th>sample</th>\n",
              "      <th>threshold</th>\n",
              "      <th>Precision</th>\n",
              "      <th>TPR</th>\n",
              "      <th>FPR</th>\n",
              "      <th>F1_Score</th>\n",
              "      <th>ROC_AUC</th>\n",
              "      <th>AUCPR</th>\n",
              "    </tr>\n",
              "  </thead>\n",
              "  <tbody>\n",
              "    <tr>\n",
              "      <th>0</th>\n",
              "      <td>10</td>\n",
              "      <td>64</td>\n",
              "      <td>0.0004</td>\n",
              "      <td>0.000000</td>\n",
              "      <td>0.000000</td>\n",
              "      <td>0.000301</td>\n",
              "      <td>0.000000</td>\n",
              "      <td>0.970053</td>\n",
              "      <td>0.670104</td>\n",
              "    </tr>\n",
              "    <tr>\n",
              "      <th>1</th>\n",
              "      <td>10</td>\n",
              "      <td>64</td>\n",
              "      <td>0.0008</td>\n",
              "      <td>0.819277</td>\n",
              "      <td>0.492754</td>\n",
              "      <td>0.000301</td>\n",
              "      <td>0.615385</td>\n",
              "      <td>0.970053</td>\n",
              "      <td>0.670104</td>\n",
              "    </tr>\n",
              "    <tr>\n",
              "      <th>2</th>\n",
              "      <td>10</td>\n",
              "      <td>64</td>\n",
              "      <td>0.0010</td>\n",
              "      <td>0.762887</td>\n",
              "      <td>0.536232</td>\n",
              "      <td>0.000301</td>\n",
              "      <td>0.629787</td>\n",
              "      <td>0.970053</td>\n",
              "      <td>0.670104</td>\n",
              "    </tr>\n",
              "    <tr>\n",
              "      <th>3</th>\n",
              "      <td>10</td>\n",
              "      <td>64</td>\n",
              "      <td>0.0015</td>\n",
              "      <td>0.724638</td>\n",
              "      <td>0.724638</td>\n",
              "      <td>0.000301</td>\n",
              "      <td>0.724638</td>\n",
              "      <td>0.970053</td>\n",
              "      <td>0.670104</td>\n",
              "    </tr>\n",
              "    <tr>\n",
              "      <th>4</th>\n",
              "      <td>10</td>\n",
              "      <td>64</td>\n",
              "      <td>0.0020</td>\n",
              "      <td>0.509434</td>\n",
              "      <td>0.782609</td>\n",
              "      <td>0.000301</td>\n",
              "      <td>0.617143</td>\n",
              "      <td>0.970053</td>\n",
              "      <td>0.670104</td>\n",
              "    </tr>\n",
              "    <tr>\n",
              "      <th>...</th>\n",
              "      <td>...</td>\n",
              "      <td>...</td>\n",
              "      <td>...</td>\n",
              "      <td>...</td>\n",
              "      <td>...</td>\n",
              "      <td>...</td>\n",
              "      <td>...</td>\n",
              "      <td>...</td>\n",
              "      <td>...</td>\n",
              "    </tr>\n",
              "    <tr>\n",
              "      <th>145</th>\n",
              "      <td>200</td>\n",
              "      <td>1024</td>\n",
              "      <td>0.0004</td>\n",
              "      <td>0.675676</td>\n",
              "      <td>0.181159</td>\n",
              "      <td>0.000301</td>\n",
              "      <td>0.285714</td>\n",
              "      <td>0.972481</td>\n",
              "      <td>0.624336</td>\n",
              "    </tr>\n",
              "    <tr>\n",
              "      <th>146</th>\n",
              "      <td>200</td>\n",
              "      <td>1024</td>\n",
              "      <td>0.0008</td>\n",
              "      <td>0.848837</td>\n",
              "      <td>0.528986</td>\n",
              "      <td>0.000301</td>\n",
              "      <td>0.651786</td>\n",
              "      <td>0.972481</td>\n",
              "      <td>0.624336</td>\n",
              "    </tr>\n",
              "    <tr>\n",
              "      <th>147</th>\n",
              "      <td>200</td>\n",
              "      <td>1024</td>\n",
              "      <td>0.0010</td>\n",
              "      <td>0.766355</td>\n",
              "      <td>0.594203</td>\n",
              "      <td>0.000301</td>\n",
              "      <td>0.669388</td>\n",
              "      <td>0.972481</td>\n",
              "      <td>0.624336</td>\n",
              "    </tr>\n",
              "    <tr>\n",
              "      <th>148</th>\n",
              "      <td>200</td>\n",
              "      <td>1024</td>\n",
              "      <td>0.0015</td>\n",
              "      <td>0.658228</td>\n",
              "      <td>0.753623</td>\n",
              "      <td>0.000301</td>\n",
              "      <td>0.702703</td>\n",
              "      <td>0.972481</td>\n",
              "      <td>0.624336</td>\n",
              "    </tr>\n",
              "    <tr>\n",
              "      <th>149</th>\n",
              "      <td>200</td>\n",
              "      <td>1024</td>\n",
              "      <td>0.0020</td>\n",
              "      <td>0.548718</td>\n",
              "      <td>0.775362</td>\n",
              "      <td>0.000301</td>\n",
              "      <td>0.642643</td>\n",
              "      <td>0.972481</td>\n",
              "      <td>0.624336</td>\n",
              "    </tr>\n",
              "  </tbody>\n",
              "</table>\n",
              "<p>150 rows × 9 columns</p>\n",
              "</div>"
            ],
            "text/plain": [
              "     jumlah tree  sample  threshold  ...  F1_Score   ROC_AUC     AUCPR\n",
              "0             10      64     0.0004  ...  0.000000  0.970053  0.670104\n",
              "1             10      64     0.0008  ...  0.615385  0.970053  0.670104\n",
              "2             10      64     0.0010  ...  0.629787  0.970053  0.670104\n",
              "3             10      64     0.0015  ...  0.724638  0.970053  0.670104\n",
              "4             10      64     0.0020  ...  0.617143  0.970053  0.670104\n",
              "..           ...     ...        ...  ...       ...       ...       ...\n",
              "145          200    1024     0.0004  ...  0.285714  0.972481  0.624336\n",
              "146          200    1024     0.0008  ...  0.651786  0.972481  0.624336\n",
              "147          200    1024     0.0010  ...  0.669388  0.972481  0.624336\n",
              "148          200    1024     0.0015  ...  0.702703  0.972481  0.624336\n",
              "149          200    1024     0.0020  ...  0.642643  0.972481  0.624336\n",
              "\n",
              "[150 rows x 9 columns]"
            ]
          },
          "metadata": {
            "tags": []
          },
          "execution_count": 64
        }
      ]
    },
    {
      "cell_type": "code",
      "metadata": {
        "id": "fn-LZcXXEm77",
        "colab_type": "code",
        "outputId": "015abc8c-eac2-4980-e3ce-f40bee59dd2d",
        "colab": {
          "base_uri": "https://localhost:8080/",
          "height": 81
        }
      },
      "source": [
        "maxi = hasil_percobaan4['F1_Score'].max()\n",
        "terbaik4 = hasil_percobaan4[(hasil_percobaan4['F1_Score']== maxi)]\n",
        "terbaik4"
      ],
      "execution_count": 0,
      "outputs": [
        {
          "output_type": "execute_result",
          "data": {
            "text/html": [
              "<div>\n",
              "<style scoped>\n",
              "    .dataframe tbody tr th:only-of-type {\n",
              "        vertical-align: middle;\n",
              "    }\n",
              "\n",
              "    .dataframe tbody tr th {\n",
              "        vertical-align: top;\n",
              "    }\n",
              "\n",
              "    .dataframe thead th {\n",
              "        text-align: right;\n",
              "    }\n",
              "</style>\n",
              "<table border=\"1\" class=\"dataframe\">\n",
              "  <thead>\n",
              "    <tr style=\"text-align: right;\">\n",
              "      <th></th>\n",
              "      <th>jumlah tree</th>\n",
              "      <th>sample</th>\n",
              "      <th>threshold</th>\n",
              "      <th>Precision</th>\n",
              "      <th>TPR</th>\n",
              "      <th>FPR</th>\n",
              "      <th>F1_Score</th>\n",
              "      <th>ROC_AUC</th>\n",
              "      <th>AUCPR</th>\n",
              "    </tr>\n",
              "  </thead>\n",
              "  <tbody>\n",
              "    <tr>\n",
              "      <th>82</th>\n",
              "      <td>100</td>\n",
              "      <td>128</td>\n",
              "      <td>0.001</td>\n",
              "      <td>0.809917</td>\n",
              "      <td>0.710145</td>\n",
              "      <td>0.000301</td>\n",
              "      <td>0.756757</td>\n",
              "      <td>0.969728</td>\n",
              "      <td>0.637993</td>\n",
              "    </tr>\n",
              "  </tbody>\n",
              "</table>\n",
              "</div>"
            ],
            "text/plain": [
              "    jumlah tree  sample  threshold  ...  F1_Score   ROC_AUC     AUCPR\n",
              "82          100     128      0.001  ...  0.756757  0.969728  0.637993\n",
              "\n",
              "[1 rows x 9 columns]"
            ]
          },
          "metadata": {
            "tags": []
          },
          "execution_count": 65
        }
      ]
    },
    {
      "cell_type": "code",
      "metadata": {
        "id": "OjSqPOqJEwcB",
        "colab_type": "code",
        "outputId": "5249d268-1804-4efc-900c-0eb21e8db75a",
        "colab": {
          "base_uri": "https://localhost:8080/",
          "height": 35
        }
      },
      "source": [
        "best_ntree = terbaik4['jumlah tree']\n",
        "best_ntree = int(best_ntree)\n",
        "best_samples = int(terbaik4['sample'])\n",
        "best_th = float(terbaik4['threshold'])\n",
        "print(best_ntree, best_samples, best_th)"
      ],
      "execution_count": 0,
      "outputs": [
        {
          "output_type": "stream",
          "text": [
            "100 128 0.001\n"
          ],
          "name": "stdout"
        }
      ]
    },
    {
      "cell_type": "code",
      "metadata": {
        "id": "y-d_HkgM4pcv",
        "colab_type": "code",
        "colab": {}
      },
      "source": [
        "\n",
        "# hasil_percobaan4.to_csv('ulb-tuning-hyperparameter.csv')\n",
        "# files.download('ulb-tuning-hyperparameter.csv')"
      ],
      "execution_count": 0,
      "outputs": []
    },
    {
      "cell_type": "markdown",
      "metadata": {
        "colab_type": "text",
        "id": "ImVf7Pn7T5EK"
      },
      "source": [
        "### Grafik ROC_AUC dan Precision_Recall pada data Validasi"
      ]
    },
    {
      "cell_type": "code",
      "metadata": {
        "id": "xKe-2RwzTbhF",
        "colab_type": "code",
        "outputId": "2c546dc6-4c14-4db6-9d4d-4c7aa1892d8e",
        "colab": {
          "base_uri": "https://localhost:8080/",
          "height": 364
        }
      },
      "source": [
        "\n",
        "ifor4 = iForest(X_train3,best_ntree,best_samples,best_th)\n",
        "\n",
        "y_pred = ifor4.predict(X_val)\n",
        "\n",
        "y_pred = np.array(convert(y_pred))\n",
        "\n",
        "ifval_scores = ifor4.score_samples(X_val)\n",
        "\n",
        "ifval_scores = -ifval_scores\n",
        "\n",
        "val_predictions = pd.DataFrame({\n",
        "\n",
        "    \"predicted_class\": y_pred,\n",
        "\n",
        "    \"class\": y_val,\n",
        "\n",
        "    \"predict\": ifval_scores\n",
        "\n",
        "})\n",
        "\n",
        "figure()\n",
        "axes = prediction_summary(\n",
        "\n",
        "    val_predictions[\"class\"], val_predictions[\"predict\"], val_predictions[\"predicted_class\"],'validasi')"
      ],
      "execution_count": 0,
      "outputs": [
        {
          "output_type": "stream",
          "text": [
            "/usr/local/lib/python3.6/dist-packages/sklearn/ensemble/_iforest.py:248: FutureWarning: 'behaviour' is deprecated in 0.22 and will be removed in 0.24. You should not pass or set this parameter.\n",
            "  FutureWarning\n"
          ],
          "name": "stderr"
        },
        {
          "output_type": "display_data",
          "data": {
            "image/png": "[encoded data removed]",
            "text/plain": [
              "<Figure size 648x324 with 2 Axes>"
            ]
          },
          "metadata": {
            "tags": []
          }
        }
      ]
    },
    {
      "cell_type": "code",
      "metadata": {
        "id": "v6VdJ2v6UR4a",
        "colab_type": "code",
        "outputId": "3c5a2b4c-bdf0-49d6-9c4a-51e55563fc02",
        "colab": {
          "base_uri": "https://localhost:8080/",
          "height": 307
        }
      },
      "source": [
        "testing4 = []\n",
        "iftest_predict = ifor4.predict(Xtest_new)\n",
        "\n",
        "iftest_scores = ifor4.score_samples(Xtest_new)\n",
        "\n",
        "roc_auc, aucpr = roc_aucpr(ytest, -iftest_scores)\n",
        "  \n",
        "precision,recall,f1_score = metric_evaluasi(ytest,np.array(convert(iftest_predict)))\n",
        "\n",
        "TP,FP,FN,TN = confussion_matrik(y_val,y_pred)\n",
        "\n",
        "FPR = FP/(TN+FP)\n",
        "\n",
        "result4 = [precision,recall,FPR,f1_score, roc_auc, aucpr]\n",
        "testing4.append(result4)\n",
        "\n",
        "test_predictions = pd.DataFrame({\n",
        "\n",
        "    \"predicted_class\": list(map(lambda x: 1*(x == -1), iftest_predict)),\n",
        "\n",
        "    \"class\": ytest,\n",
        "\n",
        "    \"predict\": -iftest_scores\n",
        "\n",
        "})\n",
        "\n",
        "figure()\n",
        "axes = prediction_summary(\n",
        "    test_predictions[\"class\"], test_predictions[\"predict\"], test_predictions[\"predicted_class\"],'test')"
      ],
      "execution_count": 0,
      "outputs": [
        {
          "output_type": "display_data",
          "data": {
            "image/png": "[encoded data removed]",
            "text/plain": [
              "<Figure size 648x324 with 2 Axes>"
            ]
          },
          "metadata": {
            "tags": []
          }
        }
      ]
    },
    {
      "cell_type": "code",
      "metadata": {
        "id": "15cPNF2tUoCP",
        "colab_type": "code",
        "outputId": "474cf126-0068-452b-db09-d9c40909c333",
        "colab": {
          "base_uri": "https://localhost:8080/",
          "height": 81
        }
      },
      "source": [
        "hasil_testing4 = pd.DataFrame(data= testing4, columns=['Precision','TPR','FPR','F1_Score', 'ROC_AUC', 'AUCPR'])\n",
        "hasil_testing4"
      ],
      "execution_count": 0,
      "outputs": [
        {
          "output_type": "execute_result",
          "data": {
            "text/html": [
              "<div>\n",
              "<style scoped>\n",
              "    .dataframe tbody tr th:only-of-type {\n",
              "        vertical-align: middle;\n",
              "    }\n",
              "\n",
              "    .dataframe tbody tr th {\n",
              "        vertical-align: top;\n",
              "    }\n",
              "\n",
              "    .dataframe thead th {\n",
              "        text-align: right;\n",
              "    }\n",
              "</style>\n",
              "<table border=\"1\" class=\"dataframe\">\n",
              "  <thead>\n",
              "    <tr style=\"text-align: right;\">\n",
              "      <th></th>\n",
              "      <th>Precision</th>\n",
              "      <th>TPR</th>\n",
              "      <th>FPR</th>\n",
              "      <th>F1_Score</th>\n",
              "      <th>ROC_AUC</th>\n",
              "      <th>AUCPR</th>\n",
              "    </tr>\n",
              "  </thead>\n",
              "  <tbody>\n",
              "    <tr>\n",
              "      <th>0</th>\n",
              "      <td>0.807143</td>\n",
              "      <td>0.763514</td>\n",
              "      <td>0.000289</td>\n",
              "      <td>0.784722</td>\n",
              "      <td>0.97371</td>\n",
              "      <td>0.759228</td>\n",
              "    </tr>\n",
              "  </tbody>\n",
              "</table>\n",
              "</div>"
            ],
            "text/plain": [
              "   Precision       TPR       FPR  F1_Score  ROC_AUC     AUCPR\n",
              "0   0.807143  0.763514  0.000289  0.784722  0.97371  0.759228"
            ]
          },
          "metadata": {
            "tags": []
          },
          "execution_count": 69
        }
      ]
    },
    {
      "cell_type": "code",
      "metadata": {
        "id": "PYGtXpXL45f6",
        "colab_type": "code",
        "colab": {}
      },
      "source": [
        "#download file :\n",
        "from google.colab import files\n",
        "hasil_percobaan1.to_csv('hasil_percobaan1.csv')\n",
        "!cp hasil_percobaan1.csv \"drive/My Drive/Colab Notebooks/ULB/Percobaan Unsupervised/\"\n",
        "\n",
        "hasil_percobaan2.to_csv('hasil_percobaan2.csv')\n",
        "!cp hasil_percobaan2.csv \"drive/My Drive/Colab Notebooks/ULB/Percobaan Unsupervised/\"\n",
        "\n",
        "hasil_percobaan3.to_csv('hasil_percobaan3.csv')\n",
        "!cp hasil_percobaan3.csv \"drive/My Drive/Colab Notebooks/ULB/Percobaan Unsupervised/\"\n",
        "\n",
        "terbaik4.to_csv('hasil_percobaan4.csv')\n",
        "!cp hasil_percobaan4.csv \"drive/My Drive/Colab Notebooks/ULB/Percobaan Unsupervised/\"\n",
        "\n",
        "hasil_testing1.to_csv('hasil_testing1.csv')\n",
        "!cp hasil_testing1.csv \"drive/My Drive/Colab Notebooks/ULB/Percobaan Unsupervised/\"\n",
        "\n",
        "hasil_testing2.to_csv('hasil_testing2.csv')\n",
        "!cp hasil_testing2.csv \"drive/My Drive/Colab Notebooks/ULB/Percobaan Unsupervised/\"\n",
        "\n",
        "hasil_testing3.to_csv('hasil_testing3.csv')\n",
        "!cp hasil_testing3.csv \"drive/My Drive/Colab Notebooks/ULB/Percobaan Unsupervised/\"\n",
        "\n",
        "hasil_testing4.to_csv('hasil_testing4.csv')\n",
        "!cp hasil_testing4.csv \"drive/My Drive/Colab Notebooks/ULB/Percobaan Unsupervised/\"\n"
      ],
      "execution_count": 0,
      "outputs": []
    },
    {
      "cell_type": "code",
      "metadata": {
        "id": "TLG62MT4Deu-",
        "colab_type": "code",
        "colab": {}
      },
      "source": [
        "# trees = [10, 25, 50, 100, 150, 200]\n",
        "# samples = [64, 128, 256, 512, 1024]\n",
        "# ths = [0.0004, 0.0008, 0.001, 0.0015, 0.002]\n",
        "# hasil5=[]\n",
        "# num = 1\n",
        "# for tree in trees:\n",
        "#   for sample in samples:\n",
        "#     for th in ths:\n",
        "#       Xfraud = train3_fraud.sample(frac=1, random_state=1)\n",
        "  \n",
        "#       X_train3 = train3_normal.append(Xfraud)\n",
        "\n",
        "#       X_train3 = X_train3.sort_index()\n",
        "\n",
        "#       y_train3 = X_train3['Class']\n",
        "\n",
        "#       X_train3 = X_train3.drop(['Class'], axis=1)\n",
        "      \n",
        "#       ifor5 = iForest(X_train3,tree,sample,th)\n",
        "\n",
        "#       y_pred = ifor5.predict(X_val)\n",
        "\n",
        "#       y_pred = np.array(convert(y_pred))\n",
        "\n",
        "#       ifval_scores = ifor5.score_samples(X_val)\n",
        "\n",
        "#       ifval_scores = -ifval_scores\n",
        "      \n",
        "#       roc_auc, aucpr = roc_aucpr(y_val, ifval_scores)\n",
        "      \n",
        "#       precision,recall,f1_score = metric_evaluasi(y_val,y_pred)\n",
        "      \n",
        "#       result = [tree,sample,th,precision,recall,f1_score, roc_auc, aucpr]\n",
        "      \n",
        "#       hasil5.append(result)\n",
        "      \n",
        "#       progress = (num/150)*100\n",
        "      \n",
        "#       num=num+1\n",
        "      \n",
        "#       print('Progress training : ', math.floor(progress),'%')"
      ],
      "execution_count": 0,
      "outputs": []
    },
    {
      "cell_type": "code",
      "metadata": {
        "id": "X2hN1-s0DuFD",
        "colab_type": "code",
        "colab": {}
      },
      "source": [
        "# hasil_percobaan5 = pd.DataFrame(data= hasil5, columns=['jumlah tree','sample','threshold','Precision','Recall','F1_Score','ROC_AUC','AUCPR'])\n",
        "# hasil_percobaan5"
      ],
      "execution_count": 0,
      "outputs": []
    },
    {
      "cell_type": "code",
      "metadata": {
        "id": "bVNtOmJODxh-",
        "colab_type": "code",
        "colab": {}
      },
      "source": [
        "# maxi = hasil_percobaan5['F1_Score'].max()\n",
        "# terbaik5 = hasil_percobaan5[(hasil_percobaan5['F1_Score']== maxi)]\n",
        "# terbaik5"
      ],
      "execution_count": 0,
      "outputs": []
    },
    {
      "cell_type": "code",
      "metadata": {
        "id": "m1z5hccSI1LG",
        "colab_type": "code",
        "colab": {}
      },
      "source": [
        ""
      ],
      "execution_count": 0,
      "outputs": []
    },
    {
      "cell_type": "code",
      "metadata": {
        "id": "EyezFJawD68J",
        "colab_type": "code",
        "colab": {}
      },
      "source": [
        "# Xfraud = train3_fraud.sample(frac=1, random_state=1)\n",
        "  \n",
        "# X_train3 = train3_normal.append(Xfraud)\n",
        "\n",
        "# X_train3 = X_train3.sort_index()\n",
        "\n",
        "# y_train3 = X_train3['Class']\n",
        "\n",
        "# X_train3 = X_train3.drop(['Class'], axis=1)\n",
        "\n",
        "# ifor5 = iForest(X_train3,25,64,0.0015)\n",
        "\n",
        "# y_pred = ifor5.predict(X_val)\n",
        "\n",
        "# y_pred = np.array(convert(y_pred))\n",
        "\n",
        "# ifval_scores = ifor5.score_samples(X_val)\n",
        "\n",
        "# ifval_scores = -ifval_scores\n",
        "\n",
        "# val_predictions = pd.DataFrame({\n",
        "\n",
        "#     \"predicted_class\": y_pred,\n",
        "\n",
        "#     \"class\": y_val,\n",
        "\n",
        "#     \"predict\": ifval_scores\n",
        "\n",
        "# })\n",
        "\n",
        "# figure()\n",
        "# axes = prediction_summary(\n",
        "\n",
        "#     val_predictions[\"class\"], val_predictions[\"predict\"], val_predictions[\"predicted_class\"],'validasi')"
      ],
      "execution_count": 0,
      "outputs": []
    },
    {
      "cell_type": "code",
      "metadata": {
        "id": "5K-yIv_VIU-W",
        "colab_type": "code",
        "colab": {}
      },
      "source": [
        "# testing5 = []\n",
        "# iftest_predict = ifor5.predict(Xtest_new)\n",
        "\n",
        "# iftest_scores = ifor5.score_samples(Xtest_new)\n",
        "\n",
        "# roc_auc, aucpr = roc_aucpr(ytest, -iftest_scores)\n",
        "  \n",
        "# precision,recall,f1_score = metric_evaluasi(ytest,np.array(convert(iftest_predict)))\n",
        "\n",
        "# result4 = [precision,recall,f1_score,roc_auc,aucpr]\n",
        "# testing5.append(result4)\n",
        "\n",
        "# test_predictions = pd.DataFrame({\n",
        "\n",
        "#     \"predicted_class\": list(map(lambda x: 1*(x == -1), iftest_predict)),\n",
        "\n",
        "#     \"class\": ytest,\n",
        "\n",
        "#     \"predict\": -iftest_scores\n",
        "\n",
        "# })\n",
        "\n",
        "# figure()\n",
        "# axes = prediction_summary(\n",
        "#     test_predictions[\"class\"], test_predictions[\"predict\"], test_predictions[\"predicted_class\"],'test')"
      ],
      "execution_count": 0,
      "outputs": []
    },
    {
      "cell_type": "code",
      "metadata": {
        "id": "c9cRNN4LIcCk",
        "colab_type": "code",
        "colab": {}
      },
      "source": [
        "# hasil_testing5 = pd.DataFrame(data= testing5, columns=['Precision','Recall','F1_Score','ROC_AUC','AUCPR'])\n",
        "# hasil_testing5"
      ],
      "execution_count": 0,
      "outputs": []
    },
    {
      "cell_type": "code",
      "metadata": {
        "id": "vyuStdH8IiSD",
        "colab_type": "code",
        "colab": {}
      },
      "source": [
        "# hasil_percobaan5.to_csv('ulb-tuning-hyperparameter100.csv')\n"
      ],
      "execution_count": 0,
      "outputs": []
    },
    {
      "cell_type": "code",
      "metadata": {
        "id": "Xufhp82kKHbO",
        "colab_type": "code",
        "colab": {}
      },
      "source": [
        "# files.download('ulb-tuning-hyperparameter100.csv')"
      ],
      "execution_count": 0,
      "outputs": []
    },
    {
      "cell_type": "code",
      "metadata": {
        "id": "J6DaoOaY5yU3",
        "colab_type": "code",
        "colab": {}
      },
      "source": [
        ""
      ],
      "execution_count": 0,
      "outputs": []
    }
  ]
}